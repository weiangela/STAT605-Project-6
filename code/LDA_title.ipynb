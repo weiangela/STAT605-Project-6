{
 "cells": [
  {
   "cell_type": "code",
   "execution_count": 1,
   "id": "494cc1c0",
   "metadata": {},
   "outputs": [],
   "source": [
    "import pandas as pd\n",
    "import pickle"
   ]
  },
  {
   "cell_type": "code",
   "execution_count": 2,
   "id": "27427f1e",
   "metadata": {},
   "outputs": [
    {
     "data": {
      "text/plain": [
       "Index(['cord_uid', 'title', 'abs_n', 'abs_v', 'abs_aj', 'abs_av'], dtype='object')"
      ]
     },
     "execution_count": 2,
     "metadata": {},
     "output_type": "execute_result"
    }
   ],
   "source": [
    "with open('meta_words', 'rb') as file:\n",
    "    meta_data = pickle.load(file)\n",
    "\n",
    "df = pd.DataFrame(meta_data)\n",
    "df.columns"
   ]
  },
  {
   "cell_type": "code",
   "execution_count": 3,
   "id": "a1853b4b",
   "metadata": {},
   "outputs": [
    {
     "data": {
      "text/html": [
       "<div>\n",
       "<style scoped>\n",
       "    .dataframe tbody tr th:only-of-type {\n",
       "        vertical-align: middle;\n",
       "    }\n",
       "\n",
       "    .dataframe tbody tr th {\n",
       "        vertical-align: top;\n",
       "    }\n",
       "\n",
       "    .dataframe thead th {\n",
       "        text-align: right;\n",
       "    }\n",
       "</style>\n",
       "<table border=\"1\" class=\"dataframe\">\n",
       "  <thead>\n",
       "    <tr style=\"text-align: right;\">\n",
       "      <th></th>\n",
       "      <th>cord_uid</th>\n",
       "      <th>title</th>\n",
       "      <th>abs_n</th>\n",
       "      <th>abs_v</th>\n",
       "      <th>abs_aj</th>\n",
       "      <th>abs_av</th>\n",
       "    </tr>\n",
       "  </thead>\n",
       "  <tbody>\n",
       "    <tr>\n",
       "      <th>0</th>\n",
       "      <td>ug7v899j</td>\n",
       "      <td>[clinical, features, culture-proven, mycoplasm...</td>\n",
       "      <td>[objective, retrospective, chart, review, desc...</td>\n",
       "      <td>[identify, review, identify, require, occur, a...</td>\n",
       "      <td>[clinical, positive, most, community-acquired,...</td>\n",
       "      <td>[more]</td>\n",
       "    </tr>\n",
       "    <tr>\n",
       "      <th>1</th>\n",
       "      <td>02tnwd4m</td>\n",
       "      <td>[nitric, oxide, pro-inflammatory, mediator, lu...</td>\n",
       "      <td>[inflammatory, disease, respiratory, tract, pr...</td>\n",
       "      <td>[associate, elevate, increase, know, presume, ...</td>\n",
       "      <td>[nitric, oxidative, anti-microbial, anti-oxida...</td>\n",
       "      <td>[commonly, often, comprehensively, instead]</td>\n",
       "    </tr>\n",
       "    <tr>\n",
       "      <th>2</th>\n",
       "      <td>ejv2xln0</td>\n",
       "      <td>[surfactant, protein-d, pulmonary, host, defense]</td>\n",
       "      <td>[surfactant, protein-d, sp-d, participates, in...</td>\n",
       "      <td>[inhale, synthesize, secrete, express, line, e...</td>\n",
       "      <td>[organic, epithelial, epithelial, various, gen...</td>\n",
       "      <td>[also, also, specifically, abnormally, appropr...</td>\n",
       "    </tr>\n",
       "    <tr>\n",
       "      <th>3</th>\n",
       "      <td>2b73a28n</td>\n",
       "      <td>[role, endothelin-1, lung, disease]</td>\n",
       "      <td>[endothelin-1, et-1, amino, acid, peptide, div...</td>\n",
       "      <td>[implicate]</td>\n",
       "      <td>[biological, numerous, pulmonary]</td>\n",
       "      <td>[]</td>\n",
       "    </tr>\n",
       "    <tr>\n",
       "      <th>4</th>\n",
       "      <td>9785vg6d</td>\n",
       "      <td>[gene, expression, epithelial, cells, response...</td>\n",
       "      <td>[respiratory, virus, rsv, pneumonia, virus, mo...</td>\n",
       "      <td>[include, understand, include]</td>\n",
       "      <td>[syncytial, important, epithelial, viral, spec...</td>\n",
       "      <td>[subfamily, clinically, respectively, incomple...</td>\n",
       "    </tr>\n",
       "  </tbody>\n",
       "</table>\n",
       "</div>"
      ],
      "text/plain": [
       "   cord_uid                                              title   \n",
       "0  ug7v899j  [clinical, features, culture-proven, mycoplasm...  \\\n",
       "1  02tnwd4m  [nitric, oxide, pro-inflammatory, mediator, lu...   \n",
       "2  ejv2xln0  [surfactant, protein-d, pulmonary, host, defense]   \n",
       "3  2b73a28n                [role, endothelin-1, lung, disease]   \n",
       "4  9785vg6d  [gene, expression, epithelial, cells, response...   \n",
       "\n",
       "                                               abs_n   \n",
       "0  [objective, retrospective, chart, review, desc...  \\\n",
       "1  [inflammatory, disease, respiratory, tract, pr...   \n",
       "2  [surfactant, protein-d, sp-d, participates, in...   \n",
       "3  [endothelin-1, et-1, amino, acid, peptide, div...   \n",
       "4  [respiratory, virus, rsv, pneumonia, virus, mo...   \n",
       "\n",
       "                                               abs_v   \n",
       "0  [identify, review, identify, require, occur, a...  \\\n",
       "1  [associate, elevate, increase, know, presume, ...   \n",
       "2  [inhale, synthesize, secrete, express, line, e...   \n",
       "3                                        [implicate]   \n",
       "4                     [include, understand, include]   \n",
       "\n",
       "                                              abs_aj   \n",
       "0  [clinical, positive, most, community-acquired,...  \\\n",
       "1  [nitric, oxidative, anti-microbial, anti-oxida...   \n",
       "2  [organic, epithelial, epithelial, various, gen...   \n",
       "3                  [biological, numerous, pulmonary]   \n",
       "4  [syncytial, important, epithelial, viral, spec...   \n",
       "\n",
       "                                              abs_av  \n",
       "0                                             [more]  \n",
       "1        [commonly, often, comprehensively, instead]  \n",
       "2  [also, also, specifically, abnormally, appropr...  \n",
       "3                                                 []  \n",
       "4  [subfamily, clinically, respectively, incomple...  "
      ]
     },
     "execution_count": 3,
     "metadata": {},
     "output_type": "execute_result"
    }
   ],
   "source": [
    "df.head()"
   ]
  },
  {
   "cell_type": "code",
   "execution_count": 4,
   "id": "d57e6cbd",
   "metadata": {},
   "outputs": [
    {
     "data": {
      "text/plain": [
       "0    [clinical, features, culture-proven, mycoplasm...\n",
       "1    [nitric, oxide, pro-inflammatory, mediator, lu...\n",
       "2    [surfactant, protein-d, pulmonary, host, defense]\n",
       "3                  [role, endothelin-1, lung, disease]\n",
       "4    [gene, expression, epithelial, cells, response...\n",
       "Name: title, dtype: object"
      ]
     },
     "execution_count": 4,
     "metadata": {},
     "output_type": "execute_result"
    }
   ],
   "source": [
    "df['title'].head()"
   ]
  },
  {
   "cell_type": "code",
   "execution_count": 5,
   "id": "fcdd9986",
   "metadata": {},
   "outputs": [],
   "source": [
    "from gensim import corpora, models\n",
    "from pprint import pprint"
   ]
  },
  {
   "cell_type": "code",
   "execution_count": 6,
   "id": "13fd2e4f",
   "metadata": {},
   "outputs": [],
   "source": [
    "data = df['title'].apply(lambda x: [str(x)] if not isinstance(x, list) else [str(item) for item in x])\n",
    "dictionary = corpora.Dictionary(data)"
   ]
  },
  {
   "cell_type": "code",
   "execution_count": 7,
   "id": "0d2be735",
   "metadata": {},
   "outputs": [],
   "source": [
    "corpus = [dictionary.doc2bow(doc) for doc in data]"
   ]
  },
  {
   "cell_type": "code",
   "execution_count": 8,
   "id": "59ad639d",
   "metadata": {},
   "outputs": [],
   "source": [
    "lda_model = models.LdaModel(corpus, num_topics=5, id2word=dictionary, passes=15)"
   ]
  },
  {
   "cell_type": "code",
   "execution_count": 9,
   "id": "47595958",
   "metadata": {},
   "outputs": [
    {
     "name": "stdout",
     "output_type": "stream",
     "text": [
      "[(0,\n",
      "  '0.068*\"covid-19\" + 0.042*\"pandemic\" + 0.024*\"health\" + 0.011*\"impact\" + '\n",
      "  '0.011*\"care\" + 0.010*\"among\" + 0.009*\"study\" + 0.007*\"social\" + 0.007*\"de\" '\n",
      "  '+ 0.007*\"healthcare\"'),\n",
      " (1,\n",
      "  '0.080*\"covid-19\" + 0.039*\"patients\" + 0.015*\"disease\" + 0.015*\"review\" + '\n",
      "  '0.014*\"case\" + 0.013*\"study\" + 0.011*\"clinical\" + 0.011*\"acute\" + '\n",
      "  '0.010*\"covid‐19\" + 0.009*\"severe\"'),\n",
      " (2,\n",
      "  '0.027*\"using\" + 0.016*\"detection\" + 0.011*\"based\" + 0.011*\"model\" + '\n",
      "  '0.010*\"learning\" + 0.010*\"analysis\" + 0.009*\"approach\" + 0.009*\"data\" + '\n",
      "  '0.008*\"rapid\" + 0.007*\"network\"'),\n",
      " (3,\n",
      "  '0.030*\"study\" + 0.013*\"trial\" + 0.011*\"protocol\" + 0.009*\"people\" + '\n",
      "  '0.009*\"children\" + 0.009*\"psychological\" + 0.009*\"practice\" + '\n",
      "  '0.009*\"online\" + 0.008*\"hospitalized\" + 0.008*\"randomized\"'),\n",
      " (4,\n",
      "  '0.048*\"sars-cov-2\" + 0.024*\"coronavirus\" + 0.014*\"infection\" + '\n",
      "  '0.013*\"virus\" + 0.010*\"human\" + 0.009*\"viral\" + 0.008*\"disease\" + '\n",
      "  '0.008*\"potential\" + 0.007*\"respiratory\" + 0.007*\"protein\"')]\n"
     ]
    }
   ],
   "source": [
    "pprint(lda_model.print_topics())"
   ]
  },
  {
   "cell_type": "code",
   "execution_count": 9,
   "id": "bb006a16",
   "metadata": {},
   "outputs": [
    {
     "name": "stdout",
     "output_type": "stream",
     "text": [
      "(0, '0.031*\"covid-19\" + 0.018*\"using\" + 0.015*\"de\" + 0.012*\"learning\" + 0.012*\"medical\" + 0.010*\"cross-sectional\" + 0.008*\"la\" + 0.008*\"based\" + 0.007*\"students\" + 0.007*\"education\" + 0.007*\"symptoms\" + 0.007*\"en\" + 0.006*\"data\" + 0.006*\"model\" + 0.006*\"testing\" + 0.006*\"medicine\" + 0.006*\"network\" + 0.005*\"approach\" + 0.005*\"analysis\" + 0.005*\"prediction\" + 0.005*\"deep\" + 0.004*\"online\" + 0.004*\"methods\" + 0.004*\"longitudinal\" + 0.004*\"program\" + 0.004*\"media\" + 0.004*\"study\" + 0.004*\"depression\" + 0.004*\"intervention\" + 0.004*\"evaluation\" + 0.003*\"system\" + 0.003*\"machine\" + 0.003*\"detection\" + 0.003*\"social\" + 0.003*\"exploring\" + 0.003*\"monitoring\" + 0.003*\"stress\" + 0.003*\"diagnostic\" + 0.003*\"application\" + 0.003*\"remote\" + 0.003*\"disorder\" + 0.003*\"face\" + 0.003*\"science\" + 0.003*\"home\" + 0.003*\"models\" + 0.003*\"society\" + 0.003*\"distancing\" + 0.003*\"chinese\" + 0.003*\"et\" + 0.003*\"randomised\" + 0.003*\"artificial\" + 0.003*\"level\" + 0.003*\"predicting\" + 0.003*\"dental\" + 0.003*\"behaviors\" + 0.003*\"development\" + 0.002*\"use\" + 0.002*\"perception\" + 0.002*\"guidelines\" + 0.002*\"value\" + 0.002*\"intelligence\" + 0.002*\"networks\" + 0.002*\"general\" + 0.002*\"diagnosis\" + 0.002*\"method\" + 0.002*\"nurses\" + 0.002*\"improving\" + 0.002*\"por\" + 0.002*\"covid19\" + 0.002*\"staff\" + 0.002*\"air\" + 0.002*\"images\" + 0.002*\"sample\" + 0.002*\"chest\" + 0.002*\"masks\" + 0.002*\"neural\" + 0.002*\"working\" + 0.002*\"experience\" + 0.002*\"novel\" + 0.002*\"scale\" + 0.002*\"oncology\" + 0.002*\"prognostic\" + 0.002*\"engagement\" + 0.002*\"tool\" + 0.002*\"digital\" + 0.002*\"integrated\" + 0.002*\"residents\" + 0.002*\"student\" + 0.002*\"action\" + 0.002*\"repurposing\" + 0.002*\"preventive\" + 0.002*\"test\" + 0.002*\"predictive\" + 0.002*\"theory\" + 0.002*\"mask\" + 0.002*\"el\" + 0.002*\"american\" + 0.002*\"classification\" + 0.002*\"college\" + 0.002*\"identifying\"')\n",
      "(1, '0.061*\"covid-19\" + 0.037*\"patients\" + 0.018*\"study\" + 0.015*\"clinical\" + 0.014*\"disease\" + 0.013*\"review\" + 0.013*\"case\" + 0.010*\"acute\" + 0.010*\"infection\" + 0.009*\"treatment\" + 0.009*\"severe\" + 0.009*\"covid‐19\" + 0.008*\"syndrome\" + 0.008*\"respiratory\" + 0.008*\"systematic\" + 0.007*\"patient\" + 0.007*\"report\" + 0.007*\"outcomes\" + 0.007*\"risk\" + 0.007*\"mortality\" + 0.006*\"associated\" + 0.006*\"pneumonia\" + 0.006*\"care\" + 0.006*\"cohort\" + 0.005*\"trial\" + 0.005*\"cancer\" + 0.005*\"therapy\" + 0.005*\"management\" + 0.005*\"children\" + 0.004*\"retrospective\" + 0.004*\"cases\" + 0.004*\"meta-analysis\" + 0.004*\"characteristics\" + 0.004*\"severity\" + 0.004*\"hospital\" + 0.004*\"practice\" + 0.004*\"protocol\" + 0.004*\"experience\" + 0.003*\"lung\" + 0.003*\"surgery\" + 0.003*\"hospitalized\" + 0.003*\"pulmonary\" + 0.003*\"vaccination\" + 0.003*\"factors\" + 0.003*\"randomized\" + 0.003*\"controlled\" + 0.003*\"use\" + 0.003*\"association\" + 0.003*\"pediatric\" + 0.003*\"us\" + 0.003*\"early\" + 0.003*\"prospective\" + 0.003*\"efficacy\" + 0.003*\"chronic\" + 0.003*\"following\" + 0.003*\"workers\" + 0.003*\"observational\" + 0.003*\"injury\" + 0.003*\"inflammatory\" + 0.003*\"among\" + 0.003*\"literature\" + 0.002*\"distress\" + 0.002*\"impact\" + 0.002*\"safety\" + 0.002*\"infections\" + 0.002*\"vaccine\" + 0.002*\"uk\" + 0.002*\"due\" + 0.002*\"effect\" + 0.002*\"ill\" + 0.002*\"center\" + 0.002*\"outcome\" + 0.002*\"cardiac\" + 0.002*\"series\" + 0.002*\"covid\" + 0.002*\"failure\" + 0.002*\"intensive\" + 0.002*\"critically\" + 0.002*\"findings\" + 0.002*\"behavior\" + 0.002*\"emergency\" + 0.002*\"plasma\" + 0.002*\"adults\" + 0.002*\"diseases\" + 0.002*\"ct\" + 0.002*\"diagnosis\" + 0.002*\"analysis\" + 0.002*\"results\" + 0.002*\"liver\" + 0.002*\"heart\" + 0.002*\"living\" + 0.002*\"tertiary\" + 0.002*\"unit\" + 0.002*\"features\" + 0.002*\"trials\" + 0.002*\"blood\" + 0.002*\"death\" + 0.002*\"multiple\" + 0.002*\"work\" + 0.001*\"disorders\"')\n",
      "(2, '0.051*\"sars-cov-2\" + 0.014*\"virus\" + 0.013*\"infection\" + 0.011*\"human\" + 0.010*\"viral\" + 0.008*\"potential\" + 0.007*\"protein\" + 0.007*\"detection\" + 0.006*\"immune\" + 0.006*\"cells\" + 0.006*\"cell\" + 0.006*\"respiratory\" + 0.006*\"vaccine\" + 0.005*\"molecular\" + 0.005*\"novel\" + 0.005*\"analysis\" + 0.005*\"infectious\" + 0.005*\"era\" + 0.005*\"antibody\" + 0.005*\"response\" + 0.005*\"spike\" + 0.005*\"antibodies\" + 0.004*\"diseases\" + 0.004*\"rna\" + 0.004*\"viruses\" + 0.004*\"infections\" + 0.004*\"influenza\" + 0.004*\"responses\" + 0.003*\"rapid\" + 0.003*\"role\" + 0.003*\"identification\" + 0.003*\"receptor\" + 0.003*\"using\" + 0.003*\"system\" + 0.003*\"expression\" + 0.003*\"variants\" + 0.003*\"immunity\" + 0.003*\"therapeutic\" + 0.003*\"antiviral\" + 0.003*\"characterization\" + 0.003*\"department\" + 0.003*\"ace2\" + 0.003*\"development\" + 0.003*\"kidney\" + 0.002*\"natural\" + 0.002*\"host\" + 0.002*\"proteins\" + 0.002*\"targeting\" + 0.002*\"vaccines\" + 0.002*\"mechanisms\" + 0.002*\"emerging\" + 0.002*\"protease\" + 0.002*\"variant\" + 0.002*\"genetic\" + 0.002*\"gene\" + 0.002*\"new\" + 0.002*\"italian\" + 0.002*\"dynamics\" + 0.002*\"mrna\" + 0.002*\"binding\" + 0.002*\"technology\" + 0.002*\"porcine\" + 0.002*\"disease\" + 0.002*\"sars\" + 0.002*\"resilience\" + 0.002*\"mice\" + 0.002*\"evaluation\" + 0.002*\"reveals\" + 0.002*\"sars‐cov‐2\" + 0.002*\"acid\" + 0.002*\"vitro\" + 0.002*\"replication\" + 0.002*\"assay\" + 0.002*\"coronaviruses\" + 0.002*\"genome\" + 0.002*\"activity\" + 0.002*\"model\" + 0.002*\"neutralizing\" + 0.002*\"effects\" + 0.002*\"sequencing\" + 0.002*\"structural\" + 0.002*\"interactions\" + 0.002*\"pain\" + 0.002*\"structure\" + 0.002*\"synthesis\" + 0.002*\"main\" + 0.002*\"hepatitis\" + 0.002*\"academic\" + 0.002*\"via\" + 0.002*\"period\" + 0.002*\"stem\" + 0.002*\"tests\" + 0.002*\"infected\" + 0.002*\"different\" + 0.002*\"domain\" + 0.002*\"two\" + 0.002*\"antigen\" + 0.002*\"evolution\" + 0.002*\"silico\" + 0.002*\"cellular\"')\n",
      "(3, '0.070*\"covid-19\" + 0.044*\"pandemic\" + 0.024*\"health\" + 0.019*\"coronavirus\" + 0.013*\"study\" + 0.013*\"impact\" + 0.011*\"among\" + 0.010*\"care\" + 0.007*\"china\" + 0.007*\"healthcare\" + 0.007*\"covid‐19\" + 0.006*\"outbreak\" + 0.006*\"analysis\" + 0.006*\"survey\" + 0.006*\"mental\" + 0.006*\"social\" + 0.006*\"public\" + 0.005*\"disease\" + 0.005*\"transmission\" + 0.005*\"global\" + 0.005*\"lockdown\" + 0.004*\"risk\" + 0.004*\"factors\" + 0.004*\"response\" + 0.004*\"epidemic\" + 0.004*\"strategies\" + 0.004*\"people\" + 0.004*\"psychological\" + 0.004*\"control\" + 0.004*\"role\" + 0.003*\"community\" + 0.003*\"use\" + 0.003*\"united\" + 0.003*\"prevalence\" + 0.003*\"india\" + 0.003*\"emergency\" + 0.003*\"effects\" + 0.003*\"data\" + 0.003*\"challenges\" + 0.003*\"management\" + 0.003*\"research\" + 0.003*\"national\" + 0.003*\"adults\" + 0.003*\"lessons\" + 0.003*\"population\" + 0.003*\"time\" + 0.003*\"first\" + 0.003*\"states\" + 0.003*\"qualitative\" + 0.003*\"perspective\" + 0.003*\"evidence\" + 0.003*\"countries\" + 0.003*\"crisis\" + 0.003*\"model\" + 0.003*\"italy\" + 0.003*\"training\" + 0.003*\"food\" + 0.003*\"spread\" + 0.003*\"services\" + 0.003*\"surveillance\" + 0.003*\"experiences\" + 0.003*\"review\" + 0.003*\"children\" + 0.003*\"south\" + 0.003*\"perspectives\" + 0.002*\"measures\" + 0.002*\"anxiety\" + 0.002*\"prevention\" + 0.002*\"knowledge\" + 0.002*\"early\" + 0.002*\"assessment\" + 0.002*\"implications\" + 0.002*\"new\" + 0.002*\"vaccine\" + 0.002*\"vaccination\" + 0.002*\"changes\" + 0.002*\"status\" + 0.002*\"interventions\" + 0.002*\"policy\" + 0.002*\"older\" + 0.002*\"africa\" + 0.002*\"wave\" + 0.002*\"incidence\" + 0.002*\"young\" + 0.002*\"system\" + 0.002*\"current\" + 0.002*\"hospital\" + 0.002*\"understanding\" + 0.002*\"trends\" + 0.002*\"need\" + 0.002*\"support\" + 0.002*\"implementation\" + 0.002*\"perceptions\" + 0.002*\"change\" + 0.002*\"effect\" + 0.002*\"state\" + 0.002*\"practices\" + 0.002*\"urban\" + 0.002*\"across\" + 0.002*\"school\"')\n",
      "(4, '0.011*\"quality\" + 0.010*\"future\" + 0.010*\"screening\" + 0.008*\"development\" + 0.008*\"drug\" + 0.008*\"activity\" + 0.008*\"physical\" + 0.007*\"diabetes\" + 0.007*\"inhibitors\" + 0.007*\"performance\" + 0.007*\"virtual\" + 0.006*\"workers\" + 0.006*\"cancer\" + 0.006*\"research\" + 0.006*\"new\" + 0.006*\"university\" + 0.006*\"life\" + 0.006*\"nursing\" + 0.006*\"framework\" + 0.005*\"recommendations\" + 0.005*\"covid\" + 0.005*\"delivery\" + 0.005*\"applications\" + 0.005*\"potential\" + 0.005*\"impacts\" + 0.005*\"validation\" + 0.004*\"asymptomatic\" + 0.004*\"review\" + 0.004*\"well-being\" + 0.004*\"drugs\" + 0.004*\"assessing\" + 0.004*\"breast\" + 0.004*\"world\" + 0.004*\"type\" + 0.004*\"saudi\" + 0.004*\"recent\" + 0.004*\"antimicrobial\" + 0.003*\"key\" + 0.003*\"evaluating\" + 0.003*\"international\" + 0.003*\"spain\" + 0.003*\"properties\" + 0.003*\"sustainable\" + 0.003*\"arabia\" + 0.003*\"testing\" + 0.003*\"neurological\" + 0.003*\"call\" + 0.003*\"nationwide\" + 0.003*\"mobile\" + 0.003*\"assessment\" + 0.003*\"gender\" + 0.003*\"platform\" + 0.003*\"challenges\" + 0.003*\"design\" + 0.003*\"long\" + 0.003*\"resistance\" + 0.003*\"seroprevalence\" + 0.003*\"climate\" + 0.003*\"approach\" + 0.002*\"targets\" + 0.002*\"restrictions\" + 0.002*\"prognosis\" + 0.002*\"supply\" + 0.002*\"suspected\" + 0.002*\"fear\" + 0.002*\"advances\" + 0.002*\"problems\" + 0.002*\"systems\" + 0.002*\"evaluation\" + 0.002*\"satisfaction\" + 0.002*\"facilities\" + 0.002*\"tomography\" + 0.002*\"potent\" + 0.002*\"innovation\" + 0.002*\"communities\" + 0.002*\"cities\" + 0.002*\"therapeutics\" + 0.002*\"studies\" + 0.002*\"progress\" + 0.002*\"resources\" + 0.002*\"spanish\" + 0.002*\"resource\" + 0.002*\"application\" + 0.002*\"computed\" + 0.002*\"industry\" + 0.002*\"intervention\" + 0.002*\"examination\" + 0.002*\"small\" + 0.002*\"mers-cov\" + 0.002*\"simulation\" + 0.002*\"commentary\" + 0.002*\"year\" + 0.002*\"areas\" + 0.002*\"pakistan\" + 0.002*\"usa\" + 0.002*\"olfactory\" + 0.002*\"vaccines\" + 0.002*\"editorial\" + 0.002*\"delta\" + 0.002*\"nigeria\"')\n"
     ]
    }
   ],
   "source": [
    "topics = lda_model.print_topics(num_words=100)\n",
    "for topic in topics:\n",
    "    print(topic)"
   ]
  },
  {
   "cell_type": "code",
   "execution_count": 10,
   "id": "38b22622",
   "metadata": {},
   "outputs": [
    {
     "name": "stdout",
     "output_type": "stream",
     "text": [
      "Requirement already satisfied: pyLDAvis in /Library/Frameworks/Python.framework/Versions/3.10/lib/python3.10/site-packages (3.4.1)\n",
      "Requirement already satisfied: numpy>=1.24.2 in /Library/Frameworks/Python.framework/Versions/3.10/lib/python3.10/site-packages (from pyLDAvis) (1.26.2)\n",
      "Requirement already satisfied: scipy in /Library/Frameworks/Python.framework/Versions/3.10/lib/python3.10/site-packages (from pyLDAvis) (1.10.1)\n",
      "Requirement already satisfied: pandas>=2.0.0 in /Library/Frameworks/Python.framework/Versions/3.10/lib/python3.10/site-packages (from pyLDAvis) (2.0.1)\n",
      "Requirement already satisfied: joblib>=1.2.0 in /Library/Frameworks/Python.framework/Versions/3.10/lib/python3.10/site-packages (from pyLDAvis) (1.3.2)\n",
      "Requirement already satisfied: jinja2 in /Library/Frameworks/Python.framework/Versions/3.10/lib/python3.10/site-packages (from pyLDAvis) (3.1.2)\n",
      "Requirement already satisfied: numexpr in /Library/Frameworks/Python.framework/Versions/3.10/lib/python3.10/site-packages (from pyLDAvis) (2.8.7)\n",
      "Requirement already satisfied: funcy in /Library/Frameworks/Python.framework/Versions/3.10/lib/python3.10/site-packages (from pyLDAvis) (2.0)\n",
      "Requirement already satisfied: scikit-learn>=1.0.0 in /Library/Frameworks/Python.framework/Versions/3.10/lib/python3.10/site-packages (from pyLDAvis) (1.3.2)\n",
      "Requirement already satisfied: gensim in /Library/Frameworks/Python.framework/Versions/3.10/lib/python3.10/site-packages (from pyLDAvis) (4.3.2)\n",
      "Requirement already satisfied: setuptools in /Library/Frameworks/Python.framework/Versions/3.10/lib/python3.10/site-packages (from pyLDAvis) (65.5.0)\n",
      "Requirement already satisfied: python-dateutil>=2.8.2 in /Library/Frameworks/Python.framework/Versions/3.10/lib/python3.10/site-packages (from pandas>=2.0.0->pyLDAvis) (2.8.2)\n",
      "Requirement already satisfied: pytz>=2020.1 in /Library/Frameworks/Python.framework/Versions/3.10/lib/python3.10/site-packages (from pandas>=2.0.0->pyLDAvis) (2023.3)\n",
      "Requirement already satisfied: tzdata>=2022.1 in /Library/Frameworks/Python.framework/Versions/3.10/lib/python3.10/site-packages (from pandas>=2.0.0->pyLDAvis) (2023.3)\n",
      "Requirement already satisfied: threadpoolctl>=2.0.0 in /Library/Frameworks/Python.framework/Versions/3.10/lib/python3.10/site-packages (from scikit-learn>=1.0.0->pyLDAvis) (3.2.0)\n",
      "Requirement already satisfied: smart-open>=1.8.1 in /Library/Frameworks/Python.framework/Versions/3.10/lib/python3.10/site-packages (from gensim->pyLDAvis) (6.4.0)\n",
      "Requirement already satisfied: MarkupSafe>=2.0 in /Library/Frameworks/Python.framework/Versions/3.10/lib/python3.10/site-packages (from jinja2->pyLDAvis) (2.1.2)\n",
      "Requirement already satisfied: six>=1.5 in /Library/Frameworks/Python.framework/Versions/3.10/lib/python3.10/site-packages (from python-dateutil>=2.8.2->pandas>=2.0.0->pyLDAvis) (1.16.0)\n",
      "Note: you may need to restart the kernel to use updated packages.\n"
     ]
    }
   ],
   "source": [
    "pip install pyLDAvis"
   ]
  },
  {
   "cell_type": "code",
   "execution_count": 10,
   "id": "f240f2e0",
   "metadata": {},
   "outputs": [
    {
     "name": "stderr",
     "output_type": "stream",
     "text": [
      "/Library/Frameworks/Python.framework/Versions/3.10/lib/python3.10/site-packages/pandas/core/dtypes/cast.py:1429: DeprecationWarning: np.find_common_type is deprecated.  Please use `np.result_type` or `np.promote_types`.\n",
      "See https://numpy.org/devdocs/release/1.25.0-notes.html and the docs for more information.  (Deprecated NumPy 1.25)\n",
      "  return np.find_common_type(types, [])\n"
     ]
    }
   ],
   "source": [
    "import pyLDAvis\n",
    "import pyLDAvis.gensim_models as gensimvis\n",
    "\n",
    "vis_data = gensimvis.prepare(lda_model, corpus, dictionary)\n"
   ]
  },
  {
   "cell_type": "code",
   "execution_count": 11,
   "id": "9b3f1f24",
   "metadata": {},
   "outputs": [
    {
     "data": {
      "text/html": [
       "\n",
       "<link rel=\"stylesheet\" type=\"text/css\" href=\"https://cdn.jsdelivr.net/gh/bmabey/pyLDAvis@3.4.0/pyLDAvis/js/ldavis.v1.0.0.css\">\n",
       "\n",
       "\n",
       "<div id=\"ldavis_el3641352824341763701541852\" style=\"background-color:white;\"></div>\n",
       "<script type=\"text/javascript\">\n",
       "\n",
       "var ldavis_el3641352824341763701541852_data = {\"mdsDat\": {\"x\": [0.2137216183641675, 0.23959288353889674, -0.08623073810698008, -0.30386880545784395, -0.06321495833823998], \"y\": [-0.06994311037984045, -0.02869496952247048, -0.17307649288622864, -0.10004152101071712, 0.3717560937992567], \"topics\": [1, 2, 3, 4, 5], \"cluster\": [1, 1, 1, 1, 1], \"Freq\": [26.875325044046683, 24.394815878445677, 22.875266496252266, 13.89504270768785, 11.959549873567521]}, \"tinfo\": {\"Term\": [\"covid-19\", \"sars-cov-2\", \"pandemic\", \"patients\", \"health\", \"coronavirus\", \"study\", \"using\", \"case\", \"virus\", \"detection\", \"disease\", \"infection\", \"acute\", \"human\", \"trial\", \"review\", \"severe\", \"syndrome\", \"based\", \"impact\", \"viral\", \"care\", \"covid\\u201019\", \"protocol\", \"clinical\", \"learning\", \"systematic\", \"model\", \"children\", \"pandemic\", \"health\", \"de\", \"social\", \"healthcare\", \"survey\", \"mental\", \"medical\", \"public\", \"research\", \"cross-sectional\", \"global\", \"workers\", \"lockdown\", \"challenges\", \"la\", \"quality\", \"students\", \"covid\", \"future\", \"perspective\", \"united\", \"community\", \"en\", \"national\", \"lessons\", \"states\", \"qualitative\", \"countries\", \"crisis\", \"impact\", \"care\", \"covid-19\", \"among\", \"outbreak\", \"study\", \"covid\\u201019\", \"control\", \"analysis\", \"response\", \"china\", \"patients\", \"case\", \"acute\", \"severe\", \"syndrome\", \"systematic\", \"patient\", \"report\", \"outcomes\", \"mortality\", \"pneumonia\", \"cohort\", \"retrospective\", \"cases\", \"meta-analysis\", \"severity\", \"education\", \"india\", \"pediatric\", \"women\", \"chronic\", \"injury\", \"training\", \"services\", \"digital\", \"literature\", \"distress\", \"due\", \"uk\", \"ill\", \"characteristics\", \"review\", \"associated\", \"covid-19\", \"disease\", \"clinical\", \"risk\", \"treatment\", \"covid\\u201019\", \"study\", \"respiratory\", \"infection\", \"management\", \"factors\", \"cancer\", \"care\", \"sars-cov-2\", \"coronavirus\", \"virus\", \"human\", \"viral\", \"protein\", \"immune\", \"cells\", \"cell\", \"influenza\", \"infectious\", \"era\", \"antibody\", \"spike\", \"antibodies\", \"symptoms\", \"viruses\", \"sars\\u2010cov\\u20102\", \"antiviral\", \"inhibitors\", \"receptor\", \"expression\", \"variants\", \"immunity\", \"characterization\", \"ace2\", \"cardiovascular\", \"host\", \"proteins\", \"recommendations\", \"rna\", \"potential\", \"infection\", \"infections\", \"therapeutic\", \"novel\", \"vaccine\", \"respiratory\", \"disease\", \"diseases\", \"response\", \"transmission\", \"molecular\", \"responses\", \"role\", \"using\", \"detection\", \"based\", \"network\", \"application\", \"multiple\", \"prediction\", \"deep\", \"diagnostic\", \"models\", \"test\", \"wave\", \"applications\", \"machine\", \"stroke\", \"technology\", \"structural\", \"laboratory\", \"approaches\", \"modelling\", \"assay\", \"method\", \"teaching\", \"artificial\", \"predicting\", \"synthesis\", \"structure\", \"tests\", \"intelligence\", \"complex\", \"learning\", \"rapid\", \"approach\", \"model\", \"data\", \"design\", \"analysis\", \"evaluation\", \"diagnosis\", \"development\", \"system\", \"novel\", \"clinical\", \"trial\", \"protocol\", \"people\", \"psychological\", \"practice\", \"online\", \"hospitalized\", \"randomized\", \"controlled\", \"us\", \"physical\", \"observational\", \"diabetes\", \"longitudinal\", \"policy\", \"pilot\", \"exploring\", \"phase\", \"economic\", \"adolescents\", \"trials\", \"disorder\", \"telemedicine\", \"randomised\", \"elderly\", \"assessing\", \"world\", \"considerations\", \"saudi\", \"contact\", \"safety\", \"study\", \"children\", \"support\", \"effects\", \"activity\", \"use\", \"clinical\"], \"Freq\": [141825.0, 40859.0, 42639.0, 35920.0, 23656.0, 20675.0, 33931.0, 13827.0, 12499.0, 11542.0, 8444.0, 20744.0, 20046.0, 9969.0, 8825.0, 5930.0, 16849.0, 8581.0, 8522.0, 5930.0, 14673.0, 7623.0, 14921.0, 15004.0, 4957.0, 14654.0, 6967.0, 7319.0, 8157.0, 7439.0, 42638.82527013058, 23656.023958881644, 7187.446203052614, 7238.378272796412, 6596.996273675369, 6049.473834061336, 5961.249431497, 5800.052413003066, 5451.225625899896, 5242.321104888287, 4954.2549320553635, 4965.715641829446, 4869.67424835426, 4747.688491269512, 4161.951678793932, 4040.443548742097, 3914.693847380347, 3712.1905109964227, 3729.5181741821416, 3580.2962150437675, 3480.7884001054213, 3365.2403162953397, 3368.7467349292283, 3258.1241506583656, 3143.0756806300183, 3086.7358062824246, 3024.192861948123, 3022.370768614924, 2810.4956974965576, 2750.4821648830803, 11507.39746569801, 11098.079051145283, 68798.76380605377, 10057.272206638094, 5048.377864745068, 8908.507618597545, 6065.752916449528, 3578.2554237302675, 4803.06656230695, 3940.733642835858, 3726.3380482568296, 35919.88643345694, 12498.614366423468, 9968.222427874642, 8581.080979551829, 8521.732648262448, 7318.812809200189, 6946.810796948589, 6699.586946357979, 6335.171733722505, 6281.886217954422, 5359.888579375632, 5298.831976140446, 3947.565512558664, 3926.8178427739495, 3579.4938421242055, 3541.8282079187334, 3620.362433149761, 3308.5601280889437, 2855.7256002989184, 2765.3366556587575, 2742.548656095373, 2646.2525215039204, 2577.981515992026, 2550.2069164794634, 2509.45318689098, 2433.612154505157, 2345.4834961109595, 2226.2532904797727, 2231.6322452084496, 2095.835028863492, 3809.4651227028844, 13284.720946226274, 6840.273310896818, 73025.99554727544, 13604.959728299078, 10182.06937074564, 7590.7155206454245, 6353.080776125242, 8937.96332012204, 11707.954093270726, 6214.628795622899, 7970.738300678352, 4802.825046874466, 4313.197279786415, 4017.9086948280833, 3822.610706321623, 40858.94234325925, 20674.236619556414, 11541.617267126889, 8824.477748221274, 7622.84406876235, 5735.186571883133, 5166.353257236342, 5098.486466707979, 4892.974449882654, 4685.538444346474, 3862.5510787486273, 3854.9148503759484, 3744.374292854929, 3673.9109935551483, 3636.992071106779, 3751.775597109354, 3337.1890785671426, 2761.8384114329174, 2723.3767542452665, 2703.031330163266, 2603.797789906767, 2507.4263421282544, 2492.656185001841, 2466.7460456407507, 2232.9053655657312, 2172.4048397622905, 2153.472743066296, 1970.3637272400547, 1921.8696156735307, 2004.4022410927435, 3312.930376122086, 7008.226034350156, 12075.438128271415, 4342.073012635155, 2881.3321660064908, 5082.5144139019885, 5697.8348316101155, 6316.59111409183, 7139.25954033591, 3606.076455320986, 4391.3174877624415, 3578.1439776605507, 3240.174376698732, 2964.9980016639265, 3315.431322540315, 13826.977924301913, 8443.644974420913, 5929.26354661704, 3451.5139532576986, 3270.764219586821, 3041.4605018495777, 2857.920395505357, 2781.4476892036305, 2773.0103007395946, 2672.0020509278884, 2494.918475615556, 2406.2585379159705, 2139.608522626191, 2080.496254024667, 1935.8288422115268, 1922.097195046516, 1889.5859794141331, 1846.9336928083071, 1814.5750926874853, 1797.7061204698377, 1756.5633004371537, 1759.1652618846551, 1763.9513665606069, 1627.6683752288845, 1595.448725363834, 1498.8218226074812, 1503.0104049041752, 1455.8870400943601, 1438.0075645370898, 1448.3533724844413, 5367.999807296335, 4035.5302225365162, 4841.04867874289, 5731.127012186119, 4502.256754853463, 2469.0879979551837, 5344.883031759125, 3265.2168513250717, 2610.0602278576594, 2955.2225795743543, 2855.279977851297, 2655.5996323105596, 1877.9495908492067, 5929.439259434988, 4956.358605397225, 4136.949963111754, 4110.969980794523, 4079.372243647061, 3970.3241822915766, 3688.472183744033, 3494.5237051743634, 3487.1774904628833, 3303.1301330388237, 3125.114378240241, 3107.9205428275054, 2978.769429289387, 2403.047192297358, 2398.777357222769, 2216.5146663724727, 1934.4955049579362, 1920.335373730369, 1902.0365563774103, 1791.5874911677995, 1770.8936441949709, 1729.6509426987045, 1691.1830823426428, 1582.005745594378, 1590.196934249974, 1588.667799954211, 1559.4162758733064, 1526.5054879368547, 1506.1758395142185, 1495.7787463504128, 2855.287905642373, 13314.19302641543, 4134.580538762918, 2184.9718868799127, 3086.996456588308, 2410.1502610204852, 2609.3898710850026, 2594.0899930370283], \"Total\": [141825.0, 40859.0, 42639.0, 35920.0, 23656.0, 20675.0, 33931.0, 13827.0, 12499.0, 11542.0, 8444.0, 20744.0, 20046.0, 9969.0, 8825.0, 5930.0, 16849.0, 8581.0, 8522.0, 5930.0, 14673.0, 7623.0, 14921.0, 15004.0, 4957.0, 14654.0, 6967.0, 7319.0, 8157.0, 7439.0, 42639.6739385065, 23656.86982971215, 7188.285133793403, 7239.224339165622, 6597.8439877872825, 6050.321211680344, 5962.093640070292, 5800.901267119437, 5452.070026519623, 5243.17199395011, 4955.103034096864, 4966.567115025096, 4870.518893111389, 4748.536695606001, 4162.8016189643595, 4041.2810527847128, 3915.5474408329155, 3713.0339492649414, 3730.3777519008854, 3581.149267987826, 3481.642269084655, 3366.084861608841, 3369.5980132135387, 3258.961880979053, 3143.924642375471, 3087.5820863946356, 3025.0403253561367, 3023.2188031332325, 2811.3460930261767, 2751.3280921517808, 14673.959385004347, 14921.347656604681, 141825.4252910979, 13418.343528477682, 6254.947745578534, 33931.094669390906, 15004.37855672201, 4329.075490420981, 15392.342300799646, 8332.694952168567, 7128.812834556465, 35920.73157016372, 12499.461020701985, 9969.06630154312, 8581.924196240823, 8522.57769106483, 7319.657883958987, 6947.657678524687, 6700.4298393857025, 6336.016414663093, 6282.729764657687, 5360.733899532533, 5299.677139128239, 3948.408058771252, 3927.6678175103953, 3580.335385166431, 3542.6721100032573, 3621.2337983557604, 3309.418788603217, 2856.5726941520115, 2766.1899291768536, 2743.3964267026317, 2647.0958408263255, 2578.8519219796663, 2551.0757668807996, 2510.3227025589094, 2434.4579146595283, 2346.3324822401755, 2227.103636294988, 2232.4907004781867, 2096.6745919952323, 4097.875113542084, 16849.447319835934, 7929.427335399719, 141825.4252910979, 20744.86223078674, 14654.507125334174, 10461.523810240824, 9065.652621868852, 15004.37855672201, 33931.094669390906, 12531.858306595363, 20046.817026780933, 7726.105238565132, 7195.94955471863, 7144.785255534568, 14921.347656604681, 40859.7737315506, 20675.076979522266, 11542.443994262736, 8825.305706044262, 7623.670396498319, 5736.010910439748, 5167.179737738166, 5099.307934076793, 4893.799032070225, 4686.36859442126, 3863.379577282402, 3855.7648010567636, 3745.2012671942243, 3674.7323215553556, 3637.819093078826, 3752.631229916375, 3338.016212681744, 2762.6690669093655, 2724.2009693303526, 2703.857503885525, 2604.620272779271, 2508.249228367611, 2493.4797940830854, 2467.572021397342, 2233.733166871743, 2173.2262226171933, 2154.3160595788104, 1971.1859949533814, 1922.692468961336, 2005.2606637084236, 3498.600559642677, 8072.356428550406, 20046.817026780933, 5530.50644362851, 3309.059212948966, 7738.713177957024, 9344.71410492596, 12531.858306595363, 20744.86223078674, 5304.299188519019, 8332.694952168567, 5373.200301582319, 4308.642741255886, 3802.2139455528586, 7942.669277276017, 13827.78250375031, 8444.447178792812, 5930.068076121728, 3452.318198772443, 3271.5696995908424, 3042.26887851769, 2858.7239735160865, 2782.2478817415467, 2773.8151660598282, 2672.8053780746345, 2495.7222544672086, 2407.078630871435, 2140.409932157181, 2081.2945438256547, 1936.6400550148308, 1922.904571169637, 1890.39411107677, 1847.7417935037267, 1815.3801925912846, 1798.514447038315, 1757.3631051354523, 1759.9667062564006, 1764.7628603420608, 1628.4680993546028, 1596.2565904123314, 1499.6232569136318, 1503.8161403881763, 1456.6896355791077, 1438.8078029381309, 1449.16028119632, 6967.714516350824, 4972.561085721865, 6326.046614768636, 8157.036787603634, 7221.461608073622, 3057.017656288809, 15392.342300799646, 6285.6306848477425, 4028.2993111071937, 6923.503695653574, 6697.966731968686, 7738.713177957024, 14654.507125334174, 5930.248290706714, 4957.172579517732, 4137.765694899736, 4111.78772802372, 4080.1907267217834, 3971.1417470833853, 3689.2946459255136, 3495.332118196641, 3487.986243060441, 3303.94690527209, 3125.9267007244066, 3108.738197605428, 2979.583026748838, 2403.8651491460305, 2399.5954080170295, 2217.328962770263, 1935.3152863602738, 1921.1499171032065, 1902.8530475292964, 1792.4006387535696, 1771.707542660834, 1730.464237423333, 1691.9997001280499, 1582.8135227127566, 1591.0172697420626, 1589.4882358419304, 1560.2340060428603, 1527.3247569476623, 1506.986909602235, 1496.5947885381916, 3757.7317489115107, 33931.094669390906, 7439.6074664614425, 3191.251145301246, 6828.433995052783, 4666.876818443119, 8259.190462344503, 14654.507125334174], \"Category\": [\"Default\", \"Default\", \"Default\", \"Default\", \"Default\", \"Default\", \"Default\", \"Default\", \"Default\", \"Default\", \"Default\", \"Default\", \"Default\", \"Default\", \"Default\", \"Default\", \"Default\", \"Default\", \"Default\", \"Default\", \"Default\", \"Default\", \"Default\", \"Default\", \"Default\", \"Default\", \"Default\", \"Default\", \"Default\", \"Default\", \"Topic1\", \"Topic1\", \"Topic1\", \"Topic1\", \"Topic1\", \"Topic1\", \"Topic1\", \"Topic1\", \"Topic1\", \"Topic1\", \"Topic1\", \"Topic1\", \"Topic1\", \"Topic1\", \"Topic1\", \"Topic1\", \"Topic1\", \"Topic1\", \"Topic1\", \"Topic1\", \"Topic1\", \"Topic1\", \"Topic1\", \"Topic1\", \"Topic1\", \"Topic1\", \"Topic1\", \"Topic1\", \"Topic1\", \"Topic1\", \"Topic1\", \"Topic1\", \"Topic1\", \"Topic1\", \"Topic1\", \"Topic1\", \"Topic1\", \"Topic1\", \"Topic1\", \"Topic1\", \"Topic1\", \"Topic2\", \"Topic2\", \"Topic2\", \"Topic2\", \"Topic2\", \"Topic2\", \"Topic2\", \"Topic2\", \"Topic2\", \"Topic2\", \"Topic2\", \"Topic2\", \"Topic2\", \"Topic2\", \"Topic2\", \"Topic2\", \"Topic2\", \"Topic2\", \"Topic2\", \"Topic2\", \"Topic2\", \"Topic2\", \"Topic2\", \"Topic2\", \"Topic2\", \"Topic2\", \"Topic2\", \"Topic2\", \"Topic2\", \"Topic2\", \"Topic2\", \"Topic2\", \"Topic2\", \"Topic2\", \"Topic2\", \"Topic2\", \"Topic2\", \"Topic2\", \"Topic2\", \"Topic2\", \"Topic2\", \"Topic2\", \"Topic2\", \"Topic2\", \"Topic2\", \"Topic2\", \"Topic3\", \"Topic3\", \"Topic3\", \"Topic3\", \"Topic3\", \"Topic3\", \"Topic3\", \"Topic3\", \"Topic3\", \"Topic3\", \"Topic3\", \"Topic3\", \"Topic3\", \"Topic3\", \"Topic3\", \"Topic3\", \"Topic3\", \"Topic3\", \"Topic3\", \"Topic3\", \"Topic3\", \"Topic3\", \"Topic3\", \"Topic3\", \"Topic3\", \"Topic3\", \"Topic3\", \"Topic3\", \"Topic3\", \"Topic3\", \"Topic3\", \"Topic3\", \"Topic3\", \"Topic3\", \"Topic3\", \"Topic3\", \"Topic3\", \"Topic3\", \"Topic3\", \"Topic3\", \"Topic3\", \"Topic3\", \"Topic3\", \"Topic3\", \"Topic3\", \"Topic4\", \"Topic4\", \"Topic4\", \"Topic4\", \"Topic4\", \"Topic4\", \"Topic4\", \"Topic4\", \"Topic4\", \"Topic4\", \"Topic4\", \"Topic4\", \"Topic4\", \"Topic4\", \"Topic4\", \"Topic4\", \"Topic4\", \"Topic4\", \"Topic4\", \"Topic4\", \"Topic4\", \"Topic4\", \"Topic4\", \"Topic4\", \"Topic4\", \"Topic4\", \"Topic4\", \"Topic4\", \"Topic4\", \"Topic4\", \"Topic4\", \"Topic4\", \"Topic4\", \"Topic4\", \"Topic4\", \"Topic4\", \"Topic4\", \"Topic4\", \"Topic4\", \"Topic4\", \"Topic4\", \"Topic4\", \"Topic4\", \"Topic5\", \"Topic5\", \"Topic5\", \"Topic5\", \"Topic5\", \"Topic5\", \"Topic5\", \"Topic5\", \"Topic5\", \"Topic5\", \"Topic5\", \"Topic5\", \"Topic5\", \"Topic5\", \"Topic5\", \"Topic5\", \"Topic5\", \"Topic5\", \"Topic5\", \"Topic5\", \"Topic5\", \"Topic5\", \"Topic5\", \"Topic5\", \"Topic5\", \"Topic5\", \"Topic5\", \"Topic5\", \"Topic5\", \"Topic5\", \"Topic5\", \"Topic5\", \"Topic5\", \"Topic5\", \"Topic5\", \"Topic5\", \"Topic5\", \"Topic5\"], \"logprob\": [30.0, 29.0, 28.0, 27.0, 26.0, 25.0, 24.0, 23.0, 22.0, 21.0, 20.0, 19.0, 18.0, 17.0, 16.0, 15.0, 14.0, 13.0, 12.0, 11.0, 10.0, 9.0, 8.0, 7.0, 6.0, 5.0, 4.0, 3.0, 2.0, 1.0, -3.1596, -3.7487, -4.94, -4.9329, -5.0257, -5.1124, -5.1271, -5.1545, -5.2165, -5.2556, -5.3121, -5.3098, -5.3293, -5.3547, -5.4864, -5.516, -5.5476, -5.6007, -5.5961, -5.6369, -5.6651, -5.6988, -5.6978, -5.7312, -5.7671, -5.7852, -5.8057, -5.8063, -5.879, -5.9006, -4.4694, -4.5056, -2.6812, -4.604, -5.2933, -4.7253, -5.1097, -5.6375, -5.3431, -5.541, -5.5969, -3.2342, -4.2899, -4.5161, -4.6659, -4.6729, -4.8251, -4.8772, -4.9135, -4.9694, -4.9778, -5.1366, -5.148, -5.4424, -5.4477, -5.5403, -5.5509, -5.5289, -5.619, -5.7662, -5.7983, -5.8066, -5.8424, -5.8685, -5.8793, -5.8954, -5.9261, -5.963, -6.0152, -6.0128, -6.0756, -5.478, -4.2289, -4.8927, -2.5247, -4.2051, -4.4949, -4.7886, -4.9666, -4.6252, -4.3552, -4.9886, -4.7397, -5.2463, -5.3538, -5.4247, -5.4746, -3.0411, -3.7223, -4.3052, -4.5737, -4.72, -5.0046, -5.109, -5.1222, -5.1634, -5.2067, -5.3999, -5.4018, -5.4309, -5.4499, -5.46, -5.429, -5.5461, -5.7353, -5.7493, -5.7568, -5.7942, -5.8319, -5.8378, -5.8483, -5.9479, -5.9754, -5.9841, -6.073, -6.0979, -6.0558, -5.5534, -4.8041, -4.26, -5.2828, -5.6929, -5.1254, -5.0111, -4.908, -4.7856, -5.4686, -5.2716, -5.4763, -5.5756, -5.6643, -5.5526, -3.626, -4.1193, -4.4728, -5.0139, -5.0676, -5.1403, -5.2026, -5.2297, -5.2327, -5.2698, -5.3384, -5.3746, -5.492, -5.5201, -5.5921, -5.5993, -5.6163, -5.6391, -5.6568, -5.6662, -5.6893, -5.6878, -5.6851, -5.7655, -5.7855, -5.848, -5.8452, -5.8771, -5.8894, -5.8822, -4.5722, -4.8575, -4.6755, -4.5068, -4.7481, -5.3488, -4.5765, -5.0693, -5.2933, -5.1691, -5.2035, -5.276, -5.6225, -4.3227, -4.502, -4.6827, -4.689, -4.6967, -4.7238, -4.7975, -4.8515, -4.8536, -4.9078, -4.9632, -4.9687, -5.0112, -5.2259, -5.2277, -5.3067, -5.4428, -5.4502, -5.4597, -5.5196, -5.5312, -5.5547, -5.5772, -5.644, -5.6388, -5.6398, -5.6584, -5.6797, -5.6931, -5.7, -5.0535, -3.5138, -4.6833, -5.3211, -4.9755, -5.223, -5.1435, -5.1494], \"loglift\": [30.0, 29.0, 28.0, 27.0, 26.0, 25.0, 24.0, 23.0, 22.0, 21.0, 20.0, 19.0, 18.0, 17.0, 16.0, 15.0, 14.0, 13.0, 12.0, 11.0, 10.0, 9.0, 8.0, 7.0, 6.0, 5.0, 4.0, 3.0, 2.0, 1.0, 1.3139, 1.3139, 1.3138, 1.3138, 1.3138, 1.3138, 1.3138, 1.3138, 1.3138, 1.3138, 1.3138, 1.3138, 1.3138, 1.3138, 1.3138, 1.3138, 1.3137, 1.3137, 1.3137, 1.3137, 1.3137, 1.3137, 1.3137, 1.3137, 1.3137, 1.3137, 1.3137, 1.3137, 1.3137, 1.3137, 1.0709, 1.0179, 0.5906, 1.0256, 1.0997, -0.0234, 0.4083, 1.1235, 0.1493, 0.5651, 0.6652, 1.4108, 1.4107, 1.4107, 1.4107, 1.4107, 1.4107, 1.4107, 1.4107, 1.4107, 1.4107, 1.4106, 1.4106, 1.4106, 1.4106, 1.4106, 1.4106, 1.4106, 1.4105, 1.4105, 1.4105, 1.4105, 1.4105, 1.4105, 1.4105, 1.4105, 1.4105, 1.4104, 1.4104, 1.4104, 1.4104, 1.3378, 1.1731, 1.263, 0.747, 0.9889, 1.0467, 1.09, 1.0552, 0.8928, 0.3467, 0.7094, 0.4885, 0.9354, 0.899, 0.8352, 0.0489, 1.4751, 1.4751, 1.475, 1.475, 1.475, 1.475, 1.475, 1.475, 1.4749, 1.4749, 1.4749, 1.4749, 1.4749, 1.4749, 1.4749, 1.4749, 1.4749, 1.4748, 1.4748, 1.4748, 1.4748, 1.4748, 1.4748, 1.4748, 1.4747, 1.4747, 1.4747, 1.4747, 1.4747, 1.4747, 1.4206, 1.3338, 0.9682, 1.2332, 1.3367, 1.0547, 0.9804, 0.79, 0.4084, 1.0892, 0.8346, 1.0685, 1.1901, 1.2264, 0.6015, 1.9736, 1.9735, 1.9735, 1.9734, 1.9734, 1.9734, 1.9734, 1.9734, 1.9733, 1.9733, 1.9733, 1.9733, 1.9733, 1.9733, 1.9732, 1.9732, 1.9732, 1.9732, 1.9732, 1.9732, 1.9732, 1.9732, 1.9732, 1.9731, 1.9731, 1.9731, 1.9731, 1.9731, 1.9731, 1.9731, 1.7128, 1.7648, 1.7061, 1.6207, 1.5012, 1.76, 0.9159, 1.3187, 1.5397, 1.1223, 1.121, 0.9041, -0.0809, 2.1235, 2.1235, 2.1234, 2.1234, 2.1234, 2.1234, 2.1234, 2.1234, 2.1234, 2.1234, 2.1234, 2.1234, 2.1234, 2.1233, 2.1233, 2.1233, 2.1232, 2.1232, 2.1232, 2.1232, 2.1232, 2.1232, 2.1232, 2.1231, 2.1231, 2.1231, 2.1231, 2.1231, 2.1231, 2.1231, 1.849, 1.1881, 1.5362, 1.7448, 1.3297, 1.4628, 0.9714, 0.3921]}, \"token.table\": {\"Topic\": [3, 3, 5, 2, 5, 1, 2, 5, 1, 2, 3, 4, 3, 3, 3, 4, 4, 1, 4, 4, 4, 4, 5, 2, 3, 4, 1, 2, 3, 3, 1, 2, 2, 2, 3, 3, 1, 2, 3, 3, 2, 5, 1, 2, 3, 2, 2, 4, 5, 2, 1, 4, 5, 5, 1, 5, 5, 3, 1, 1, 1, 2, 1, 2, 1, 1, 1, 4, 1, 4, 4, 5, 4, 1, 3, 4, 5, 5, 2, 4, 4, 2, 2, 3, 1, 2, 3, 5, 2, 2, 5, 2, 2, 3, 5, 5, 1, 3, 1, 2, 3, 4, 5, 5, 3, 1, 2, 3, 1, 1, 1, 1, 5, 3, 3, 2, 3, 3, 1, 2, 2, 2, 3, 2, 3, 3, 3, 3, 2, 4, 1, 4, 1, 4, 1, 2, 1, 5, 4, 1, 2, 1, 1, 2, 4, 1, 3, 4, 4, 4, 3, 4, 2, 4, 1, 4, 3, 4, 5, 5, 1, 2, 2, 1, 2, 2, 2, 5, 1, 5, 5, 5, 2, 5, 3, 4, 5, 4, 4, 3, 3, 5, 5, 1, 1, 1, 5, 5, 1, 4, 3, 3, 2, 1, 2, 3, 1, 3, 1, 3, 2, 1, 2, 4, 1, 2, 3, 4, 1, 2, 3, 1, 5, 3, 3, 5, 2, 2, 2, 1, 3, 1, 4, 4, 4, 1, 1, 2, 5, 2, 5, 1, 3, 2, 4, 1, 3, 4, 5, 2, 4, 4, 5, 4, 4, 2, 3, 2, 1, 3, 2, 3, 5, 5, 5, 2, 1, 5, 1, 2, 5, 4, 1, 3, 5, 3, 3, 3, 3, 4, 2, 1, 5], \"Freq\": [0.9994357593312505, 0.48340680240036993, 0.5164053163940122, 0.9998930389756807, 0.9997764792396815, 0.7494963874382915, 0.19205053101605618, 0.058427480138373324, 0.31203827891421565, 0.1327283372520805, 0.20796055190597634, 0.3472505935449683, 0.9997748395239378, 0.999679251632016, 0.9995591480423532, 0.9998258635324463, 0.9998084796042933, 0.23458568840379543, 0.7652488662821925, 0.9997905713674544, 0.9997125523338232, 0.9997933806995315, 0.9996928345671764, 0.8626095820897259, 0.13733652556954845, 0.9998198880505219, 0.2912613781342125, 0.5623681967050773, 0.1464004812726508, 0.9993891056175538, 0.7437665990637018, 0.25621010165980646, 0.9999631167534967, 0.9998299709798731, 0.9998367256062236, 0.9997435075320609, 0.9998074328210339, 0.9295061207240186, 0.07028032627159815, 0.9996717750881724, 0.4441094526686778, 0.5558088943053822, 0.5226676708271051, 0.2423966009632951, 0.23482170718319212, 0.9998554978424652, 0.6948033061035354, 0.12815169994720482, 0.17701038853197512, 0.9998722301169557, 0.9998225268381589, 0.9991993423975419, 0.9997873687660827, 0.9996025720904905, 0.8265044136830373, 0.1732471521135489, 0.9997172457137974, 0.9999479092859808, 0.9995211927021309, 0.9998987362873122, 0.48509637717489273, 0.5149006241307827, 0.4042819885587606, 0.5956927816910983, 0.9995172905203239, 0.9997773943166725, 0.3765165762233157, 0.6234195020806794, 0.9998212183059683, 0.9995514843412279, 0.8076498985607243, 0.19201720958086074, 0.9999470446337878, 0.22676379893977844, 0.23918525544221214, 0.42680702284525174, 0.10717117121867235, 0.9998043260605245, 0.35200959275547405, 0.6479161051423041, 0.9997061209882322, 0.9994730946114772, 0.6558250350686486, 0.34413340134914244, 0.07220558011301303, 0.24791210926530582, 0.6798259057115534, 0.9997317266584923, 0.9994320999899795, 0.9995044522055453, 0.999551700784039, 0.9996592878492627, 0.2801520819247829, 0.26770413264950504, 0.4520802283856795, 0.9993606167818483, 0.999704850497127, 0.9998016473783479, 0.1514565598476711, 0.11216058266030265, 0.07970560555008742, 0.5194387267884939, 0.13729728061821445, 0.9993203761838995, 0.9995019520574421, 0.35881296559491505, 0.5993649576339538, 0.04169011993744172, 0.9996790784461013, 0.9998858134780096, 0.9999632314114923, 0.999872081275513, 0.9996490803663667, 0.9993983343244028, 0.9998520497660077, 0.9996782562264036, 0.9997716863360587, 0.9997681845180681, 0.7841782642358452, 0.2157563556592236, 0.9998734555431126, 0.39761923248720166, 0.6023400115773379, 0.21480853735712585, 0.7850998899028959, 0.9999017499381542, 0.9999213475393935, 0.9996828590692028, 0.9995860214770375, 0.9994385609137779, 0.9996830082421934, 0.9995985404961154, 0.22948701417770465, 0.7704104390906308, 0.9998114750058952, 0.9998119028237166, 0.9998869766329284, 0.9996401007991909, 0.9993780102727434, 0.3783277485543092, 0.6216586302792839, 0.9998446332599134, 0.9998165677803277, 0.9996270223253487, 0.9994507246910046, 0.20031784121449756, 0.09709408215537457, 0.702583566707641, 0.999713960018969, 0.9996986768729063, 0.7519769436849625, 0.24787388143689507, 0.9998838459260507, 0.999582917037133, 0.9997058955030256, 0.999907830404348, 0.6568275478251906, 0.3432095154482995, 0.9997625410830682, 0.9997124889625952, 0.807041114543012, 0.19280736611308885, 0.9998395814346785, 0.9999841945670721, 0.9999053380930497, 0.9999796337621273, 0.9997995170390084, 0.9998149496718288, 0.9998155269740496, 0.9994014433267444, 0.9997035436806014, 0.9998516400697477, 0.9998630971903686, 0.9997518714967364, 0.8681479890077726, 0.13180785677857734, 0.9997081688574053, 0.99921278920953, 0.9997467494158955, 0.9998237607188111, 0.9996398441391356, 0.999763457999712, 0.9998084220110997, 0.9998037394027557, 0.9995968524898133, 0.9998601879197768, 0.9994860274434841, 0.9999049823635036, 0.18823298173000144, 0.8116541819041515, 0.9997618567336846, 0.9993713217781411, 0.9999358489834226, 0.9997764723431803, 0.49593602544397763, 0.5040752812115216, 0.4729562311619679, 0.5269603681888356, 0.22013490350246362, 0.7798088278193603, 0.9998966523304638, 0.12576080151337765, 0.7884531609746211, 0.08575948946995314, 0.2743386195030734, 0.7256113103302544, 0.9469500571789673, 0.052878285716302126, 0.39709572309948704, 0.18545402667265198, 0.4173659867072922, 0.24003842218414853, 0.7597668462702262, 0.9999810637338404, 0.9997578186553795, 0.9993451107000687, 0.9995783085336917, 0.9998923089717772, 0.9998102816229141, 0.9998308742610726, 0.9998007143129691, 0.9996560953758479, 0.9996695023356698, 0.999791519094108, 0.9994572871202422, 0.9997215351976122, 0.2625615261401151, 0.34505223347721037, 0.3923834503344362, 0.31523686297182235, 0.6846844389596737, 0.9997816294979854, 0.9998317900487149, 0.9999322163920623, 0.999584391005702, 0.22588944683445666, 0.19095347158048254, 0.42624875790639377, 0.1569132905637898, 0.9999101209415225, 0.9995677264298769, 0.9995295808314155, 0.9994091605761075, 0.9997106030264723, 0.9995265734290519, 0.12903969754577657, 0.8706402075629561, 0.9996696506796667, 0.3338792338472282, 0.6658973794344383, 0.700776906526819, 0.1457148266207977, 0.15343627844778926, 0.9997895044784768, 0.9996006436481207, 0.9997802004379764, 0.9996777081822226, 0.9997134017890604, 0.38381485624441514, 0.3002715594593532, 0.31589052364090825, 0.9999434107565622, 0.23371501529926197, 0.6097564822230744, 0.1565590967870056, 0.9998075805209155, 0.9999120638139567, 0.9999615337737002, 0.9996955638867531, 0.9995518921328114, 0.9995698309923325, 0.9998934624579482, 0.9992090891250409], \"Term\": [\"ace2\", \"activity\", \"activity\", \"acute\", \"adolescents\", \"among\", \"among\", \"among\", \"analysis\", \"analysis\", \"analysis\", \"analysis\", \"antibodies\", \"antibody\", \"antiviral\", \"application\", \"applications\", \"approach\", \"approach\", \"approaches\", \"artificial\", \"assay\", \"assessing\", \"associated\", \"associated\", \"based\", \"cancer\", \"cancer\", \"cancer\", \"cardiovascular\", \"care\", \"care\", \"case\", \"cases\", \"cell\", \"cells\", \"challenges\", \"characteristics\", \"characteristics\", \"characterization\", \"children\", \"children\", \"china\", \"china\", \"china\", \"chronic\", \"clinical\", \"clinical\", \"clinical\", \"cohort\", \"community\", \"complex\", \"considerations\", \"contact\", \"control\", \"control\", \"controlled\", \"coronavirus\", \"countries\", \"covid\", \"covid-19\", \"covid-19\", \"covid\\u201019\", \"covid\\u201019\", \"crisis\", \"cross-sectional\", \"data\", \"data\", \"de\", \"deep\", \"design\", \"design\", \"detection\", \"development\", \"development\", \"development\", \"development\", \"diabetes\", \"diagnosis\", \"diagnosis\", \"diagnostic\", \"digital\", \"disease\", \"disease\", \"diseases\", \"diseases\", \"diseases\", \"disorder\", \"distress\", \"due\", \"economic\", \"education\", \"effects\", \"effects\", \"effects\", \"elderly\", \"en\", \"era\", \"evaluation\", \"evaluation\", \"evaluation\", \"evaluation\", \"evaluation\", \"exploring\", \"expression\", \"factors\", \"factors\", \"factors\", \"future\", \"global\", \"health\", \"healthcare\", \"hospitalized\", \"host\", \"human\", \"ill\", \"immune\", \"immunity\", \"impact\", \"impact\", \"india\", \"infection\", \"infection\", \"infections\", \"infections\", \"infectious\", \"influenza\", \"inhibitors\", \"injury\", \"intelligence\", \"la\", \"laboratory\", \"learning\", \"learning\", \"lessons\", \"literature\", \"lockdown\", \"longitudinal\", \"machine\", \"management\", \"management\", \"medical\", \"mental\", \"meta-analysis\", \"method\", \"model\", \"model\", \"model\", \"modelling\", \"models\", \"molecular\", \"molecular\", \"mortality\", \"multiple\", \"national\", \"network\", \"novel\", \"novel\", \"observational\", \"online\", \"outbreak\", \"outbreak\", \"outcomes\", \"pandemic\", \"patient\", \"patients\", \"pediatric\", \"people\", \"perspective\", \"phase\", \"physical\", \"pilot\", \"pneumonia\", \"policy\", \"potential\", \"potential\", \"practice\", \"predicting\", \"prediction\", \"protein\", \"proteins\", \"protocol\", \"psychological\", \"public\", \"qualitative\", \"quality\", \"randomised\", \"randomized\", \"rapid\", \"rapid\", \"receptor\", \"recommendations\", \"report\", \"research\", \"respiratory\", \"respiratory\", \"response\", \"response\", \"responses\", \"responses\", \"retrospective\", \"review\", \"review\", \"review\", \"risk\", \"risk\", \"rna\", \"rna\", \"role\", \"role\", \"role\", \"safety\", \"safety\", \"sars-cov-2\", \"sars\\u2010cov\\u20102\", \"saudi\", \"services\", \"severe\", \"severity\", \"social\", \"spike\", \"states\", \"stroke\", \"structural\", \"structure\", \"students\", \"study\", \"study\", \"study\", \"support\", \"support\", \"survey\", \"symptoms\", \"syndrome\", \"synthesis\", \"system\", \"system\", \"system\", \"system\", \"systematic\", \"teaching\", \"technology\", \"telemedicine\", \"test\", \"tests\", \"therapeutic\", \"therapeutic\", \"training\", \"transmission\", \"transmission\", \"treatment\", \"treatment\", \"treatment\", \"trial\", \"trials\", \"uk\", \"united\", \"us\", \"use\", \"use\", \"use\", \"using\", \"vaccine\", \"vaccine\", \"vaccine\", \"variants\", \"viral\", \"virus\", \"viruses\", \"wave\", \"women\", \"workers\", \"world\"]}, \"R\": 30, \"lambda.step\": 0.01, \"plot.opts\": {\"xlab\": \"PC1\", \"ylab\": \"PC2\"}, \"topic.order\": [1, 2, 5, 3, 4]};\n",
       "\n",
       "function LDAvis_load_lib(url, callback){\n",
       "  var s = document.createElement('script');\n",
       "  s.src = url;\n",
       "  s.async = true;\n",
       "  s.onreadystatechange = s.onload = callback;\n",
       "  s.onerror = function(){console.warn(\"failed to load library \" + url);};\n",
       "  document.getElementsByTagName(\"head\")[0].appendChild(s);\n",
       "}\n",
       "\n",
       "if(typeof(LDAvis) !== \"undefined\"){\n",
       "   // already loaded: just create the visualization\n",
       "   !function(LDAvis){\n",
       "       new LDAvis(\"#\" + \"ldavis_el3641352824341763701541852\", ldavis_el3641352824341763701541852_data);\n",
       "   }(LDAvis);\n",
       "}else if(typeof define === \"function\" && define.amd){\n",
       "   // require.js is available: use it to load d3/LDAvis\n",
       "   require.config({paths: {d3: \"https://d3js.org/d3.v5\"}});\n",
       "   require([\"d3\"], function(d3){\n",
       "      window.d3 = d3;\n",
       "      LDAvis_load_lib(\"https://cdn.jsdelivr.net/gh/bmabey/pyLDAvis@3.4.0/pyLDAvis/js/ldavis.v3.0.0.js\", function(){\n",
       "        new LDAvis(\"#\" + \"ldavis_el3641352824341763701541852\", ldavis_el3641352824341763701541852_data);\n",
       "      });\n",
       "    });\n",
       "}else{\n",
       "    // require.js not available: dynamically load d3 & LDAvis\n",
       "    LDAvis_load_lib(\"https://d3js.org/d3.v5.js\", function(){\n",
       "         LDAvis_load_lib(\"https://cdn.jsdelivr.net/gh/bmabey/pyLDAvis@3.4.0/pyLDAvis/js/ldavis.v3.0.0.js\", function(){\n",
       "                 new LDAvis(\"#\" + \"ldavis_el3641352824341763701541852\", ldavis_el3641352824341763701541852_data);\n",
       "            })\n",
       "         });\n",
       "}\n",
       "</script>"
      ],
      "text/plain": [
       "<IPython.core.display.HTML object>"
      ]
     },
     "execution_count": 11,
     "metadata": {},
     "output_type": "execute_result"
    }
   ],
   "source": [
    "pyLDAvis.display(vis_data)"
   ]
  },
  {
   "cell_type": "code",
   "execution_count": 16,
   "id": "d58c1b31",
   "metadata": {},
   "outputs": [],
   "source": [
    "pyLDAvis.save_html(vis_data, 'lda_visualization.html')"
   ]
  },
  {
   "cell_type": "code",
   "execution_count": null,
   "id": "963646a8",
   "metadata": {},
   "outputs": [],
   "source": []
  }
 ],
 "metadata": {
  "kernelspec": {
   "display_name": "Python 3 (ipykernel)",
   "language": "python",
   "name": "python3"
  },
  "language_info": {
   "codemirror_mode": {
    "name": "ipython",
    "version": 3
   },
   "file_extension": ".py",
   "mimetype": "text/x-python",
   "name": "python",
   "nbconvert_exporter": "python",
   "pygments_lexer": "ipython3",
   "version": "3.10.9"
  }
 },
 "nbformat": 4,
 "nbformat_minor": 5
}
