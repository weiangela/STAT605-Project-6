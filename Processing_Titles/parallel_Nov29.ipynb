{
 "cells": [
  {
   "cell_type": "code",
   "execution_count": 8,
   "id": "b882d45c",
   "metadata": {},
   "outputs": [],
   "source": [
    "import pandas as pd\n",
    "import pickle"
   ]
  },
  {
   "cell_type": "code",
   "execution_count": 2,
   "id": "bc7cd02e",
   "metadata": {},
   "outputs": [],
   "source": [
    "# select some pdf's\n",
    "with open('ID_Nov21.pkl', 'rb') as file:\n",
    "    ids = pickle.load(file)"
   ]
  },
  {
   "cell_type": "code",
   "execution_count": 13,
   "id": "db26a165",
   "metadata": {},
   "outputs": [
    {
     "data": {
      "text/plain": [
       "'document_parses/pdf_json/6b0567729c2143a66d737eb0a2f63f2dce2e5a7d.json'"
      ]
     },
     "execution_count": 13,
     "metadata": {},
     "output_type": "execute_result"
    }
   ],
   "source": [
    "ids['pdf_json_files'][1]"
   ]
  },
  {
   "cell_type": "code",
   "execution_count": 14,
   "id": "1591e7f9",
   "metadata": {},
   "outputs": [
    {
     "data": {
      "text/plain": [
       "'document_parses/pdf_json/025339bfce1cb8efa81c5accdabefe04dcdac9d2.json'"
      ]
     },
     "execution_count": 14,
     "metadata": {},
     "output_type": "execute_result"
    }
   ],
   "source": [
    "ids['pdf_json_files'][20]"
   ]
  },
  {
   "cell_type": "code",
   "execution_count": 15,
   "id": "a76963f3",
   "metadata": {},
   "outputs": [
    {
     "data": {
      "text/plain": [
       "'document_parses/pdf_json/9992ffbec7c8256d057b05a858cde82d36d64ae3.json'"
      ]
     },
     "execution_count": 15,
     "metadata": {},
     "output_type": "execute_result"
    }
   ],
   "source": [
    "ids['pdf_json_files'][120]"
   ]
  },
  {
   "cell_type": "code",
   "execution_count": 16,
   "id": "d644bd0a",
   "metadata": {},
   "outputs": [
    {
     "data": {
      "text/plain": [
       "'document_parses/pdf_json/dc45028785e8308de18df3a42fe11fe571da2cdc.json'"
      ]
     },
     "execution_count": 16,
     "metadata": {},
     "output_type": "execute_result"
    }
   ],
   "source": [
    "ids['pdf_json_files'][900]         "
   ]
  },
  {
   "cell_type": "code",
   "execution_count": 18,
   "id": "7bbd7264",
   "metadata": {},
   "outputs": [
    {
     "data": {
      "text/plain": [
       "'document_parses/pdf_json/e79238c6aab0695806a2eddc84a4f7e134bb9395.json'"
      ]
     },
     "execution_count": 18,
     "metadata": {},
     "output_type": "execute_result"
    }
   ],
   "source": [
    "ids['pdf_json_files'][1900]"
   ]
  },
  {
   "cell_type": "code",
   "execution_count": 23,
   "id": "b95dcbb7",
   "metadata": {},
   "outputs": [
    {
     "data": {
      "text/plain": [
       "'document_parses/pdf_json/8e6ef0f551beb549a3e0d523f5b1472cd11110f4.json'"
      ]
     },
     "execution_count": 23,
     "metadata": {},
     "output_type": "execute_result"
    }
   ],
   "source": [
    "ids['pdf_json_files'][3902]       "
   ]
  },
  {
   "cell_type": "code",
   "execution_count": 25,
   "id": "ec149a93",
   "metadata": {},
   "outputs": [
    {
     "data": {
      "text/plain": [
       "'document_parses/pdf_json/f53d10b5f8b57b179da04fb8900aec3c32783409.json'"
      ]
     },
     "execution_count": 25,
     "metadata": {},
     "output_type": "execute_result"
    }
   ],
   "source": [
    "ids['pdf_json_files'][4900]"
   ]
  },
  {
   "cell_type": "code",
   "execution_count": 19,
   "id": "7199788d",
   "metadata": {},
   "outputs": [],
   "source": [
    "# code modified from Yuhan\n",
    "import json\n",
    "import nltk\n",
    "import re\n",
    "import ssl\n",
    "from nltk.corpus import stopwords\n",
    "from nltk.tokenize import word_tokenize\n",
    "from nltk.tag import pos_tag\n",
    "import pandas as pd\n",
    "from gensim import corpora, models\n",
    "from pprint import pprint\n",
    "import csv"
   ]
  },
  {
   "cell_type": "code",
   "execution_count": 41,
   "id": "cddbd3bb",
   "metadata": {},
   "outputs": [
    {
     "data": {
      "text/plain": [
       "'Inflammatory diseases of the respiratory tract are commonly associated with elevated production of nitric oxide (NO • ) and increased indices of NO • -dependent oxidative stress. Although NO • is known to have anti-microbial, anti-inflammatory and anti-oxidant properties, various lines of evidence support the contribution of NO • to lung injury in several disease models. On the basis of biochemical evidence, it is often presumed that such NO •dependent oxidations are due to the formation of the oxidant peroxynitrite, although alternative mechanisms involving the phagocyte-derived heme proteins myeloperoxidase and eosinophil peroxidase might be operative during conditions of inflammation. Because of the overwhelming literature on NO • generation and activities in the respiratory tract, it would be beyond the scope of this commentary to review this area comprehensively. Instead, it focuses on recent evidence and concepts of the presumed contribution of NO • to inflammatory diseases of the lung. ARDS = acute respiratory distress syndrome; EPO = eosinophil peroxidase; MPO = myeloperoxidase; NO • = nitric oxide; NOS = NO • synthase; O 2 •-= superoxide; ONOO -= peroxynitrite; RNS = reactive nitrogen species.'"
      ]
     },
     "execution_count": 41,
     "metadata": {},
     "output_type": "execute_result"
    }
   ],
   "source": [
    "with open('6b0567729c2143a66d737eb0a2f63f2dce2e5a7d.json', 'r') as file:\n",
    "    data = json.load(file)\n",
    "data[\"abstract\"][0]['text']"
   ]
  },
  {
   "cell_type": "code",
   "execution_count": 43,
   "id": "46bc96c9",
   "metadata": {},
   "outputs": [
    {
     "data": {
      "text/plain": [
       "[]"
      ]
     },
     "execution_count": 43,
     "metadata": {},
     "output_type": "execute_result"
    }
   ],
   "source": [
    "with open('f53d10b5f8b57b179da04fb8900aec3c32783409.json', 'r') as file:\n",
    "    data = json.load(file)\n",
    "data[\"abstract\"]      # no abstract recorded"
   ]
  },
  {
   "cell_type": "code",
   "execution_count": 46,
   "id": "6ea99313",
   "metadata": {},
   "outputs": [
    {
     "data": {
      "text/plain": [
       "'Metagenomics is helping to expand the known diversity of viruses, especially of those with poorly studied hosts in remote areas. the Neotropical region harbors a considerable diversity of avian species that may play a role as both host and short-distance vectors of unknown viruses. Viral metagenomics of cloacal swabs from 50 Neotropical birds collected in French Guiana revealed the presence of four complete astrovirus genomes. they constitute an early diverging novel monophyletic clade within the Avastrovirus phylogeny, representing a putative new astrovirus species (provisionally designated as Avastrovirus 5) according to the International Committee on Taxonomy of Viruses (ICTV) classification criteria. their genomic organization shares some characteristics with Avastrovirus but also with Mamastrovirus. The pan-astrovirus RT-PCR analysis of the cloacal samples of 406 wild Neotropical birds showed a community-level prevalence of 4.9% (5.1% in passerines, the highest described so far in this order of birds). By screening birds of a remote region, we expanded the known host range of astroviruses to the avian families Cardinalidae, Conopophagidae, Furnariidae, thamnophilidae, Turdidae and Tyrannidae. Our results provide important first insights into the unexplored viral communities, the ecology, epidemiology and features of host-pathogen interactions that shape the evolution of avastroviruses in a remote Neotropical rainforest.'"
      ]
     },
     "execution_count": 46,
     "metadata": {},
     "output_type": "execute_result"
    }
   ],
   "source": [
    "with open('8e6ef0f551beb549a3e0d523f5b1472cd11110f4.json', 'r') as file:\n",
    "    data = json.load(file)\n",
    "data[\"abstract\"][0]['text']"
   ]
  },
  {
   "cell_type": "code",
   "execution_count": 49,
   "id": "94203325",
   "metadata": {},
   "outputs": [
    {
     "data": {
      "text/plain": [
       "'The Policy Forum allows health policy makers around the world to discuss challenges and opportunities for improving health care in their societies.'"
      ]
     },
     "execution_count": 49,
     "metadata": {},
     "output_type": "execute_result"
    }
   ],
   "source": [
    "with open('9992ffbec7c8256d057b05a858cde82d36d64ae3.json', 'r') as file:\n",
    "    data = json.load(file)\n",
    "data[\"abstract\"][0]['text']"
   ]
  },
  {
   "cell_type": "code",
   "execution_count": 50,
   "id": "7523b393",
   "metadata": {},
   "outputs": [
    {
     "data": {
      "text/plain": [
       "\"In the 1980's and 1990's HIV/AIDS was the emerging infectious disease. In 2003-2004 we saw the emergence of SARS, Avian influenza and Anthrax in a man made form used for bioterrorism. Emergency powers legislation in Australia is a patchwork of Commonwealth quarantine laws and State and Territory based emergency powers in public health legislation. It is time for a review of such legislation and time for consideration of the efficacy of such legislation from a country wide perspective in an age when we have to consider the possibility of mass outbreaks of communicable diseases which ignore jurisdictional boundaries.\""
      ]
     },
     "execution_count": 50,
     "metadata": {},
     "output_type": "execute_result"
    }
   ],
   "source": [
    "with open('025339bfce1cb8efa81c5accdabefe04dcdac9d2.json', 'r') as file:\n",
    "    data = json.load(file)\n",
    "data[\"abstract\"][0]['text']"
   ]
  },
  {
   "cell_type": "code",
   "execution_count": 51,
   "id": "90deb900",
   "metadata": {},
   "outputs": [
    {
     "data": {
      "text/plain": [
       "'Human leukotriene A4 hydrolase (hLTA4H), which is the final and rate-limiting enzyme of arachidonic acid pathway, converts the unstable epoxide LTA4 to a proinflammatory lipid mediator LTB4 through its hydrolase function. The LTA4H is a bi-functional enzyme that also exhibits aminopeptidase activity with a preference over arginyl tripeptides. Various mutations including E271Q, R563A, and K565A have completely or partially abolished both the functions of this enzyme. The crystal structures with these mutations have not shown any structural changes to address the loss of functions. Molecular dynamics simulations of LTA4 and tripeptide complex structures with functional mutations were performed to investigate the structural and conformation changes that scripts the observed differences in catalytic functions. The observed protein-ligand hydrogen bonds and distances between the important catalytic components have correlated well with the experimental results. This study also confirms based on the structural observation that E271 is very important for both the functions as it holds the catalytic metal ion at its location for the catalysis and it also acts as N-terminal recognition residue during peptide binding. The comparison of binding modes of substrates revealed the structural changes explaining the importance of R563 and K565 residues and the required alignment of substrate at the active site. The results of this study provide valuable information to be utilized in designing potent hLTA4H inhibitors as anti-inflammatory agents.'"
      ]
     },
     "execution_count": 51,
     "metadata": {},
     "output_type": "execute_result"
    }
   ],
   "source": [
    "with open('dc45028785e8308de18df3a42fe11fe571da2cdc.json', 'r') as file:\n",
    "    data = json.load(file)\n",
    "data[\"abstract\"][0]['text']"
   ]
  },
  {
   "cell_type": "code",
   "execution_count": 53,
   "id": "e754c384",
   "metadata": {},
   "outputs": [
    {
     "data": {
      "text/plain": [
       "'Background: Surgical site infection (SSI) remains a significant problem in the postoperative period that can negatively affect clinical outcomes. Microbiology findings are typically similar to other nosocomial infections, with differences dependent on microbiology selection due to antibiotic pressure or the resident flora. However, this is poorly understood in the critical care setting. We therefore aimed to assess the incidence, epidemiology and microbiology of SSI and its association with outcomes in patients with severe peritonitis in the intensive care unit (ICU). Methods: We prospectively studied 305 consecutive patients admitted to our surgical ICU from 2010 to 2014 with a diagnosis of secondary or tertiary peritonitis. We collected the following data: SSI diagnosis, demographics, Acute Physiology and Chronic Health Evaluation (APACHE) II score, Simplified Acute Physiology Score (SAPS) II score, type of surgery, microbiology, antibiotic treatment and outcomes. Microbiological sampling was done by means of swabs. Results: We identified 269 episodes of SSI in 162 patients (53.1 %) aged 64.4 ± 14.3 years, of which 200 episodes occurred in men (64.6 %). The mean APACHE II and SAPS II scores were 19.7 ± 7.8 and 36.5 ± 16.1 respectively. The mean ICU and hospital stays were 19.8 ± 24.8 and 21.7 ± 30 days respectively. Pseudomonas spp. (n = 52, 19.3 %), Escherichia coli (n = 55, 20.4 %) and Candida spp. (n = 46, 17.1 %) were the most frequently isolated microorganisms, but gram-positive cocci (n = 80, 29.7 %) were also frequent. Microorganisms isolated from SSIs were associated with a higher incidence of antibiotic resistance (64.9 %) in ICU patients, but not with higher in-hospital mortality. However, patients who suffered from SSI had longer ICU admissions (odds ratio = 1.024, 95 % confidence interval 1.010-1.039, P = 0.001).'"
      ]
     },
     "execution_count": 53,
     "metadata": {},
     "output_type": "execute_result"
    }
   ],
   "source": [
    "with open('e79238c6aab0695806a2eddc84a4f7e134bb9395.json', 'r') as file:\n",
    "    data = json.load(file)\n",
    "data[\"abstract\"][0]['text']"
   ]
  },
  {
   "cell_type": "code",
   "execution_count": 54,
   "id": "079a5ae8",
   "metadata": {},
   "outputs": [],
   "source": [
    "text = data[\"abstract\"][0]['text']"
   ]
  },
  {
   "cell_type": "code",
   "execution_count": 55,
   "id": "eaca4136",
   "metadata": {},
   "outputs": [
    {
     "name": "stderr",
     "output_type": "stream",
     "text": [
      "[nltk_data] Downloading package stopwords to\n",
      "[nltk_data]     C:\\Users\\18223\\AppData\\Roaming\\nltk_data...\n",
      "[nltk_data]   Package stopwords is already up-to-date!\n",
      "[nltk_data] Downloading package punkt to\n",
      "[nltk_data]     C:\\Users\\18223\\AppData\\Roaming\\nltk_data...\n",
      "[nltk_data]   Package punkt is already up-to-date!\n",
      "[nltk_data] Downloading package averaged_perceptron_tagger to\n",
      "[nltk_data]     C:\\Users\\18223\\AppData\\Roaming\\nltk_data...\n",
      "[nltk_data]   Package averaged_perceptron_tagger is already up-to-\n",
      "[nltk_data]       date!\n"
     ]
    },
    {
     "data": {
      "text/plain": [
       "True"
      ]
     },
     "execution_count": 55,
     "metadata": {},
     "output_type": "execute_result"
    }
   ],
   "source": [
    "ssl._create_default_https_context = ssl._create_unverified_context\n",
    "\n",
    "nltk.download('stopwords')\n",
    "nltk.download('punkt')\n",
    "nltk.download('averaged_perceptron_tagger')"
   ]
  },
  {
   "cell_type": "code",
   "execution_count": 56,
   "id": "2d6c797e",
   "metadata": {},
   "outputs": [
    {
     "data": {
      "text/plain": [
       "['site',\n",
       " 'infection',\n",
       " 'ssi',\n",
       " 'problem',\n",
       " 'period',\n",
       " 'outcomes',\n",
       " 'findings',\n",
       " 'infections',\n",
       " 'differences',\n",
       " 'microbiology',\n",
       " 'selection',\n",
       " 'pressure',\n",
       " 'resident',\n",
       " 'flora',\n",
       " 'care',\n",
       " 'incidence',\n",
       " 'epidemiology',\n",
       " 'microbiology',\n",
       " 'ssi',\n",
       " 'association',\n",
       " 'outcomes',\n",
       " 'patients',\n",
       " 'peritonitis',\n",
       " 'care',\n",
       " 'unit',\n",
       " 'methods',\n",
       " 'patients',\n",
       " 'icu',\n",
       " 'diagnosis',\n",
       " 'peritonitis',\n",
       " 'data',\n",
       " 'diagnosis',\n",
       " 'demographics',\n",
       " 'physiology',\n",
       " 'health',\n",
       " 'evaluation',\n",
       " 'apache',\n",
       " 'ii',\n",
       " 'score',\n",
       " 'physiology',\n",
       " 'score',\n",
       " 'saps',\n",
       " 'type',\n",
       " 'surgery',\n",
       " 'microbiology',\n",
       " 'treatment',\n",
       " 'sampling',\n",
       " 'means',\n",
       " 'results',\n",
       " 'episodes',\n",
       " 'ssi',\n",
       " 'patients',\n",
       " 'years',\n",
       " 'episodes',\n",
       " 'men',\n",
       " 'mean',\n",
       " 'apache',\n",
       " 'ii',\n",
       " 'saps',\n",
       " 'scores',\n",
       " 'mean',\n",
       " 'icu',\n",
       " 'hospital',\n",
       " 'stays',\n",
       " 'days',\n",
       " 'escherichia',\n",
       " 'coli',\n",
       " 'candida',\n",
       " 'spp',\n",
       " 'microorganisms',\n",
       " 'cocci',\n",
       " 'microorganisms',\n",
       " 'ssis',\n",
       " 'incidence',\n",
       " 'resistance',\n",
       " 'patients',\n",
       " 'mortality',\n",
       " 'patients',\n",
       " 'ssi',\n",
       " 'admissions',\n",
       " 'odds',\n",
       " 'confidence',\n",
       " 'interval']"
      ]
     },
     "execution_count": 56,
     "metadata": {},
     "output_type": "execute_result"
    }
   ],
   "source": [
    "#do data cleaning, and filter nouns in the text\n",
    "text = re.sub(r'[^\\w\\s]', '', text)\n",
    "text = re.sub(r'\\d+', '', text)\n",
    "text = text.lower()\n",
    "text = re.sub(r'\\b\\w\\b', '', text)\n",
    "words_to_remove = ['background', 'method', 'result']\n",
    "for word in words_to_remove:\n",
    "    text = re.sub(r'\\b' + re.escape(word) + r'\\b', '', text, flags=re.IGNORECASE)\n",
    "\n",
    "tokens = word_tokenize(text)\n",
    "tagged_words = pos_tag(tokens)\n",
    "nouns = [word for word, pos in tagged_words if pos.startswith('NN')]\n",
    "stop_words = set(stopwords.words('english'))\n",
    "words = nltk.word_tokenize(text)\n",
    "text = ' '.join([word for word in words if word.lower() not in stop_words])\n",
    "\n",
    "filtered_nouns = [noun for noun in nouns if noun.lower() not in stop_words]\n",
    "filtered_nouns"
   ]
  },
  {
   "cell_type": "code",
   "execution_count": 57,
   "id": "cb8697ea",
   "metadata": {},
   "outputs": [
    {
     "data": {
      "text/plain": [
       "'surgical site infection ssi remains significant problem postoperative period negatively affect clinical outcomes microbiology findings typically similar nosocomial infections differences dependent microbiology selection due antibiotic pressure resident flora however poorly understood critical care setting therefore aimed assess incidence epidemiology microbiology ssi association outcomes patients severe peritonitis intensive care unit icu methods prospectively studied consecutive patients admitted surgical icu diagnosis secondary tertiary peritonitis collected following data ssi diagnosis demographics acute physiology chronic health evaluation apache ii score simplified acute physiology score saps ii score type surgery microbiology antibiotic treatment outcomes microbiological sampling done means swabs results identified episodes ssi patients aged years episodes occurred men mean apache ii saps ii scores respectively mean icu hospital stays days respectively pseudomonas spp escherichia coli candida spp frequently isolated microorganisms grampositive cocci also frequent microorganisms isolated ssis associated higher incidence antibiotic resistance icu patients higher inhospital mortality however patients suffered ssi longer icu admissions odds ratio confidence interval'"
      ]
     },
     "execution_count": 57,
     "metadata": {},
     "output_type": "execute_result"
    }
   ],
   "source": [
    "text"
   ]
  },
  {
   "cell_type": "code",
   "execution_count": 58,
   "id": "8206c3d5",
   "metadata": {},
   "outputs": [
    {
     "data": {
      "text/plain": [
       "0    [site, infection, ssi, problem, period, outcom...\n",
       "Name: nouns, dtype: object"
      ]
     },
     "execution_count": 58,
     "metadata": {},
     "output_type": "execute_result"
    }
   ],
   "source": [
    "df = pd.DataFrame({'abstract': [text],'nouns':[filtered_nouns]})\n",
    "df['abstract'] = df['abstract'].apply(lambda x: nltk.word_tokenize(str(x).lower()))\n",
    "df['nouns']"
   ]
  },
  {
   "cell_type": "code",
   "execution_count": 59,
   "id": "fa27c5c5",
   "metadata": {},
   "outputs": [],
   "source": [
    "#do LDA\n",
    "data = df['nouns'].apply(lambda x: [str(x)] if not isinstance(x, list) else [str(item) for item in x])\n",
    "dictionary = corpora.Dictionary(data)\n",
    "corpus = [dictionary.doc2bow(doc) for doc in data]\n",
    "lda_model = models.LdaModel(corpus, num_topics=5, id2word=dictionary, passes=15)"
   ]
  },
  {
   "cell_type": "code",
   "execution_count": 60,
   "id": "3fcab149",
   "metadata": {},
   "outputs": [
    {
     "data": {
      "text/plain": [
       "['patients',\n",
       " 'ssi',\n",
       " 'peritonitis',\n",
       " 'care',\n",
       " 'mean',\n",
       " 'microbiology',\n",
       " 'microorganisms',\n",
       " 'physiology',\n",
       " 'score',\n",
       " 'icu']"
      ]
     },
     "execution_count": 60,
     "metadata": {},
     "output_type": "execute_result"
    }
   ],
   "source": [
    "#Select the most significant topics and made a list \n",
    "topics = lda_model.print_topics()\n",
    "first_topic = lda_model.show_topic(0)\n",
    "topic_list = [word for word, _ in first_topic]\n",
    "topic_list"
   ]
  },
  {
   "cell_type": "code",
   "execution_count": 61,
   "id": "fcbfd025",
   "metadata": {},
   "outputs": [],
   "source": [
    "csv_file_path = 'word_list1.csv'\n",
    "with open(csv_file_path, 'w', newline='') as csv_file:\n",
    "    writer = csv.writer(csv_file)\n",
    "    writer.writerow(topic_list)"
   ]
  }
 ],
 "metadata": {
  "kernelspec": {
   "display_name": "Python 3 (ipykernel)",
   "language": "python",
   "name": "python3"
  },
  "language_info": {
   "codemirror_mode": {
    "name": "ipython",
    "version": 3
   },
   "file_extension": ".py",
   "mimetype": "text/x-python",
   "name": "python",
   "nbconvert_exporter": "python",
   "pygments_lexer": "ipython3",
   "version": "3.9.13"
  }
 },
 "nbformat": 4,
 "nbformat_minor": 5
}
