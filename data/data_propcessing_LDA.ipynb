{
 "cells": [
  {
   "cell_type": "code",
   "execution_count": 1,
   "id": "edf0f619",
   "metadata": {},
   "outputs": [
    {
     "data": {
      "application/vnd.jupyter.widget-view+json": {
       "model_id": "",
       "version_major": 2,
       "version_minor": 0
      },
      "text/plain": [
       "Output()"
      ]
     },
     "metadata": {},
     "output_type": "display_data"
    },
    {
     "data": {
      "text/html": [
       "<pre style=\"white-space:pre;overflow-x:auto;line-height:normal;font-family:Menlo,'DejaVu Sans Mono',consolas,'Courier New',monospace\">/tmp/ipykernel_2118726/1372825044.py:11: DtypeWarning: Columns (1,4,5,6,13,14,15,16) have mixed types. Specify \n",
       "dtype option on import or set low_memory=False.\n",
       "  df = pd.read_csv(file)\n",
       "</pre>\n"
      ],
      "text/plain": [
       "/tmp/ipykernel_2118726/1372825044.py:11: DtypeWarning: Columns (1,4,5,6,13,14,15,16) have mixed types. Specify \n",
       "dtype option on import or set low_memory=False.\n",
       "  df = pd.read_csv(file)\n"
      ]
     },
     "metadata": {},
     "output_type": "display_data"
    },
    {
     "data": {
      "text/html": [
       "<pre style=\"white-space:pre;overflow-x:auto;line-height:normal;font-family:Menlo,'DejaVu Sans Mono',consolas,'Courier New',monospace\"></pre>\n"
      ],
      "text/plain": []
     },
     "metadata": {},
     "output_type": "display_data"
    },
    {
     "data": {
      "text/html": [
       "<pre style=\"white-space:pre;overflow-x:auto;line-height:normal;font-family:Menlo,'DejaVu Sans Mono',consolas,'Courier New',monospace\">\n",
       "</pre>\n"
      ],
      "text/plain": [
       "\n"
      ]
     },
     "metadata": {},
     "output_type": "display_data"
    },
    {
     "name": "stdout",
     "output_type": "stream",
     "text": [
      "(1056660, 19)\n"
     ]
    },
    {
     "data": {
      "text/html": [
       "<div>\n",
       "<style scoped>\n",
       "    .dataframe tbody tr th:only-of-type {\n",
       "        vertical-align: middle;\n",
       "    }\n",
       "\n",
       "    .dataframe tbody tr th {\n",
       "        vertical-align: top;\n",
       "    }\n",
       "\n",
       "    .dataframe thead th {\n",
       "        text-align: right;\n",
       "    }\n",
       "</style>\n",
       "<table border=\"1\" class=\"dataframe\">\n",
       "  <thead>\n",
       "    <tr style=\"text-align: right;\">\n",
       "      <th></th>\n",
       "      <th>cord_uid</th>\n",
       "      <th>sha</th>\n",
       "      <th>source_x</th>\n",
       "      <th>title</th>\n",
       "      <th>doi</th>\n",
       "      <th>pmcid</th>\n",
       "      <th>pubmed_id</th>\n",
       "      <th>license</th>\n",
       "      <th>abstract</th>\n",
       "      <th>publish_time</th>\n",
       "      <th>authors</th>\n",
       "      <th>journal</th>\n",
       "      <th>mag_id</th>\n",
       "      <th>who_covidence_id</th>\n",
       "      <th>arxiv_id</th>\n",
       "      <th>pdf_json_files</th>\n",
       "      <th>pmc_json_files</th>\n",
       "      <th>url</th>\n",
       "      <th>s2_id</th>\n",
       "    </tr>\n",
       "  </thead>\n",
       "  <tbody>\n",
       "    <tr>\n",
       "      <th>0</th>\n",
       "      <td>ug7v899j</td>\n",
       "      <td>d1aafb70c066a2068b02786f8929fd9c900897fb</td>\n",
       "      <td>PMC</td>\n",
       "      <td>Clinical features of culture-proven Mycoplasma...</td>\n",
       "      <td>10.1186/1471-2334-1-6</td>\n",
       "      <td>PMC35282</td>\n",
       "      <td>11472636</td>\n",
       "      <td>no-cc</td>\n",
       "      <td>OBJECTIVE: This retrospective chart review des...</td>\n",
       "      <td>2001-07-04</td>\n",
       "      <td>Madani, Tariq A; Al-Ghamdi, Aisha A</td>\n",
       "      <td>BMC Infect Dis</td>\n",
       "      <td>NaN</td>\n",
       "      <td>NaN</td>\n",
       "      <td>NaN</td>\n",
       "      <td>document_parses/pdf_json/d1aafb70c066a2068b027...</td>\n",
       "      <td>document_parses/pmc_json/PMC35282.xml.json</td>\n",
       "      <td>https://www.ncbi.nlm.nih.gov/pmc/articles/PMC3...</td>\n",
       "      <td>NaN</td>\n",
       "    </tr>\n",
       "    <tr>\n",
       "      <th>1</th>\n",
       "      <td>02tnwd4m</td>\n",
       "      <td>6b0567729c2143a66d737eb0a2f63f2dce2e5a7d</td>\n",
       "      <td>PMC</td>\n",
       "      <td>Nitric oxide: a pro-inflammatory mediator in l...</td>\n",
       "      <td>10.1186/rr14</td>\n",
       "      <td>PMC59543</td>\n",
       "      <td>11667967</td>\n",
       "      <td>no-cc</td>\n",
       "      <td>Inflammatory diseases of the respiratory tract...</td>\n",
       "      <td>2000-08-15</td>\n",
       "      <td>Vliet, Albert van der; Eiserich, Jason P; Cros...</td>\n",
       "      <td>Respir Res</td>\n",
       "      <td>NaN</td>\n",
       "      <td>NaN</td>\n",
       "      <td>NaN</td>\n",
       "      <td>document_parses/pdf_json/6b0567729c2143a66d737...</td>\n",
       "      <td>document_parses/pmc_json/PMC59543.xml.json</td>\n",
       "      <td>https://www.ncbi.nlm.nih.gov/pmc/articles/PMC5...</td>\n",
       "      <td>NaN</td>\n",
       "    </tr>\n",
       "    <tr>\n",
       "      <th>2</th>\n",
       "      <td>ejv2xln0</td>\n",
       "      <td>06ced00a5fc04215949aa72528f2eeaae1d58927</td>\n",
       "      <td>PMC</td>\n",
       "      <td>Surfactant protein-D and pulmonary host defense</td>\n",
       "      <td>10.1186/rr19</td>\n",
       "      <td>PMC59549</td>\n",
       "      <td>11667972</td>\n",
       "      <td>no-cc</td>\n",
       "      <td>Surfactant protein-D (SP-D) participates in th...</td>\n",
       "      <td>2000-08-25</td>\n",
       "      <td>Crouch, Erika C</td>\n",
       "      <td>Respir Res</td>\n",
       "      <td>NaN</td>\n",
       "      <td>NaN</td>\n",
       "      <td>NaN</td>\n",
       "      <td>document_parses/pdf_json/06ced00a5fc04215949aa...</td>\n",
       "      <td>document_parses/pmc_json/PMC59549.xml.json</td>\n",
       "      <td>https://www.ncbi.nlm.nih.gov/pmc/articles/PMC5...</td>\n",
       "      <td>NaN</td>\n",
       "    </tr>\n",
       "  </tbody>\n",
       "</table>\n",
       "</div>"
      ],
      "text/plain": [
       "   cord_uid                                       sha source_x  \\\n",
       "0  ug7v899j  d1aafb70c066a2068b02786f8929fd9c900897fb      PMC   \n",
       "1  02tnwd4m  6b0567729c2143a66d737eb0a2f63f2dce2e5a7d      PMC   \n",
       "2  ejv2xln0  06ced00a5fc04215949aa72528f2eeaae1d58927      PMC   \n",
       "\n",
       "                                               title                    doi  \\\n",
       "0  Clinical features of culture-proven Mycoplasma...  10.1186/1471-2334-1-6   \n",
       "1  Nitric oxide: a pro-inflammatory mediator in l...           10.1186/rr14   \n",
       "2    Surfactant protein-D and pulmonary host defense           10.1186/rr19   \n",
       "\n",
       "      pmcid pubmed_id license  \\\n",
       "0  PMC35282  11472636   no-cc   \n",
       "1  PMC59543  11667967   no-cc   \n",
       "2  PMC59549  11667972   no-cc   \n",
       "\n",
       "                                            abstract publish_time  \\\n",
       "0  OBJECTIVE: This retrospective chart review des...   2001-07-04   \n",
       "1  Inflammatory diseases of the respiratory tract...   2000-08-15   \n",
       "2  Surfactant protein-D (SP-D) participates in th...   2000-08-25   \n",
       "\n",
       "                                             authors         journal  mag_id  \\\n",
       "0                Madani, Tariq A; Al-Ghamdi, Aisha A  BMC Infect Dis     NaN   \n",
       "1  Vliet, Albert van der; Eiserich, Jason P; Cros...      Respir Res     NaN   \n",
       "2                                    Crouch, Erika C      Respir Res     NaN   \n",
       "\n",
       "  who_covidence_id arxiv_id  \\\n",
       "0              NaN      NaN   \n",
       "1              NaN      NaN   \n",
       "2              NaN      NaN   \n",
       "\n",
       "                                      pdf_json_files  \\\n",
       "0  document_parses/pdf_json/d1aafb70c066a2068b027...   \n",
       "1  document_parses/pdf_json/6b0567729c2143a66d737...   \n",
       "2  document_parses/pdf_json/06ced00a5fc04215949aa...   \n",
       "\n",
       "                               pmc_json_files  \\\n",
       "0  document_parses/pmc_json/PMC35282.xml.json   \n",
       "1  document_parses/pmc_json/PMC59543.xml.json   \n",
       "2  document_parses/pmc_json/PMC59549.xml.json   \n",
       "\n",
       "                                                 url  s2_id  \n",
       "0  https://www.ncbi.nlm.nih.gov/pmc/articles/PMC3...    NaN  \n",
       "1  https://www.ncbi.nlm.nih.gov/pmc/articles/PMC5...    NaN  \n",
       "2  https://www.ncbi.nlm.nih.gov/pmc/articles/PMC5...    NaN  "
      ]
     },
     "execution_count": 1,
     "metadata": {},
     "output_type": "execute_result"
    }
   ],
   "source": [
    "import pandas as pd\n",
    "import nltk.stem as ns\n",
    "from pickle import dump, load\n",
    "from nltk.corpus import stopwords\n",
    "import nltk\n",
    "import re\n",
    "\n",
    "import rich.progress\n",
    "\n",
    "with rich.progress.open('/storage10/shanleng/tmp/metadata.csv', 'rb') as file:\n",
    "    df = pd.read_csv(file)\n",
    "    \n",
    "print(df.shape)\n",
    "df.head(3)"
   ]
  },
  {
   "cell_type": "code",
   "execution_count": 2,
   "id": "2b2b9963",
   "metadata": {
    "collapsed": true
   },
   "outputs": [
    {
     "data": {
      "text/plain": [
       "cord_uid            False\n",
       "sha                  True\n",
       "source_x            False\n",
       "title                True\n",
       "doi                  True\n",
       "pmcid                True\n",
       "pubmed_id            True\n",
       "license             False\n",
       "abstract             True\n",
       "publish_time         True\n",
       "authors              True\n",
       "journal              True\n",
       "mag_id               True\n",
       "who_covidence_id     True\n",
       "arxiv_id             True\n",
       "pdf_json_files       True\n",
       "pmc_json_files       True\n",
       "url                  True\n",
       "s2_id                True\n",
       "dtype: bool"
      ]
     },
     "execution_count": 2,
     "metadata": {},
     "output_type": "execute_result"
    }
   ],
   "source": [
    "df.isnull().any(axis = 0)"
   ]
  },
  {
   "cell_type": "code",
   "execution_count": 2,
   "id": "ae630a87",
   "metadata": {},
   "outputs": [
    {
     "data": {
      "text/plain": [
       "(389899, 5)"
      ]
     },
     "execution_count": 2,
     "metadata": {},
     "output_type": "execute_result"
    }
   ],
   "source": [
    "df_ = df[['cord_uid', 'abstract', 'title', 'pdf_json_files', 'pmc_json_files']]\n",
    "df_ = df_[~((df_['pdf_json_files'].isnull()) & (df_['pmc_json_files'].isnull()))]\n",
    "df_.shape"
   ]
  },
  {
   "cell_type": "code",
   "execution_count": 20,
   "id": "57aa0faa",
   "metadata": {},
   "outputs": [],
   "source": [
    "with open('/afs/cs.wisc.edu/u/l/e/leng/private/STAT605/COVID/valid_metadata','wb') as filepath: \n",
    "    dump(df_, filepath)"
   ]
  },
  {
   "cell_type": "code",
   "execution_count": 21,
   "id": "e170dbff",
   "metadata": {},
   "outputs": [
    {
     "data": {
      "text/plain": [
       "cord_uid          False\n",
       "abstract           True\n",
       "title              True\n",
       "pdf_json_files     True\n",
       "pmc_json_files     True\n",
       "dtype: bool"
      ]
     },
     "execution_count": 21,
     "metadata": {},
     "output_type": "execute_result"
    }
   ],
   "source": [
    "df_.isnull().any(axis = 0)"
   ]
  },
  {
   "cell_type": "code",
   "execution_count": 3,
   "id": "123bb31c",
   "metadata": {},
   "outputs": [
    {
     "data": {
      "text/plain": [
       "389895"
      ]
     },
     "execution_count": 3,
     "metadata": {},
     "output_type": "execute_result"
    }
   ],
   "source": [
    "titles = df_[['title']].dropna(how = 'any', axis = 0).title.tolist()\n",
    "len(titles)"
   ]
  },
  {
   "cell_type": "code",
   "execution_count": 4,
   "id": "dbcdc227",
   "metadata": {},
   "outputs": [
    {
     "data": {
      "text/plain": [
       "334585"
      ]
     },
     "execution_count": 4,
     "metadata": {},
     "output_type": "execute_result"
    }
   ],
   "source": [
    "abstracts = df_[['abstract']].dropna(how = 'any', axis = 0).abstract.tolist()\n",
    "len(abstracts)"
   ]
  },
  {
   "cell_type": "code",
   "execution_count": 5,
   "id": "4d08cf11",
   "metadata": {},
   "outputs": [
    {
     "data": {
      "text/plain": [
       "['clinical',\n",
       " 'features',\n",
       " 'culture-proven',\n",
       " 'mycoplasma',\n",
       " 'pneumoniae',\n",
       " 'infections',\n",
       " 'king',\n",
       " 'abdulaziz',\n",
       " 'university',\n",
       " 'hospital',\n",
       " 'jeddah',\n",
       " 'saudi',\n",
       " 'arabia']"
      ]
     },
     "execution_count": 5,
     "metadata": {},
     "output_type": "execute_result"
    }
   ],
   "source": [
    "stop = stopwords.words('english')\n",
    "\n",
    "filter_text = re.sub('[{}]'.format('!\"#$%&()*+,./:;<=>?@[\\\\]^_`{|}~'),'',titles[0]).replace('\\n', '')\n",
    "filter_text = [word.lower() for word in filter_text.split(' ') if word not in stop and not word.isdigit()]\n",
    "filter_text"
   ]
  },
  {
   "cell_type": "code",
   "execution_count": 6,
   "id": "b2795489",
   "metadata": {},
   "outputs": [],
   "source": [
    "titles_ = []\n",
    "\n",
    "for t in df_.fillna(0).title.tolist():\n",
    "    if t == 0:\n",
    "        titles_.append(t)\n",
    "    else:\n",
    "        filter_text = re.sub('[{}]'.format('!\"#$%&()*+,./:;<=>?@[\\\\]^_`{|}~'),'',t).replace('\\n', '')\n",
    "        filter_text = [word.lower() for word in filter_text.split(' ') if word not in stop and not word.isdigit()]\n",
    "        titles_.append(filter_text)"
   ]
  },
  {
   "cell_type": "code",
   "execution_count": 7,
   "id": "9e255bba",
   "metadata": {},
   "outputs": [
    {
     "data": {
      "text/plain": [
       "['debate',\n",
       " 'transfusing',\n",
       " 'normal',\n",
       " 'haemoglobin',\n",
       " 'levels',\n",
       " 'improve',\n",
       " 'outcome']"
      ]
     },
     "execution_count": 7,
     "metadata": {},
     "output_type": "execute_result"
    }
   ],
   "source": [
    "titles_[6]"
   ]
  },
  {
   "cell_type": "code",
   "execution_count": 7,
   "id": "c2732147",
   "metadata": {},
   "outputs": [
    {
     "name": "stdout",
     "output_type": "stream",
     "text": [
      "50000 100000 150000 200000 250000 300000 350000 "
     ]
    }
   ],
   "source": [
    "abstracts_ = []\n",
    "count = 0\n",
    "\n",
    "for a in df_.fillna(0).abstract.tolist():\n",
    "    if a == 0:\n",
    "        abstracts_.append(a)\n",
    "    else:\n",
    "        filter_text = re.sub('[{}]'.format('!\"#$%&()*+,./:;<=>?@[\\\\]^_`{|}~'),'',a).replace('\\n', '')\n",
    "        filter_text = [word.lower() for word in filter_text.split(' ') if word not in stop and not word.isdigit()]\n",
    "        abstracts_.append(filter_text)\n",
    "        \n",
    "    count += 1\n",
    "    if count%50000 == 0:\n",
    "        print(count, end = ' ')"
   ]
  },
  {
   "cell_type": "code",
   "execution_count": 9,
   "id": "279bcdff",
   "metadata": {
    "collapsed": true
   },
   "outputs": [
    {
     "data": {
      "text/plain": [
       "['objective',\n",
       " 'this',\n",
       " 'retrospective',\n",
       " 'chart',\n",
       " 'review',\n",
       " 'describes',\n",
       " 'epidemiology',\n",
       " 'clinical',\n",
       " 'features',\n",
       " 'patients',\n",
       " 'culture-proven',\n",
       " 'mycoplasma',\n",
       " 'pneumoniae',\n",
       " 'infections',\n",
       " 'king',\n",
       " 'abdulaziz',\n",
       " 'university',\n",
       " 'hospital',\n",
       " 'jeddah',\n",
       " 'saudi',\n",
       " 'arabia',\n",
       " 'methods',\n",
       " 'patients',\n",
       " 'positive',\n",
       " 'm',\n",
       " 'pneumoniae',\n",
       " 'cultures',\n",
       " 'respiratory',\n",
       " 'specimens',\n",
       " 'january',\n",
       " 'december',\n",
       " 'identified',\n",
       " 'microbiology',\n",
       " 'records',\n",
       " 'charts',\n",
       " 'patients',\n",
       " 'reviewed',\n",
       " 'results',\n",
       " 'patients',\n",
       " 'identified',\n",
       " 'required',\n",
       " 'admission',\n",
       " 'most',\n",
       " 'infections',\n",
       " 'community-acquired',\n",
       " 'the',\n",
       " 'infection',\n",
       " 'affected',\n",
       " 'age',\n",
       " 'groups',\n",
       " 'common',\n",
       " 'infants',\n",
       " 'pre-school',\n",
       " 'children',\n",
       " 'it',\n",
       " 'occurred',\n",
       " 'year-round',\n",
       " 'common',\n",
       " 'fall',\n",
       " 'spring',\n",
       " 'more',\n",
       " 'three-quarters',\n",
       " 'patients',\n",
       " 'comorbidities',\n",
       " 'twenty-four',\n",
       " 'isolates',\n",
       " 'associated',\n",
       " 'pneumonia',\n",
       " 'upper',\n",
       " 'respiratory',\n",
       " 'tract',\n",
       " 'infections',\n",
       " 'bronchiolitis',\n",
       " 'cough',\n",
       " 'fever',\n",
       " 'malaise',\n",
       " 'common',\n",
       " 'symptoms',\n",
       " 'crepitations',\n",
       " 'wheezes',\n",
       " 'common',\n",
       " 'signs',\n",
       " 'most',\n",
       " 'patients',\n",
       " 'pneumonia',\n",
       " 'crepitations',\n",
       " 'bronchial',\n",
       " 'breathing',\n",
       " 'immunocompromised',\n",
       " 'patients',\n",
       " 'likely',\n",
       " 'non-immunocompromised',\n",
       " 'patients',\n",
       " 'present',\n",
       " 'pneumonia',\n",
       " 'versus',\n",
       " 'p',\n",
       " '',\n",
       " 'of',\n",
       " 'patients',\n",
       " 'pneumonia',\n",
       " 'uneventful',\n",
       " 'recovery',\n",
       " 'recovered',\n",
       " 'following',\n",
       " 'complications',\n",
       " 'died',\n",
       " 'm',\n",
       " 'pneumoniae',\n",
       " 'infection',\n",
       " 'died',\n",
       " 'due',\n",
       " 'underlying',\n",
       " 'comorbidities',\n",
       " 'the',\n",
       " 'patients',\n",
       " 'died',\n",
       " 'm',\n",
       " 'pneumoniae',\n",
       " 'pneumonia',\n",
       " 'comorbidities',\n",
       " 'conclusion',\n",
       " 'results',\n",
       " 'similar',\n",
       " 'published',\n",
       " 'data',\n",
       " 'except',\n",
       " 'finding',\n",
       " 'infections',\n",
       " 'common',\n",
       " 'infants',\n",
       " 'preschool',\n",
       " 'children',\n",
       " 'mortality',\n",
       " 'rate',\n",
       " 'pneumonia',\n",
       " 'patients',\n",
       " 'comorbidities',\n",
       " 'high']"
      ]
     },
     "execution_count": 9,
     "metadata": {},
     "output_type": "execute_result"
    }
   ],
   "source": [
    "abstracts_[0]"
   ]
  },
  {
   "cell_type": "code",
   "execution_count": 8,
   "id": "a358cd51",
   "metadata": {
    "collapsed": true
   },
   "outputs": [
    {
     "name": "stdout",
     "output_type": "stream",
     "text": [
      "2000 4000 6000 8000 10000 "
     ]
    },
    {
     "ename": "KeyboardInterrupt",
     "evalue": "",
     "output_type": "error",
     "traceback": [
      "\u001b[0;31m---------------------------------------------------------------------------\u001b[0m",
      "\u001b[0;31mKeyboardInterrupt\u001b[0m                         Traceback (most recent call last)",
      "Cell \u001b[0;32mIn[8], line 23\u001b[0m\n\u001b[1;32m     21\u001b[0m \u001b[38;5;28;01melse\u001b[39;00m:\n\u001b[1;32m     22\u001b[0m     a \u001b[38;5;241m=\u001b[39m \u001b[38;5;28mlist\u001b[39m(\u001b[38;5;28mfilter\u001b[39m(\u001b[38;5;28;01mlambda\u001b[39;00m s: \u001b[38;5;28mlen\u001b[39m(s) \u001b[38;5;241m>\u001b[39m \u001b[38;5;241m1\u001b[39m,a))\n\u001b[0;32m---> 23\u001b[0m     tag \u001b[38;5;241m=\u001b[39m [nltk\u001b[38;5;241m.\u001b[39mpos_tag([w])[\u001b[38;5;241m0\u001b[39m] \u001b[38;5;28;01mfor\u001b[39;00m w \u001b[38;5;129;01min\u001b[39;00m a]\n\u001b[1;32m     24\u001b[0m     v_ \u001b[38;5;241m=\u001b[39m [tag[i][\u001b[38;5;241m0\u001b[39m] \u001b[38;5;28;01mfor\u001b[39;00m i \u001b[38;5;129;01min\u001b[39;00m \u001b[38;5;28mrange\u001b[39m(\u001b[38;5;28mlen\u001b[39m(tag)) \u001b[38;5;28;01mif\u001b[39;00m tag[i][\u001b[38;5;241m1\u001b[39m] \u001b[38;5;129;01min\u001b[39;00m verb]\n\u001b[1;32m     25\u001b[0m     n_ \u001b[38;5;241m=\u001b[39m [tag[i][\u001b[38;5;241m0\u001b[39m] \u001b[38;5;28;01mfor\u001b[39;00m i \u001b[38;5;129;01min\u001b[39;00m \u001b[38;5;28mrange\u001b[39m(\u001b[38;5;28mlen\u001b[39m(tag)) \u001b[38;5;28;01mif\u001b[39;00m tag[i][\u001b[38;5;241m1\u001b[39m] \u001b[38;5;129;01min\u001b[39;00m noun]\n",
      "Cell \u001b[0;32mIn[8], line 23\u001b[0m, in \u001b[0;36m<listcomp>\u001b[0;34m(.0)\u001b[0m\n\u001b[1;32m     21\u001b[0m \u001b[38;5;28;01melse\u001b[39;00m:\n\u001b[1;32m     22\u001b[0m     a \u001b[38;5;241m=\u001b[39m \u001b[38;5;28mlist\u001b[39m(\u001b[38;5;28mfilter\u001b[39m(\u001b[38;5;28;01mlambda\u001b[39;00m s: \u001b[38;5;28mlen\u001b[39m(s) \u001b[38;5;241m>\u001b[39m \u001b[38;5;241m1\u001b[39m,a))\n\u001b[0;32m---> 23\u001b[0m     tag \u001b[38;5;241m=\u001b[39m [nltk\u001b[38;5;241m.\u001b[39mpos_tag([w])[\u001b[38;5;241m0\u001b[39m] \u001b[38;5;28;01mfor\u001b[39;00m w \u001b[38;5;129;01min\u001b[39;00m a]\n\u001b[1;32m     24\u001b[0m     v_ \u001b[38;5;241m=\u001b[39m [tag[i][\u001b[38;5;241m0\u001b[39m] \u001b[38;5;28;01mfor\u001b[39;00m i \u001b[38;5;129;01min\u001b[39;00m \u001b[38;5;28mrange\u001b[39m(\u001b[38;5;28mlen\u001b[39m(tag)) \u001b[38;5;28;01mif\u001b[39;00m tag[i][\u001b[38;5;241m1\u001b[39m] \u001b[38;5;129;01min\u001b[39;00m verb]\n\u001b[1;32m     25\u001b[0m     n_ \u001b[38;5;241m=\u001b[39m [tag[i][\u001b[38;5;241m0\u001b[39m] \u001b[38;5;28;01mfor\u001b[39;00m i \u001b[38;5;129;01min\u001b[39;00m \u001b[38;5;28mrange\u001b[39m(\u001b[38;5;28mlen\u001b[39m(tag)) \u001b[38;5;28;01mif\u001b[39;00m tag[i][\u001b[38;5;241m1\u001b[39m] \u001b[38;5;129;01min\u001b[39;00m noun]\n",
      "File \u001b[0;32m~/miniconda3/envs/tmp_projects/lib/python3.11/site-packages/nltk/tag/__init__.py:166\u001b[0m, in \u001b[0;36mpos_tag\u001b[0;34m(tokens, tagset, lang)\u001b[0m\n\u001b[1;32m    141\u001b[0m \u001b[38;5;250m\u001b[39m\u001b[38;5;124;03m\"\"\"\u001b[39;00m\n\u001b[1;32m    142\u001b[0m \u001b[38;5;124;03mUse NLTK's currently recommended part of speech tagger to\u001b[39;00m\n\u001b[1;32m    143\u001b[0m \u001b[38;5;124;03mtag the given list of tokens.\u001b[39;00m\n\u001b[0;32m   (...)\u001b[0m\n\u001b[1;32m    163\u001b[0m \u001b[38;5;124;03m:rtype: list(tuple(str, str))\u001b[39;00m\n\u001b[1;32m    164\u001b[0m \u001b[38;5;124;03m\"\"\"\u001b[39;00m\n\u001b[1;32m    165\u001b[0m tagger \u001b[38;5;241m=\u001b[39m _get_tagger(lang)\n\u001b[0;32m--> 166\u001b[0m \u001b[38;5;28;01mreturn\u001b[39;00m _pos_tag(tokens, tagset, tagger, lang)\n",
      "File \u001b[0;32m~/miniconda3/envs/tmp_projects/lib/python3.11/site-packages/nltk/tag/__init__.py:123\u001b[0m, in \u001b[0;36m_pos_tag\u001b[0;34m(tokens, tagset, tagger, lang)\u001b[0m\n\u001b[1;32m    120\u001b[0m     \u001b[38;5;28;01mraise\u001b[39;00m \u001b[38;5;167;01mTypeError\u001b[39;00m(\u001b[38;5;124m\"\u001b[39m\u001b[38;5;124mtokens: expected a list of strings, got a string\u001b[39m\u001b[38;5;124m\"\u001b[39m)\n\u001b[1;32m    122\u001b[0m \u001b[38;5;28;01melse\u001b[39;00m:\n\u001b[0;32m--> 123\u001b[0m     tagged_tokens \u001b[38;5;241m=\u001b[39m tagger\u001b[38;5;241m.\u001b[39mtag(tokens)\n\u001b[1;32m    124\u001b[0m     \u001b[38;5;28;01mif\u001b[39;00m tagset:  \u001b[38;5;66;03m# Maps to the specified tagset.\u001b[39;00m\n\u001b[1;32m    125\u001b[0m         \u001b[38;5;28;01mif\u001b[39;00m lang \u001b[38;5;241m==\u001b[39m \u001b[38;5;124m\"\u001b[39m\u001b[38;5;124meng\u001b[39m\u001b[38;5;124m\"\u001b[39m:\n",
      "File \u001b[0;32m~/miniconda3/envs/tmp_projects/lib/python3.11/site-packages/nltk/tag/perceptron.py:187\u001b[0m, in \u001b[0;36mPerceptronTagger.tag\u001b[0;34m(self, tokens, return_conf, use_tagdict)\u001b[0m\n\u001b[1;32m    185\u001b[0m \u001b[38;5;28;01mif\u001b[39;00m \u001b[38;5;129;01mnot\u001b[39;00m tag:\n\u001b[1;32m    186\u001b[0m     features \u001b[38;5;241m=\u001b[39m \u001b[38;5;28mself\u001b[39m\u001b[38;5;241m.\u001b[39m_get_features(i, word, context, prev, prev2)\n\u001b[0;32m--> 187\u001b[0m     tag, conf \u001b[38;5;241m=\u001b[39m \u001b[38;5;28mself\u001b[39m\u001b[38;5;241m.\u001b[39mmodel\u001b[38;5;241m.\u001b[39mpredict(features, return_conf)\n\u001b[1;32m    188\u001b[0m output\u001b[38;5;241m.\u001b[39mappend((word, tag, conf) \u001b[38;5;28;01mif\u001b[39;00m return_conf \u001b[38;5;241m==\u001b[39m \u001b[38;5;28;01mTrue\u001b[39;00m \u001b[38;5;28;01melse\u001b[39;00m (word, tag))\n\u001b[1;32m    190\u001b[0m prev2 \u001b[38;5;241m=\u001b[39m prev\n",
      "File \u001b[0;32m~/miniconda3/envs/tmp_projects/lib/python3.11/site-packages/nltk/tag/perceptron.py:66\u001b[0m, in \u001b[0;36mAveragedPerceptron.predict\u001b[0;34m(self, features, return_conf)\u001b[0m\n\u001b[1;32m     64\u001b[0m     weights \u001b[38;5;241m=\u001b[39m \u001b[38;5;28mself\u001b[39m\u001b[38;5;241m.\u001b[39mweights[feat]\n\u001b[1;32m     65\u001b[0m     \u001b[38;5;28;01mfor\u001b[39;00m label, weight \u001b[38;5;129;01min\u001b[39;00m weights\u001b[38;5;241m.\u001b[39mitems():\n\u001b[0;32m---> 66\u001b[0m         scores[label] \u001b[38;5;241m+\u001b[39m\u001b[38;5;241m=\u001b[39m value \u001b[38;5;241m*\u001b[39m weight\n\u001b[1;32m     68\u001b[0m \u001b[38;5;66;03m# Do a secondary alphabetic sort, for stability\u001b[39;00m\n\u001b[1;32m     69\u001b[0m best_label \u001b[38;5;241m=\u001b[39m \u001b[38;5;28mmax\u001b[39m(\u001b[38;5;28mself\u001b[39m\u001b[38;5;241m.\u001b[39mclasses, key\u001b[38;5;241m=\u001b[39m\u001b[38;5;28;01mlambda\u001b[39;00m label: (scores[label], label))\n",
      "\u001b[0;31mKeyboardInterrupt\u001b[0m: "
     ]
    }
   ],
   "source": [
    "verb = ['VBD', 'VB', 'VBG', 'VBN', 'VBZ', 'VBG']\n",
    "noun = ['NN', 'NNS', 'NNP', 'NNPS']\n",
    "adj = ['JJ', 'JJR', 'JJS']\n",
    "adv = ['RB', 'RBR', 'RBS', 'UH']\n",
    "\n",
    "abs_n = []\n",
    "abs_v = []\n",
    "abs_aj = []\n",
    "abs_av = []\n",
    "\n",
    "count = 0\n",
    "\n",
    "lemmatizer = ns.WordNetLemmatizer()\n",
    "\n",
    "for a in abstracts_:\n",
    "    if a == 0:\n",
    "        v_ = 0\n",
    "        n_ = 0\n",
    "        adj_ = 0\n",
    "        adv_ = 0\n",
    "    else:\n",
    "        a = list(filter(lambda s: len(s) > 1,a))\n",
    "        tag = [nltk.pos_tag([w])[0] for w in a]\n",
    "        v_ = [tag[i][0] for i in range(len(tag)) if tag[i][1] in verb]\n",
    "        n_ = [tag[i][0] for i in range(len(tag)) if tag[i][1] in noun]\n",
    "        adj_ =  [tag[i][0] for i in range(len(tag)) if tag[i][1] in adj]\n",
    "        adv_ =  [tag[i][0] for i in range(len(tag)) if tag[i][1] in adv]\n",
    "        \n",
    "        v_ = [lemmatizer.lemmatize(v, pos='v') for v in v_]\n",
    "        n_ = [lemmatizer.lemmatize(n, pos='n') for n in n_]\n",
    "        adj_ = [lemmatizer.lemmatize(aj, pos='a') for aj in adj_]\n",
    "        adv_ = [lemmatizer.lemmatize(av, pos='r') for av in adv_]\n",
    "    \n",
    "    abs_n.append(n_)\n",
    "    abs_v.append(v_)\n",
    "    abs_aj.append(adj_)\n",
    "    abs_av.append(adv_)\n",
    "    \n",
    "    count += 1\n",
    "    if count%2000 == 0:\n",
    "        print(count, end = ' ')"
   ]
  },
  {
   "cell_type": "code",
   "execution_count": 12,
   "id": "870a4f9c",
   "metadata": {},
   "outputs": [
    {
     "data": {
      "text/plain": [
       "['critically', 'previously', 'clinically', 'critically']"
      ]
     },
     "execution_count": 12,
     "metadata": {},
     "output_type": "execute_result"
    }
   ],
   "source": [
    "abs_av[6]"
   ]
  },
  {
   "cell_type": "code",
   "execution_count": 2,
   "id": "616a93af",
   "metadata": {},
   "outputs": [
    {
     "data": {
      "text/html": [
       "<div>\n",
       "<style scoped>\n",
       "    .dataframe tbody tr th:only-of-type {\n",
       "        vertical-align: middle;\n",
       "    }\n",
       "\n",
       "    .dataframe tbody tr th {\n",
       "        vertical-align: top;\n",
       "    }\n",
       "\n",
       "    .dataframe thead th {\n",
       "        text-align: right;\n",
       "    }\n",
       "</style>\n",
       "<table border=\"1\" class=\"dataframe\">\n",
       "  <thead>\n",
       "    <tr style=\"text-align: right;\">\n",
       "      <th></th>\n",
       "      <th>cord_uid</th>\n",
       "      <th>title</th>\n",
       "      <th>abs_n</th>\n",
       "      <th>abs_v</th>\n",
       "      <th>abs_aj</th>\n",
       "      <th>abs_av</th>\n",
       "    </tr>\n",
       "  </thead>\n",
       "  <tbody>\n",
       "    <tr>\n",
       "      <th>0</th>\n",
       "      <td>ug7v899j</td>\n",
       "      <td>[clinical, features, culture-proven, mycoplasm...</td>\n",
       "      <td>[objective, retrospective, chart, review, desc...</td>\n",
       "      <td>[identify, review, identify, require, occur, a...</td>\n",
       "      <td>[clinical, positive, most, community-acquired,...</td>\n",
       "      <td>[more]</td>\n",
       "    </tr>\n",
       "    <tr>\n",
       "      <th>1</th>\n",
       "      <td>02tnwd4m</td>\n",
       "      <td>[nitric, oxide, pro-inflammatory, mediator, lu...</td>\n",
       "      <td>[inflammatory, disease, respiratory, tract, pr...</td>\n",
       "      <td>[associate, elevate, increase, know, presume, ...</td>\n",
       "      <td>[nitric, oxidative, anti-microbial, anti-oxida...</td>\n",
       "      <td>[commonly, often, comprehensively, instead]</td>\n",
       "    </tr>\n",
       "    <tr>\n",
       "      <th>2</th>\n",
       "      <td>ejv2xln0</td>\n",
       "      <td>[surfactant, protein-d, pulmonary, host, defense]</td>\n",
       "      <td>[surfactant, protein-d, sp-d, participates, in...</td>\n",
       "      <td>[inhale, synthesize, secrete, express, line, e...</td>\n",
       "      <td>[organic, epithelial, epithelial, various, gen...</td>\n",
       "      <td>[also, also, specifically, abnormally, appropr...</td>\n",
       "    </tr>\n",
       "  </tbody>\n",
       "</table>\n",
       "</div>"
      ],
      "text/plain": [
       "   cord_uid                                              title  \\\n",
       "0  ug7v899j  [clinical, features, culture-proven, mycoplasm...   \n",
       "1  02tnwd4m  [nitric, oxide, pro-inflammatory, mediator, lu...   \n",
       "2  ejv2xln0  [surfactant, protein-d, pulmonary, host, defense]   \n",
       "\n",
       "                                               abs_n  \\\n",
       "0  [objective, retrospective, chart, review, desc...   \n",
       "1  [inflammatory, disease, respiratory, tract, pr...   \n",
       "2  [surfactant, protein-d, sp-d, participates, in...   \n",
       "\n",
       "                                               abs_v  \\\n",
       "0  [identify, review, identify, require, occur, a...   \n",
       "1  [associate, elevate, increase, know, presume, ...   \n",
       "2  [inhale, synthesize, secrete, express, line, e...   \n",
       "\n",
       "                                              abs_aj  \\\n",
       "0  [clinical, positive, most, community-acquired,...   \n",
       "1  [nitric, oxidative, anti-microbial, anti-oxida...   \n",
       "2  [organic, epithelial, epithelial, various, gen...   \n",
       "\n",
       "                                              abs_av  \n",
       "0                                             [more]  \n",
       "1        [commonly, often, comprehensively, instead]  \n",
       "2  [also, also, specifically, abnormally, appropr...  "
      ]
     },
     "execution_count": 2,
     "metadata": {},
     "output_type": "execute_result"
    }
   ],
   "source": [
    "meta_words = load(open('/afs/cs.wisc.edu/u/l/e/leng/private/STAT605/COVID/meta_words', 'rb'))\n",
    "meta_words.head(3)"
   ]
  }
 ],
 "metadata": {
  "kernelspec": {
   "display_name": "Python 3 (ipykernel)",
   "language": "python",
   "name": "python3"
  },
  "language_info": {
   "codemirror_mode": {
    "name": "ipython",
    "version": 3
   },
   "file_extension": ".py",
   "mimetype": "text/x-python",
   "name": "python",
   "nbconvert_exporter": "python",
   "pygments_lexer": "ipython3",
   "version": "3.11.0"
  }
 },
 "nbformat": 4,
 "nbformat_minor": 5
}
