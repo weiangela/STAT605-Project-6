{
 "cells": [
  {
   "cell_type": "code",
   "execution_count": 7,
   "id": "ea475df8",
   "metadata": {},
   "outputs": [],
   "source": [
    "import pickle\n",
    "import csv"
   ]
  },
  {
   "cell_type": "code",
   "execution_count": 5,
   "id": "4adf0f48",
   "metadata": {},
   "outputs": [
    {
     "name": "stdout",
     "output_type": "stream",
     "text": [
      "         cord_uid                                           abstract   \n",
      "0        ug7v899j  OBJECTIVE: This retrospective chart review des...  \\\n",
      "1        02tnwd4m  Inflammatory diseases of the respiratory tract...   \n",
      "2        ejv2xln0  Surfactant protein-D (SP-D) participates in th...   \n",
      "3        2b73a28n  Endothelin-1 (ET-1) is a 21 amino acid peptide...   \n",
      "4        9785vg6d  Respiratory syncytial virus (RSV) and pneumoni...   \n",
      "...           ...                                                ...   \n",
      "1056655  aeuy92bx  2019-nCoV, which is a novel coronavirus emerge...   \n",
      "1056656  n8hlrknq  Microbiology laboratories have traditionally r...   \n",
      "1056657  05dxn54t  To present a patient with bilateral conjunctiv...   \n",
      "1056658  zpeij14g  Given COVID-19 pandemic periodic outpatient as...   \n",
      "1056659  pq54lvya  OBJECTIVE: To examine interhospital variation ...   \n",
      "\n",
      "                                                     title   \n",
      "0        Clinical features of culture-proven Mycoplasma...  \\\n",
      "1        Nitric oxide: a pro-inflammatory mediator in l...   \n",
      "2          Surfactant protein-D and pulmonary host defense   \n",
      "3                     Role of endothelin-1 in lung disease   \n",
      "4        Gene expression in epithelial cells in respons...   \n",
      "...                                                    ...   \n",
      "1056655  Potent neutralization of 2019 novel coronaviru...   \n",
      "1056656  Molecular-based diagnostics, including future ...   \n",
      "1056657  A Patient With Bilateral Conjunctivitis Positi...   \n",
      "1056658  Incidental lowering of otitis-media complaints...   \n",
      "1056659  Hospital variation in admissions to neonatal i...   \n",
      "\n",
      "                                            pdf_json_files   \n",
      "0        document_parses/pdf_json/d1aafb70c066a2068b027...  \\\n",
      "1        document_parses/pdf_json/6b0567729c2143a66d737...   \n",
      "2        document_parses/pdf_json/06ced00a5fc04215949aa...   \n",
      "3        document_parses/pdf_json/348055649b6b8cf2b9a37...   \n",
      "4        document_parses/pdf_json/5f48792a5fa08bed9f560...   \n",
      "...                                                    ...   \n",
      "1056655  document_parses/pdf_json/d86cfba423427426c10fa...   \n",
      "1056656  document_parses/pdf_json/b98985f125c3391aac709...   \n",
      "1056657  document_parses/pdf_json/0d1698212a1fcbbed2fff...   \n",
      "1056658  document_parses/pdf_json/9b2bbb5ceb21084931b5d...   \n",
      "1056659  document_parses/pdf_json/c7ae1a19b70e6e2806b67...   \n",
      "\n",
      "                                       pmc_json_files  \n",
      "0          document_parses/pmc_json/PMC35282.xml.json  \n",
      "1          document_parses/pmc_json/PMC59543.xml.json  \n",
      "2          document_parses/pmc_json/PMC59549.xml.json  \n",
      "3          document_parses/pmc_json/PMC59574.xml.json  \n",
      "4          document_parses/pmc_json/PMC59580.xml.json  \n",
      "...                                               ...  \n",
      "1056655                                           NaN  \n",
      "1056656  document_parses/pmc_json/PMC7108438.xml.json  \n",
      "1056657  document_parses/pmc_json/PMC7446980.xml.json  \n",
      "1056658  document_parses/pmc_json/PMC7370867.xml.json  \n",
      "1056659  document_parses/pmc_json/PMC7427695.xml.json  \n",
      "\n",
      "[389899 rows x 5 columns]\n"
     ]
    }
   ],
   "source": [
    "with open('valid_metadata', 'rb') as file:\n",
    "    load_data = pickle.load(file)\n",
    "print(load_data)"
   ]
  },
  {
   "cell_type": "code",
   "execution_count": 11,
   "id": "fc8b7737",
   "metadata": {},
   "outputs": [],
   "source": [
    "import pandas as pd\n",
    "import pickle\n",
    "\n",
    "\n",
    "with open('valid_metadata', 'rb') as file:\n",
    "    loaded_data = pickle.load(file)\n",
    "\n",
    "df = pd.DataFrame(data)\n",
    "df.to_csv('vailddata.csv', index=False)"
   ]
  },
  {
   "cell_type": "code",
   "execution_count": 2,
   "id": "0a75b0bb",
   "metadata": {},
   "outputs": [],
   "source": [
    "import pandas as pd\n",
    "import pickle\n",
    "\n",
    "\n",
    "with open('meta_words', 'rb') as file:\n",
    "    loaded_data = pickle.load(file)\n",
    "\n",
    "df = pd.DataFrame(loaded_data)\n",
    "df.to_csv('metadata.csv', index=False)"
   ]
  },
  {
   "cell_type": "code",
   "execution_count": null,
   "id": "1c6af33e",
   "metadata": {},
   "outputs": [],
   "source": []
  }
 ],
 "metadata": {
  "kernelspec": {
   "display_name": "Python 3 (ipykernel)",
   "language": "python",
   "name": "python3"
  },
  "language_info": {
   "codemirror_mode": {
    "name": "ipython",
    "version": 3
   },
   "file_extension": ".py",
   "mimetype": "text/x-python",
   "name": "python",
   "nbconvert_exporter": "python",
   "pygments_lexer": "ipython3",
   "version": "3.10.9"
  }
 },
 "nbformat": 4,
 "nbformat_minor": 5
}
