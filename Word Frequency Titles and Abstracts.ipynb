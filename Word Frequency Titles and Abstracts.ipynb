{
 "cells": [
  {
   "cell_type": "code",
   "execution_count": 2,
   "id": "acbf5e98",
   "metadata": {},
   "outputs": [
    {
     "name": "stderr",
     "output_type": "stream",
     "text": [
      "C:\\Users\\18223\\AppData\\Local\\Temp\\ipykernel_16240\\129582515.py:3: DtypeWarning: Columns (1,4,5,6,13,14,15,16) have mixed types. Specify dtype option on import or set low_memory=False.\n",
      "  df = pd.read_csv(\"metadata.csv\")\n"
     ]
    }
   ],
   "source": [
    "import nltk\n",
    "import pandas as pd\n",
    "df = pd.read_csv(\"metadata.csv\")"
   ]
  },
  {
   "cell_type": "code",
   "execution_count": 33,
   "id": "d0102d7a",
   "metadata": {},
   "outputs": [
    {
     "data": {
      "text/plain": [
       "['i',\n",
       " 'me',\n",
       " 'my',\n",
       " 'myself',\n",
       " 'we',\n",
       " 'our',\n",
       " 'ours',\n",
       " 'ourselves',\n",
       " 'you',\n",
       " \"you're\",\n",
       " \"you've\",\n",
       " \"you'll\",\n",
       " \"you'd\",\n",
       " 'your',\n",
       " 'yours',\n",
       " 'yourself',\n",
       " 'yourselves',\n",
       " 'he',\n",
       " 'him',\n",
       " 'his',\n",
       " 'himself',\n",
       " 'she',\n",
       " \"she's\",\n",
       " 'her',\n",
       " 'hers',\n",
       " 'herself',\n",
       " 'it',\n",
       " \"it's\",\n",
       " 'its',\n",
       " 'itself',\n",
       " 'they',\n",
       " 'them',\n",
       " 'their',\n",
       " 'theirs',\n",
       " 'themselves',\n",
       " 'what',\n",
       " 'which',\n",
       " 'who',\n",
       " 'whom',\n",
       " 'this',\n",
       " 'that',\n",
       " \"that'll\",\n",
       " 'these',\n",
       " 'those',\n",
       " 'am',\n",
       " 'is',\n",
       " 'are',\n",
       " 'was',\n",
       " 'were',\n",
       " 'be',\n",
       " 'been',\n",
       " 'being',\n",
       " 'have',\n",
       " 'has',\n",
       " 'had',\n",
       " 'having',\n",
       " 'do',\n",
       " 'does',\n",
       " 'did',\n",
       " 'doing',\n",
       " 'a',\n",
       " 'an',\n",
       " 'the',\n",
       " 'and',\n",
       " 'but',\n",
       " 'if',\n",
       " 'or',\n",
       " 'because',\n",
       " 'as',\n",
       " 'until',\n",
       " 'while',\n",
       " 'of',\n",
       " 'at',\n",
       " 'by',\n",
       " 'for',\n",
       " 'with',\n",
       " 'about',\n",
       " 'against',\n",
       " 'between',\n",
       " 'into',\n",
       " 'through',\n",
       " 'during',\n",
       " 'before',\n",
       " 'after',\n",
       " 'above',\n",
       " 'below',\n",
       " 'to',\n",
       " 'from',\n",
       " 'up',\n",
       " 'down',\n",
       " 'in',\n",
       " 'out',\n",
       " 'on',\n",
       " 'off',\n",
       " 'over',\n",
       " 'under',\n",
       " 'again',\n",
       " 'further',\n",
       " 'then',\n",
       " 'once',\n",
       " 'here',\n",
       " 'there',\n",
       " 'when',\n",
       " 'where',\n",
       " 'why',\n",
       " 'how',\n",
       " 'all',\n",
       " 'any',\n",
       " 'both',\n",
       " 'each',\n",
       " 'few',\n",
       " 'more',\n",
       " 'most',\n",
       " 'other',\n",
       " 'some',\n",
       " 'such',\n",
       " 'no',\n",
       " 'nor',\n",
       " 'not',\n",
       " 'only',\n",
       " 'own',\n",
       " 'same',\n",
       " 'so',\n",
       " 'than',\n",
       " 'too',\n",
       " 'very',\n",
       " 's',\n",
       " 't',\n",
       " 'can',\n",
       " 'will',\n",
       " 'just',\n",
       " 'don',\n",
       " \"don't\",\n",
       " 'should',\n",
       " \"should've\",\n",
       " 'now',\n",
       " 'd',\n",
       " 'll',\n",
       " 'm',\n",
       " 'o',\n",
       " 're',\n",
       " 've',\n",
       " 'y',\n",
       " 'ain',\n",
       " 'aren',\n",
       " \"aren't\",\n",
       " 'couldn',\n",
       " \"couldn't\",\n",
       " 'didn',\n",
       " \"didn't\",\n",
       " 'doesn',\n",
       " \"doesn't\",\n",
       " 'hadn',\n",
       " \"hadn't\",\n",
       " 'hasn',\n",
       " \"hasn't\",\n",
       " 'haven',\n",
       " \"haven't\",\n",
       " 'isn',\n",
       " \"isn't\",\n",
       " 'ma',\n",
       " 'mightn',\n",
       " \"mightn't\",\n",
       " 'mustn',\n",
       " \"mustn't\",\n",
       " 'needn',\n",
       " \"needn't\",\n",
       " 'shan',\n",
       " \"shan't\",\n",
       " 'shouldn',\n",
       " \"shouldn't\",\n",
       " 'wasn',\n",
       " \"wasn't\",\n",
       " 'weren',\n",
       " \"weren't\",\n",
       " 'won',\n",
       " \"won't\",\n",
       " 'wouldn',\n",
       " \"wouldn't\"]"
      ]
     },
     "execution_count": 33,
     "metadata": {},
     "output_type": "execute_result"
    }
   ],
   "source": [
    "stopwords = nltk.corpus.stopwords.words(\"english\")\n",
    "stopwords"
   ]
  },
  {
   "cell_type": "code",
   "execution_count": 25,
   "id": "27fa4feb",
   "metadata": {},
   "outputs": [
    {
     "data": {
      "text/plain": [
       "Index(['cord_uid', 'sha', 'source_x', 'title', 'doi', 'pmcid', 'pubmed_id',\n",
       "       'license', 'abstract', 'publish_time', 'authors', 'journal', 'mag_id',\n",
       "       'who_covidence_id', 'arxiv_id', 'pdf_json_files', 'pmc_json_files',\n",
       "       'url', 's2_id'],\n",
       "      dtype='object')"
      ]
     },
     "execution_count": 25,
     "metadata": {},
     "output_type": "execute_result"
    }
   ],
   "source": [
    "df.columns"
   ]
  },
  {
   "cell_type": "code",
   "execution_count": null,
   "id": "3017c238",
   "metadata": {},
   "outputs": [],
   "source": [
    "# clean brackets\n",
    "import re\n",
    "def clean_text(text):\n",
    "    # Remove brackets \n",
    "    cleaned_text = re.sub(r'[\\(\\)]', '', text)\n",
    "    return cleaned_text\n",
    "df['cleaned'] = df['title'].apply(lambda x: clean_text(x) if pd.notnull(x) else [])\n",
    "df['cleaned'].head()"
   ]
  },
  {
   "cell_type": "code",
   "execution_count": 50,
   "id": "f76c369b",
   "metadata": {},
   "outputs": [
    {
     "data": {
      "text/plain": [
       "0    [clinical, features, of, culture-proven, mycop...\n",
       "1    [nitric, oxide, :, a, pro-inflammatory, mediat...\n",
       "2    [surfactant, protein-d, and, pulmonary, host, ...\n",
       "3          [role, of, endothelin-1, in, lung, disease]\n",
       "4    [gene, expression, in, epithelial, cells, in, ...\n",
       "Name: words, dtype: object"
      ]
     },
     "execution_count": 50,
     "metadata": {},
     "output_type": "execute_result"
    }
   ],
   "source": [
    "# vectorize\n",
    "df['words'] = df['cleaned'].apply(lambda x: nltk.word_tokenize(str(x).lower()))\n",
    "df['words'].head()"
   ]
  },
  {
   "cell_type": "code",
   "execution_count": null,
   "id": "f9cd82bd",
   "metadata": {},
   "outputs": [],
   "source": [
    "# lemmetization\n",
    "nltk.download(\"wordnet\")\n",
    "nltk.download(\"omw-1.4\")\n",
    "wnl = nltk.WordNetLemmatizer()"
   ]
  },
  {
   "cell_type": "code",
   "execution_count": 51,
   "id": "de4690a5",
   "metadata": {},
   "outputs": [
    {
     "data": {
      "text/plain": [
       "0    [clinical, feature, mycoplasma, pneumoniae, in...\n",
       "1             [nitric, oxide, mediator, lung, disease]\n",
       "2               [surfactant, pulmonary, host, defense]\n",
       "3                                [role, lung, disease]\n",
       "4    [gene, expression, epithelial, cell, response,...\n",
       "Name: words, dtype: object"
      ]
     },
     "execution_count": 51,
     "metadata": {},
     "output_type": "execute_result"
    }
   ],
   "source": [
    "# remove stopwords/punctuations, lemmatize\n",
    "df['words'] = df['words'].apply(lambda word_list: [wnl.lemmatize(word) for word in word_list if word.isalpha() and word not in stopwords])\n",
    "df['words'].head()"
   ]
  },
  {
   "cell_type": "code",
   "execution_count": 52,
   "id": "e980fbbe",
   "metadata": {},
   "outputs": [
    {
     "data": {
      "text/plain": [
       "['clinical', 'feature', 'mycoplasma', 'pneumoniae', 'infection']"
      ]
     },
     "execution_count": 52,
     "metadata": {},
     "output_type": "execute_result"
    }
   ],
   "source": [
    "all_words = [word for sublist in df['words'] for word in sublist]\n",
    "all_words[:5]"
   ]
  },
  {
   "cell_type": "code",
   "execution_count": 81,
   "id": "d7310be3",
   "metadata": {},
   "outputs": [],
   "source": [
    "df_titles = pd.DataFrame(all_words)\n",
    "df_titles.to_csv('titles.csv',index=False)"
   ]
  },
  {
   "cell_type": "code",
   "execution_count": 53,
   "id": "ea775e5d",
   "metadata": {},
   "outputs": [
    {
     "name": "stdout",
     "output_type": "stream",
     "text": [
      "   pandemic     patient       study     disease      health   infection coronavirus      impact        case      review \n",
      "     140541      114811       80657       65229       63965       57523       54918       46870       44139       43879 \n"
     ]
    }
   ],
   "source": [
    "# frequency\n",
    "fd = nltk.FreqDist(all_words)\n",
    "fd.tabulate(10)"
   ]
  },
  {
   "cell_type": "code",
   "execution_count": 54,
   "id": "ebbc9538",
   "metadata": {},
   "outputs": [
    {
     "name": "stdout",
     "output_type": "stream",
     "text": [
      " ('coronavirus', 'disease')    ('systematic', 'review')          ('case', 'report')        ('mental', 'health')    ('acute', 'respiratory')         ('cohort', 'study')        ('public', 'health')      ('impact', 'pandemic') ('respiratory', 'syndrome')          ('health', 'care') \n",
      "                      22357                       18180                       13575                       12965                       10732                        8468                        8365                        8238                        7893                        7584 \n"
     ]
    }
   ],
   "source": [
    "# bigram\n",
    "finder2 = nltk.collocations.BigramCollocationFinder.from_words(all_words)\n",
    "finder2.ngram_fd.tabulate(10)"
   ]
  },
  {
   "cell_type": "code",
   "execution_count": 55,
   "id": "47ba500c",
   "metadata": {},
   "outputs": [
    {
     "name": "stdout",
     "output_type": "stream",
     "text": [
      "        ('severe', 'acute', 'respiratory')       ('acute', 'respiratory', 'syndrome') ('respiratory', 'syndrome', 'coronavirus')     ('coronavirus', 'disease', 'pandemic')           ('critically', 'ill', 'patient')              ('intensive', 'care', 'unit')      ('randomized', 'controlled', 'trial')    ('respiratory', 'distress', 'syndrome')       ('acute', 'respiratory', 'distress')       ('retrospective', 'cohort', 'study') \n",
      "                                      6931                                       6018                                       4867                                       3371                                       3340                                       3316                                       3157                                       2592                                       2543                                       2381 \n"
     ]
    }
   ],
   "source": [
    "# trigram\n",
    "finder3 = nltk.collocations.TrigramCollocationFinder.from_words(all_words)\n",
    "finder3.ngram_fd.tabulate(10)"
   ]
  },
  {
   "cell_type": "code",
   "execution_count": null,
   "id": "121203d3",
   "metadata": {},
   "outputs": [],
   "source": [
    "# repeat the process for abstracts"
   ]
  },
  {
   "cell_type": "code",
   "execution_count": 66,
   "id": "4ed3c9a2",
   "metadata": {},
   "outputs": [
    {
     "data": {
      "text/plain": [
       "0    OBJECTIVE: This retrospective chart review des...\n",
       "1    Inflammatory diseases of the respiratory tract...\n",
       "2    Surfactant protein-D SP-D participates in the ...\n",
       "3    Endothelin-1 ET-1 is a 21 amino acid peptide w...\n",
       "4    Respiratory syncytial virus RSV and pneumonia ...\n",
       "Name: cleaned_abs, dtype: object"
      ]
     },
     "execution_count": 66,
     "metadata": {},
     "output_type": "execute_result"
    }
   ],
   "source": [
    "# clean brackets\n",
    "df['cleaned_abs'] = df['abstract'].apply(lambda x: clean_text(x) if pd.notnull(x) else [])\n",
    "df['cleaned_abs'].head()"
   ]
  },
  {
   "cell_type": "code",
   "execution_count": 67,
   "id": "d26ae54f",
   "metadata": {},
   "outputs": [
    {
     "data": {
      "text/plain": [
       "0    [objective, :, this, retrospective, chart, rev...\n",
       "1    [inflammatory, diseases, of, the, respiratory,...\n",
       "2    [surfactant, protein-d, sp-d, participates, in...\n",
       "3    [endothelin-1, et-1, is, a, 21, amino, acid, p...\n",
       "4    [respiratory, syncytial, virus, rsv, and, pneu...\n",
       "Name: abs_words, dtype: object"
      ]
     },
     "execution_count": 67,
     "metadata": {},
     "output_type": "execute_result"
    }
   ],
   "source": [
    "# vectorize\n",
    "df['abs_words'] = df['cleaned_abs'].apply(lambda x: nltk.word_tokenize(str(x).lower()))\n",
    "df['abs_words'].head()"
   ]
  },
  {
   "cell_type": "code",
   "execution_count": 68,
   "id": "c340cbc4",
   "metadata": {},
   "outputs": [
    {
     "data": {
      "text/plain": [
       "0    [objective, retrospective, chart, review, desc...\n",
       "1    [inflammatory, disease, respiratory, tract, co...\n",
       "2    [surfactant, participates, innate, response, i...\n",
       "3    [amino, acid, peptide, diverse, biological, ac...\n",
       "4    [respiratory, syncytial, virus, rsv, pneumonia...\n",
       "Name: abs_words, dtype: object"
      ]
     },
     "execution_count": 68,
     "metadata": {},
     "output_type": "execute_result"
    }
   ],
   "source": [
    "# remove stopwords/punctuations, lemmatize\n",
    "df['abs_words'] = df['abs_words'].apply(lambda word_list: [wnl.lemmatize(word) for word in word_list if word.isalpha() and word not in stopwords])\n",
    "df['abs_words'].head()"
   ]
  },
  {
   "cell_type": "code",
   "execution_count": 69,
   "id": "3696dd68",
   "metadata": {},
   "outputs": [
    {
     "data": {
      "text/plain": [
       "['objective', 'retrospective', 'chart', 'review', 'describes']"
      ]
     },
     "execution_count": 69,
     "metadata": {},
     "output_type": "execute_result"
    }
   ],
   "source": [
    "all_abs_words = [word for sublist in df['abs_words'] for word in sublist]\n",
    "all_abs_words[:5]"
   ]
  },
  {
   "cell_type": "code",
   "execution_count": 82,
   "id": "8beeb240",
   "metadata": {},
   "outputs": [],
   "source": [
    "df_abstracts = pd.DataFrame(all_abs_words)\n",
    "df_abstracts.to_csv('abstracts.csv',index=False)"
   ]
  },
  {
   "cell_type": "code",
   "execution_count": 70,
   "id": "26cb97d9",
   "metadata": {},
   "outputs": [
    {
     "name": "stdout",
     "output_type": "stream",
     "text": [
      "  patient     study  pandemic    result   disease    health infection      data    method      case \n",
      "  1123391    778194    544136    509470    502793    496989    402256    380355    371558    335178 \n"
     ]
    }
   ],
   "source": [
    "# frequency\n",
    "abs_fd = nltk.FreqDist(all_abs_words)\n",
    "abs_fd.tabulate(10)"
   ]
  },
  {
   "cell_type": "code",
   "execution_count": 71,
   "id": "b789d284",
   "metadata": {},
   "outputs": [
    {
     "name": "stdout",
     "output_type": "stream",
     "text": [
      " ('coronavirus', 'disease')    ('acute', 'respiratory')        ('public', 'health')        ('mental', 'health') ('respiratory', 'syndrome')         ('severe', 'acute')          ('health', 'care') ('syndrome', 'coronavirus')          ('risk', 'factor')   ('infectious', 'disease') \n",
      "                     107952                       85359                       79401                       69907                       68801                       67107                       50516                       48703                       47493                       34581 \n"
     ]
    }
   ],
   "source": [
    "# bigram\n",
    "finder2 = nltk.collocations.BigramCollocationFinder.from_words(all_abs_words)\n",
    "finder2.ngram_fd.tabulate(10)"
   ]
  },
  {
   "cell_type": "code",
   "execution_count": 72,
   "id": "f274dcbc",
   "metadata": {},
   "outputs": [
    {
     "name": "stdout",
     "output_type": "stream",
     "text": [
      "        ('severe', 'acute', 'respiratory')       ('acute', 'respiratory', 'syndrome') ('respiratory', 'syndrome', 'coronavirus')              ('intensive', 'care', 'unit')     ('coronavirus', 'disease', 'pandemic')        ('world', 'health', 'organization') ('supplementary', 'material', 'available')  ('contains', 'supplementary', 'material')        ('polymerase', 'chain', 'reaction')    ('respiratory', 'distress', 'syndrome') \n",
      "                                     66176                                      61374                                      48335                                      24261                                      23086                                      15749                                      14207                                      13990                                      13892                                      12886 \n"
     ]
    }
   ],
   "source": [
    "# trigram\n",
    "finder3 = nltk.collocations.TrigramCollocationFinder.from_words(all_abs_words)\n",
    "finder3.ngram_fd.tabulate(10)"
   ]
  }
 ],
 "metadata": {
  "kernelspec": {
   "display_name": "Python 3 (ipykernel)",
   "language": "python",
   "name": "python3"
  },
  "language_info": {
   "codemirror_mode": {
    "name": "ipython",
    "version": 3
   },
   "file_extension": ".py",
   "mimetype": "text/x-python",
   "name": "python",
   "nbconvert_exporter": "python",
   "pygments_lexer": "ipython3",
   "version": "3.9.13"
  }
 },
 "nbformat": 4,
 "nbformat_minor": 5
}
