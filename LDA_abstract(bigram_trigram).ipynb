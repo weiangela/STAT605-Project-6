{
 "cells": [
  {
   "cell_type": "code",
   "execution_count": 2,
   "id": "f1a6a87b",
   "metadata": {},
   "outputs": [],
   "source": [
    "from gensim import corpora\n",
    "from gensim.models import LdaModel\n",
    "from pprint import pprint"
   ]
  },
  {
   "cell_type": "code",
   "execution_count": 24,
   "id": "583c7672",
   "metadata": {},
   "outputs": [],
   "source": [
    "abs_brigram = [('coronavirus', 'disease'),('acute', 'respiratory'), ('public', 'health'),('mental', 'health'),('respiratory', 'syndrome'),('severe', 'acute'),('risk', 'factor'),('syndrome', 'coronavirus'),('health', 'care'),('immune', 'response'),('infectious', 'disease'),('supplementary', 'material'),('ci', 'p'),('intensive', 'care'),('online', 'version'),('material', 'available'),('clinical', 'trial'),('contains', 'supplementary'),('study', 'aimed'),('age', 'year'),('supplementary', 'information'),('logistic', 'regression'),('information', 'online'),('viral', 'infection'),('version', 'contains'),('care', 'unit'),('aim', 'study'),('social', 'distancing'),('united', 'state'),('spike', 'protein'),('significant', 'difference'),('social', 'medium'),('result', 'total'),('aged', 'year'),('present', 'study'),('see', 'text'),('study', 'conducted'),('novel', 'coronavirus'),('disease', 'pandemic'),('confidence', 'interval'),('mortality', 'rate'),('significantly', 'higher'),('healthcare', 'worker'),('control', 'group'),('mechanical', 'ventilation'),('systematic', 'review'),('physical', 'activity'),('cohort', 'study'),('quality', 'life'),('method', 'study')]"
   ]
  },
  {
   "cell_type": "code",
   "execution_count": 25,
   "id": "34a801be",
   "metadata": {},
   "outputs": [],
   "source": [
    "bigram_strings = [' '.join(bigram) for bigram in abs_brigram]\n",
    "dictionary = corpora.Dictionary([bigram_strings])\n",
    "corpus = [dictionary.doc2bow(bigram_strings)]"
   ]
  },
  {
   "cell_type": "code",
   "execution_count": 26,
   "id": "04f1efc9",
   "metadata": {},
   "outputs": [],
   "source": [
    "lda_model3 = LdaModel(corpus, id2word=dictionary, num_topics=2, passes=20)"
   ]
  },
  {
   "cell_type": "code",
   "execution_count": 27,
   "id": "34dc5dae",
   "metadata": {},
   "outputs": [
    {
     "data": {
      "text/plain": [
       "[(0,\n",
       "  '0.020*\"physical activity\" + 0.020*\"confidence interval\" + 0.020*\"information online\" + 0.020*\"present study\" + 0.020*\"contains supplementary\" + 0.020*\"significantly higher\" + 0.020*\"cohort study\" + 0.020*\"disease pandemic\" + 0.020*\"supplementary information\" + 0.020*\"respiratory syndrome\" + 0.020*\"study conducted\" + 0.020*\"social distancing\" + 0.020*\"mechanical ventilation\" + 0.020*\"public health\" + 0.020*\"risk factor\" + 0.020*\"see text\" + 0.020*\"syndrome coronavirus\" + 0.020*\"united state\" + 0.020*\"material available\" + 0.020*\"result total\" + 0.020*\"online version\" + 0.020*\"viral infection\" + 0.020*\"acute respiratory\" + 0.020*\"spike protein\" + 0.020*\"version contains\" + 0.020*\"severe acute\" + 0.020*\"social medium\" + 0.020*\"method study\" + 0.020*\"age year\" + 0.020*\"significant difference\" + 0.020*\"coronavirus disease\" + 0.020*\"immune response\" + 0.020*\"novel coronavirus\" + 0.020*\"intensive care\" + 0.020*\"mental health\" + 0.020*\"quality life\" + 0.020*\"control group\" + 0.020*\"supplementary material\" + 0.020*\"logistic regression\" + 0.020*\"aged year\" + 0.020*\"systematic review\" + 0.020*\"health care\" + 0.020*\"infectious disease\" + 0.020*\"mortality rate\" + 0.020*\"care unit\" + 0.020*\"healthcare worker\" + 0.020*\"study aimed\" + 0.020*\"ci p\" + 0.020*\"aim study\" + 0.020*\"clinical trial\"'),\n",
       " (1,\n",
       "  '0.020*\"clinical trial\" + 0.020*\"aim study\" + 0.020*\"ci p\" + 0.020*\"study aimed\" + 0.020*\"healthcare worker\" + 0.020*\"care unit\" + 0.020*\"mortality rate\" + 0.020*\"infectious disease\" + 0.020*\"health care\" + 0.020*\"systematic review\" + 0.020*\"aged year\" + 0.020*\"logistic regression\" + 0.020*\"supplementary material\" + 0.020*\"control group\" + 0.020*\"quality life\" + 0.020*\"mental health\" + 0.020*\"intensive care\" + 0.020*\"novel coronavirus\" + 0.020*\"immune response\" + 0.020*\"coronavirus disease\" + 0.020*\"significant difference\" + 0.020*\"age year\" + 0.020*\"method study\" + 0.020*\"social medium\" + 0.020*\"severe acute\" + 0.020*\"version contains\" + 0.020*\"spike protein\" + 0.020*\"acute respiratory\" + 0.020*\"viral infection\" + 0.020*\"online version\" + 0.020*\"result total\" + 0.020*\"material available\" + 0.020*\"united state\" + 0.020*\"syndrome coronavirus\" + 0.020*\"see text\" + 0.020*\"risk factor\" + 0.020*\"public health\" + 0.020*\"mechanical ventilation\" + 0.020*\"social distancing\" + 0.020*\"study conducted\" + 0.020*\"respiratory syndrome\" + 0.020*\"supplementary information\" + 0.020*\"disease pandemic\" + 0.020*\"cohort study\" + 0.020*\"significantly higher\" + 0.020*\"contains supplementary\" + 0.020*\"present study\" + 0.020*\"information online\" + 0.020*\"confidence interval\" + 0.020*\"physical activity\"')]"
      ]
     },
     "execution_count": 27,
     "metadata": {},
     "output_type": "execute_result"
    }
   ],
   "source": [
    "topics = lda_model3.print_topics(num_words=1000)\n",
    "topics"
   ]
  },
  {
   "cell_type": "code",
   "execution_count": 28,
   "id": "ad7defc2",
   "metadata": {},
   "outputs": [
    {
     "name": "stderr",
     "output_type": "stream",
     "text": [
      "/Library/Frameworks/Python.framework/Versions/3.10/lib/python3.10/site-packages/pandas/core/dtypes/cast.py:1429: DeprecationWarning: np.find_common_type is deprecated.  Please use `np.result_type` or `np.promote_types`.\n",
      "See https://numpy.org/devdocs/release/1.25.0-notes.html and the docs for more information.  (Deprecated NumPy 1.25)\n",
      "  return np.find_common_type(types, [])\n"
     ]
    },
    {
     "data": {
      "text/html": [
       "\n",
       "<link rel=\"stylesheet\" type=\"text/css\" href=\"https://cdn.jsdelivr.net/gh/bmabey/pyLDAvis@3.4.0/pyLDAvis/js/ldavis.v1.0.0.css\">\n",
       "\n",
       "\n",
       "<div id=\"ldavis_el1057852956742405228816290\" style=\"background-color:white;\"></div>\n",
       "<script type=\"text/javascript\">\n",
       "\n",
       "var ldavis_el1057852956742405228816290_data = {\"mdsDat\": {\"x\": [-0.0, 0.0], \"y\": [0.0, 0.0], \"topics\": [1, 2], \"cluster\": [1, 1], \"Freq\": [98.8555878741864, 1.1444121258135997]}, \"tinfo\": {\"Term\": [\"physical activity\", \"confidence interval\", \"information online\", \"present study\", \"contains supplementary\", \"significantly higher\", \"cohort study\", \"disease pandemic\", \"supplementary information\", \"respiratory syndrome\", \"study conducted\", \"social distancing\", \"mechanical ventilation\", \"public health\", \"risk factor\", \"see text\", \"syndrome coronavirus\", \"united state\", \"material available\", \"result total\", \"online version\", \"viral infection\", \"acute respiratory\", \"spike protein\", \"version contains\", \"severe acute\", \"social medium\", \"method study\", \"age year\", \"significant difference\", \"clinical trial\", \"aim study\", \"ci p\", \"study aimed\", \"healthcare worker\", \"care unit\", \"mortality rate\", \"infectious disease\", \"health care\", \"systematic review\", \"aged year\", \"logistic regression\", \"supplementary material\", \"control group\", \"quality life\", \"mental health\", \"intensive care\", \"novel coronavirus\", \"immune response\", \"coronavirus disease\", \"significant difference\", \"age year\", \"method study\", \"social medium\", \"severe acute\", \"version contains\", \"spike protein\", \"acute respiratory\", \"viral infection\", \"online version\", \"physical activity\", \"confidence interval\", \"information online\", \"present study\", \"contains supplementary\", \"significantly higher\", \"cohort study\", \"disease pandemic\", \"supplementary information\", \"respiratory syndrome\", \"study conducted\", \"social distancing\", \"mechanical ventilation\", \"public health\", \"risk factor\", \"see text\", \"syndrome coronavirus\", \"united state\", \"material available\", \"result total\", \"online version\", \"viral infection\", \"acute respiratory\", \"spike protein\", \"version contains\", \"severe acute\", \"social medium\", \"method study\", \"age year\", \"significant difference\"], \"Freq\": [0.0, 0.0, 0.0, 0.0, 0.0, 0.0, 0.0, 0.0, 0.0, 0.0, 0.0, 0.0, 0.0, 0.0, 0.0, 0.0, 0.0, 0.0, 0.0, 0.0, 0.0, 0.0, 0.0, 0.0, 0.0, 0.0, 0.0, 0.0, 0.0, 1.0, 0.9886180309564452, 0.9886137959000507, 0.9885900427576644, 0.9885888458939007, 0.9885882934952406, 0.9885878331630238, 0.9885876490301371, 0.9885849791032797, 0.9885825853757524, 0.9885794551166782, 0.9885775217213677, 0.9885754962596138, 0.9885754041931705, 0.9885739311300767, 0.9885736549307467, 0.9885733787314166, 0.9885720898012096, 0.988567302346155, 0.9885653689508445, 0.9885560702400653, 0.988555978173622, 0.9885530320474345, 0.988551098652124, 0.9885494414561435, 0.9885489811239268, 0.9885488890574834, 0.988547508060833, 0.9885465873963994, 0.9885461270641827, 0.9885452063997491, 0.011445639066637314, 0.011445363020065602, 0.01144535236189681, 0.011445194620998689, 0.011445034748466809, 0.011445031551016172, 0.01144502089284738, 0.011444992115791641, 0.011444964404552782, 0.011444912179525701, 0.011444765096796372, 0.011444708608501775, 0.011444704345234258, 0.011444662778375969, 0.01144463506713711, 0.011444624408968318, 0.011444619079883922, 0.01144458177629315, 0.011444571118124358, 0.011444500774210331, 0.011444492247675297, 0.011444460273168922, 0.011444445351732613, 0.011444411245592478, 0.011444366481283552, 0.011444359020565398, 0.011444345164945968, 0.011444287610834492, 0.01144422366182174, 0.011444118145950699], \"Total\": [0.0, 0.0, 0.0, 0.0, 0.0, 0.0, 0.0, 0.0, 0.0, 0.0, 0.0, 0.0, 0.0, 0.0, 0.0, 0.0, 0.0, 0.0, 0.0, 0.0, 0.0, 0.0, 0.0, 0.0, 0.0, 0.0, 0.0, 0.0, 0.0, 1.0, 1.0000600089421026, 1.0000559199026204, 1.0000329842417806, 1.0000318310765088, 1.0000312967967355, 1.000030852451772, 1.0000306736479696, 1.0000280985788146, 1.00002578585337, 1.0000227643076176, 1.0000208969929536, 1.00001893974348, 1.0000188487428536, 1.0000174311022376, 1.0000171644952593, 1.0000168968224643, 1.0000156526565662, 1.0000110282714942, 1.0000091641542808, 1.0000001862543821, 1.0000000963195728, 0.9999972557092562, 0.9999953862629585, 0.9999937866210895, 0.9999933401444921, 0.999993255538767, 0.9999919193064255, 0.9999910327481321, 0.9999905873373516, 0.9999896986474244, 0.9999576094803342, 0.9999653432143346, 0.9999656087554959, 0.9999700543367657, 0.9999744977864017, 0.9999745866553944, 0.999974944262999, 0.9999756520174902, 0.9999765449706849, 0.9999779658087515, 0.9999820537824167, 0.9999836544901025, 0.9999837422932784, 0.9999849896566271, 0.9999856984769351, 0.9999859640180964, 0.9999861428218987, 0.9999871182491848, 0.9999875679232328, 0.9999894309746293, 0.9999896986474244, 0.9999905873373516, 0.9999910327481321, 0.9999919193064255, 0.999993255538767, 0.9999933401444921, 0.9999937866210895, 0.9999953862629585, 0.9999972557092562, 1.0000000963195728], \"Category\": [\"Default\", \"Default\", \"Default\", \"Default\", \"Default\", \"Default\", \"Default\", \"Default\", \"Default\", \"Default\", \"Default\", \"Default\", \"Default\", \"Default\", \"Default\", \"Default\", \"Default\", \"Default\", \"Default\", \"Default\", \"Default\", \"Default\", \"Default\", \"Default\", \"Default\", \"Default\", \"Default\", \"Default\", \"Default\", \"Default\", \"Topic1\", \"Topic1\", \"Topic1\", \"Topic1\", \"Topic1\", \"Topic1\", \"Topic1\", \"Topic1\", \"Topic1\", \"Topic1\", \"Topic1\", \"Topic1\", \"Topic1\", \"Topic1\", \"Topic1\", \"Topic1\", \"Topic1\", \"Topic1\", \"Topic1\", \"Topic1\", \"Topic1\", \"Topic1\", \"Topic1\", \"Topic1\", \"Topic1\", \"Topic1\", \"Topic1\", \"Topic1\", \"Topic1\", \"Topic1\", \"Topic2\", \"Topic2\", \"Topic2\", \"Topic2\", \"Topic2\", \"Topic2\", \"Topic2\", \"Topic2\", \"Topic2\", \"Topic2\", \"Topic2\", \"Topic2\", \"Topic2\", \"Topic2\", \"Topic2\", \"Topic2\", \"Topic2\", \"Topic2\", \"Topic2\", \"Topic2\", \"Topic2\", \"Topic2\", \"Topic2\", \"Topic2\", \"Topic2\", \"Topic2\", \"Topic2\", \"Topic2\", \"Topic2\", \"Topic2\"], \"logprob\": [30.0, 29.0, 28.0, 27.0, 26.0, 25.0, 24.0, 23.0, 22.0, 21.0, 20.0, 19.0, 18.0, 17.0, 16.0, 15.0, 14.0, 13.0, 12.0, 11.0, 10.0, 9.0, 8.0, 7.0, 6.0, 5.0, 4.0, 3.0, 2.0, 1.0, -3.912, -3.912, -3.912, -3.912, -3.912, -3.912, -3.912, -3.912, -3.912, -3.912, -3.912, -3.912, -3.912, -3.912, -3.912, -3.912, -3.912, -3.912, -3.912, -3.912, -3.912, -3.912, -3.912, -3.912, -3.912, -3.912, -3.912, -3.912, -3.912, -3.912, -3.9119, -3.9119, -3.9119, -3.9119, -3.9119, -3.9119, -3.9119, -3.9119, -3.9119, -3.912, -3.912, -3.912, -3.912, -3.912, -3.912, -3.912, -3.912, -3.912, -3.912, -3.912, -3.912, -3.912, -3.912, -3.912, -3.912, -3.912, -3.912, -3.912, -3.912, -3.912], \"loglift\": [30.0, 29.0, 28.0, 27.0, 26.0, 25.0, 24.0, 23.0, 22.0, 21.0, 20.0, 19.0, 18.0, 17.0, 16.0, 15.0, 14.0, 13.0, 12.0, 11.0, 10.0, 9.0, 8.0, 7.0, 6.0, 5.0, 4.0, 3.0, 2.0, 1.0, 0.0, 0.0, 0.0, 0.0, 0.0, 0.0, 0.0, 0.0, 0.0, 0.0, 0.0, 0.0, 0.0, 0.0, 0.0, 0.0, 0.0, 0.0, 0.0, 0.0, 0.0, -0.0, -0.0, -0.0, -0.0, -0.0, -0.0, -0.0, -0.0, -0.0, 0.0002, 0.0001, 0.0001, 0.0001, 0.0001, 0.0001, 0.0001, 0.0001, 0.0001, 0.0001, 0.0001, 0.0001, 0.0001, 0.0001, 0.0001, 0.0001, 0.0001, 0.0001, 0.0001, 0.0, 0.0, 0.0, 0.0, 0.0, 0.0, 0.0, 0.0, 0.0, 0.0, -0.0]}, \"token.table\": {\"Topic\": [1, 1, 1, 1, 1, 1, 1, 1, 1, 1, 1, 1, 1, 1, 1, 1, 1, 1, 1, 1, 1, 1, 1, 1, 1, 1, 1, 1, 1, 1, 1, 1, 1, 1, 1, 1, 1, 1, 1, 1, 1, 1, 1, 1, 1, 1, 1, 1, 1, 1], \"Freq\": [1.0000089673322803, 1.0000027442982748, 0.9999791034437215, 0.9999440832242402, 0.9999691485000723, 0.9999670168461438, 0.9999399946587545, 1.0000250563648065, 1.0000346579867998, 1.0000255028639777, 0.9999825692016004, 0.9999998137456525, 1.0000243485753486, 0.999974214811523, 0.9999687041827233, 0.9999908359297002, 0.9999719022106933, 1.0000343924273025, 0.9999843475884356, 0.9999810606152271, 1.0000124322313255, 1.000016257971039, 0.9999831034630334, 1.0000046137583283, 0.9999693272928742, 0.9999889718501271, 1.0000103014586945, 1.0000423923166981, 1.000029946560004, 1.0000150105686867, 0.9999828357993555, 1.0000220346767648, 1.0000105691370762, 1.0000143017276013, 1.0000140361789152, 1.0000066598998618, 0.9999999036804366, 1.00002541399046, 1.0000163457770777, 1.0000062134175167, 1.0000080807588727, 0.9999681699366764, 1.000017946539656, 1.0000234555794665, 0.9999811516124147, 1.0000138573701254, 0.9999772362105843, 1.0000128819167569, 1.0000067445067211, 1.0000094127512476], \"Term\": [\"acute respiratory\", \"age year\", \"aged year\", \"aim study\", \"care unit\", \"ci p\", \"clinical trial\", \"cohort study\", \"confidence interval\", \"contains supplementary\", \"control group\", \"coronavirus disease\", \"disease pandemic\", \"health care\", \"healthcare worker\", \"immune response\", \"infectious disease\", \"information online\", \"intensive care\", \"logistic regression\", \"material available\", \"mechanical ventilation\", \"mental health\", \"method study\", \"mortality rate\", \"novel coronavirus\", \"online version\", \"physical activity\", \"present study\", \"public health\", \"quality life\", \"respiratory syndrome\", \"result total\", \"risk factor\", \"see text\", \"severe acute\", \"significant difference\", \"significantly higher\", \"social distancing\", \"social medium\", \"spike protein\", \"study aimed\", \"study conducted\", \"supplementary information\", \"supplementary material\", \"syndrome coronavirus\", \"systematic review\", \"united state\", \"version contains\", \"viral infection\"]}, \"R\": 30, \"lambda.step\": 0.01, \"plot.opts\": {\"xlab\": \"PC1\", \"ylab\": \"PC2\"}, \"topic.order\": [2, 1]};\n",
       "\n",
       "function LDAvis_load_lib(url, callback){\n",
       "  var s = document.createElement('script');\n",
       "  s.src = url;\n",
       "  s.async = true;\n",
       "  s.onreadystatechange = s.onload = callback;\n",
       "  s.onerror = function(){console.warn(\"failed to load library \" + url);};\n",
       "  document.getElementsByTagName(\"head\")[0].appendChild(s);\n",
       "}\n",
       "\n",
       "if(typeof(LDAvis) !== \"undefined\"){\n",
       "   // already loaded: just create the visualization\n",
       "   !function(LDAvis){\n",
       "       new LDAvis(\"#\" + \"ldavis_el1057852956742405228816290\", ldavis_el1057852956742405228816290_data);\n",
       "   }(LDAvis);\n",
       "}else if(typeof define === \"function\" && define.amd){\n",
       "   // require.js is available: use it to load d3/LDAvis\n",
       "   require.config({paths: {d3: \"https://d3js.org/d3.v5\"}});\n",
       "   require([\"d3\"], function(d3){\n",
       "      window.d3 = d3;\n",
       "      LDAvis_load_lib(\"https://cdn.jsdelivr.net/gh/bmabey/pyLDAvis@3.4.0/pyLDAvis/js/ldavis.v3.0.0.js\", function(){\n",
       "        new LDAvis(\"#\" + \"ldavis_el1057852956742405228816290\", ldavis_el1057852956742405228816290_data);\n",
       "      });\n",
       "    });\n",
       "}else{\n",
       "    // require.js not available: dynamically load d3 & LDAvis\n",
       "    LDAvis_load_lib(\"https://d3js.org/d3.v5.js\", function(){\n",
       "         LDAvis_load_lib(\"https://cdn.jsdelivr.net/gh/bmabey/pyLDAvis@3.4.0/pyLDAvis/js/ldavis.v3.0.0.js\", function(){\n",
       "                 new LDAvis(\"#\" + \"ldavis_el1057852956742405228816290\", ldavis_el1057852956742405228816290_data);\n",
       "            })\n",
       "         });\n",
       "}\n",
       "</script>"
      ],
      "text/plain": [
       "<IPython.core.display.HTML object>"
      ]
     },
     "execution_count": 28,
     "metadata": {},
     "output_type": "execute_result"
    }
   ],
   "source": [
    "import pyLDAvis\n",
    "import pyLDAvis.gensim_models as gensimvis\n",
    "\n",
    "vis_data = gensimvis.prepare(lda_model3, corpus, dictionary)\n",
    "pyLDAvis.display(vis_data)"
   ]
  },
  {
   "cell_type": "code",
   "execution_count": 29,
   "id": "213e4c6a",
   "metadata": {},
   "outputs": [],
   "source": [
    "pyLDAvis.save_html(vis_data, 'lda_abstract(bigram).html')"
   ]
  },
  {
   "cell_type": "code",
   "execution_count": 30,
   "id": "b9546140",
   "metadata": {},
   "outputs": [],
   "source": [
    "#Abstract trigram\n",
    "abs_trigram = [('severe', 'acute', 'respiratory'),('acute', 'respiratory', 'syndrome'),('respiratory', 'syndrome', 'coronavirus'),('supplementary', 'material', 'available'), ('contains', 'supplementary', 'material'),('information', 'online', 'version'),('supplementary', 'information', 'online'),('online', 'version', 'contains'),('version', 'contains', 'supplementary'),('intensive', 'care', 'unit'),('coronavirus', 'disease', 'pandemic'),('polymerase', 'chain', 'reaction'),('world', 'health', 'organization'),('formula', 'see', 'text'),('confidence', 'interval', 'ci'),('respiratory', 'distress', 'syndrome'),('acute', 'respiratory', 'distress'),('critically', 'ill', 'patient'),('care', 'unit', 'icu'),('mean', 'age', 'year'),('personal', 'protective', 'equipment'),('image', 'see', 'text'),('play', 'important', 'role'),('logistic', 'regression', 'analysis'),('caused', 'severe', 'acute'),('health', 'care', 'worker'),('respiratory', 'tract', 'infection'),('randomized', 'controlled', 'trial'),('median', 'age', 'year'),('distress', 'syndrome', 'ards'),('public', 'health', 'emergency'),('ratio', 'confidence', 'interval'),('retrospective', 'cohort', 'study'),('middle', 'east', 'respiratory'),('logistic', 'regression', 'model'),('online', 'version', 'article'),('result', 'total', 'patient'),('novel', 'coronavirus', 'disease'),('east', 'respiratory', 'syndrome'),('material', 'available', 'authorized'),('available', 'authorized', 'user'),('version', 'article', 'contains'),('article', 'contains', 'supplementary'),('health', 'care', 'system'),('electronic', 'supplementary', 'material'),('material', 'available', 'background'),('respiratory', 'syncytial', 'virus'),('syndrome', 'coronavirus', 'infection'),('coronavirus', 'disease', 'caused'),('main', 'outcome', 'measure') ]"
   ]
  },
  {
   "cell_type": "code",
   "execution_count": 31,
   "id": "0a865287",
   "metadata": {},
   "outputs": [],
   "source": [
    "trigram_strings = [' '.join(trigram) for trigram in abs_trigram]\n",
    "dictionary = corpora.Dictionary([trigram_strings])\n",
    "corpus = [dictionary.doc2bow(trigram_strings)]"
   ]
  },
  {
   "cell_type": "code",
   "execution_count": 32,
   "id": "4d72f70b",
   "metadata": {},
   "outputs": [],
   "source": [
    "lda_model4 = LdaModel(corpus, id2word=dictionary, num_topics=2, passes=20)"
   ]
  },
  {
   "cell_type": "code",
   "execution_count": 33,
   "id": "28ece4da",
   "metadata": {},
   "outputs": [
    {
     "data": {
      "text/plain": [
       "[(0,\n",
       "  '0.020*\"randomized controlled trial\" + 0.020*\"novel coronavirus disease\" + 0.020*\"health care worker\" + 0.020*\"ratio confidence interval\" + 0.020*\"supplementary information online\" + 0.020*\"respiratory syndrome coronavirus\" + 0.020*\"version contains supplementary\" + 0.020*\"coronavirus disease pandemic\" + 0.020*\"median age year\" + 0.020*\"article contains supplementary\" + 0.020*\"syndrome coronavirus infection\" + 0.020*\"public health emergency\" + 0.020*\"play important role\" + 0.020*\"confidence interval ci\" + 0.020*\"mean age year\" + 0.020*\"respiratory syncytial virus\" + 0.020*\"image see text\" + 0.020*\"retrospective cohort study\" + 0.020*\"information online version\" + 0.020*\"coronavirus disease caused\" + 0.020*\"main outcome measure\" + 0.020*\"electronic supplementary material\" + 0.020*\"severe acute respiratory\" + 0.020*\"version article contains\" + 0.020*\"polymerase chain reaction\" + 0.020*\"health care system\" + 0.020*\"world health organization\" + 0.020*\"contains supplementary material\" + 0.020*\"care unit icu\" + 0.020*\"logistic regression analysis\" + 0.020*\"supplementary material available\" + 0.020*\"online version contains\" + 0.020*\"middle east respiratory\" + 0.020*\"material available authorized\" + 0.020*\"acute respiratory distress\" + 0.020*\"formula see text\" + 0.020*\"logistic regression model\" + 0.020*\"available authorized user\" + 0.020*\"result total patient\" + 0.020*\"respiratory distress syndrome\" + 0.020*\"material available background\" + 0.020*\"caused severe acute\" + 0.020*\"respiratory tract infection\" + 0.020*\"distress syndrome ards\" + 0.020*\"east respiratory syndrome\" + 0.020*\"online version article\" + 0.020*\"critically ill patient\" + 0.020*\"intensive care unit\" + 0.020*\"acute respiratory syndrome\" + 0.020*\"personal protective equipment\"'),\n",
       " (1,\n",
       "  '0.020*\"personal protective equipment\" + 0.020*\"acute respiratory syndrome\" + 0.020*\"intensive care unit\" + 0.020*\"critically ill patient\" + 0.020*\"online version article\" + 0.020*\"east respiratory syndrome\" + 0.020*\"distress syndrome ards\" + 0.020*\"respiratory tract infection\" + 0.020*\"caused severe acute\" + 0.020*\"material available background\" + 0.020*\"respiratory distress syndrome\" + 0.020*\"result total patient\" + 0.020*\"available authorized user\" + 0.020*\"logistic regression model\" + 0.020*\"formula see text\" + 0.020*\"acute respiratory distress\" + 0.020*\"material available authorized\" + 0.020*\"middle east respiratory\" + 0.020*\"online version contains\" + 0.020*\"supplementary material available\" + 0.020*\"logistic regression analysis\" + 0.020*\"care unit icu\" + 0.020*\"contains supplementary material\" + 0.020*\"world health organization\" + 0.020*\"health care system\" + 0.020*\"polymerase chain reaction\" + 0.020*\"version article contains\" + 0.020*\"severe acute respiratory\" + 0.020*\"electronic supplementary material\" + 0.020*\"main outcome measure\" + 0.020*\"coronavirus disease caused\" + 0.020*\"information online version\" + 0.020*\"retrospective cohort study\" + 0.020*\"image see text\" + 0.020*\"respiratory syncytial virus\" + 0.020*\"mean age year\" + 0.020*\"confidence interval ci\" + 0.020*\"play important role\" + 0.020*\"public health emergency\" + 0.020*\"syndrome coronavirus infection\" + 0.020*\"article contains supplementary\" + 0.020*\"median age year\" + 0.020*\"coronavirus disease pandemic\" + 0.020*\"version contains supplementary\" + 0.020*\"respiratory syndrome coronavirus\" + 0.020*\"supplementary information online\" + 0.020*\"ratio confidence interval\" + 0.020*\"health care worker\" + 0.020*\"novel coronavirus disease\" + 0.020*\"randomized controlled trial\"')]"
      ]
     },
     "execution_count": 33,
     "metadata": {},
     "output_type": "execute_result"
    }
   ],
   "source": [
    "topics = lda_model4.print_topics(num_words=1000)\n",
    "topics"
   ]
  },
  {
   "cell_type": "code",
   "execution_count": 34,
   "id": "713941d7",
   "metadata": {},
   "outputs": [
    {
     "name": "stderr",
     "output_type": "stream",
     "text": [
      "/Library/Frameworks/Python.framework/Versions/3.10/lib/python3.10/site-packages/pandas/core/dtypes/cast.py:1429: DeprecationWarning: np.find_common_type is deprecated.  Please use `np.result_type` or `np.promote_types`.\n",
      "See https://numpy.org/devdocs/release/1.25.0-notes.html and the docs for more information.  (Deprecated NumPy 1.25)\n",
      "  return np.find_common_type(types, [])\n"
     ]
    },
    {
     "data": {
      "text/html": [
       "\n",
       "<link rel=\"stylesheet\" type=\"text/css\" href=\"https://cdn.jsdelivr.net/gh/bmabey/pyLDAvis@3.4.0/pyLDAvis/js/ldavis.v1.0.0.css\">\n",
       "\n",
       "\n",
       "<div id=\"ldavis_el1057852956758088258465878\" style=\"background-color:white;\"></div>\n",
       "<script type=\"text/javascript\">\n",
       "\n",
       "var ldavis_el1057852956758088258465878_data = {\"mdsDat\": {\"x\": [-0.0, 0.0], \"y\": [0.0, 0.0], \"topics\": [1, 2], \"cluster\": [1, 1], \"Freq\": [98.85585517441304, 1.1441448255869722]}, \"tinfo\": {\"Term\": [\"personal protective equipment\", \"acute respiratory syndrome\", \"intensive care unit\", \"critically ill patient\", \"online version article\", \"east respiratory syndrome\", \"distress syndrome ards\", \"respiratory tract infection\", \"caused severe acute\", \"material available background\", \"respiratory distress syndrome\", \"result total patient\", \"available authorized user\", \"logistic regression model\", \"formula see text\", \"acute respiratory distress\", \"material available authorized\", \"middle east respiratory\", \"online version contains\", \"supplementary material available\", \"logistic regression analysis\", \"contains supplementary material\", \"care unit icu\", \"world health organization\", \"health care system\", \"polymerase chain reaction\", \"version article contains\", \"severe acute respiratory\", \"electronic supplementary material\", \"main outcome measure\", \"randomized controlled trial\", \"novel coronavirus disease\", \"health care worker\", \"ratio confidence interval\", \"supplementary information online\", \"respiratory syndrome coronavirus\", \"version contains supplementary\", \"coronavirus disease pandemic\", \"article contains supplementary\", \"median age year\", \"syndrome coronavirus infection\", \"public health emergency\", \"play important role\", \"confidence interval ci\", \"mean age year\", \"respiratory syncytial virus\", \"image see text\", \"retrospective cohort study\", \"information online version\", \"coronavirus disease caused\", \"main outcome measure\", \"electronic supplementary material\", \"severe acute respiratory\", \"version article contains\", \"polymerase chain reaction\", \"health care system\", \"world health organization\", \"care unit icu\", \"contains supplementary material\", \"logistic regression analysis\", \"personal protective equipment\", \"acute respiratory syndrome\", \"intensive care unit\", \"critically ill patient\", \"online version article\", \"east respiratory syndrome\", \"distress syndrome ards\", \"respiratory tract infection\", \"caused severe acute\", \"material available background\", \"respiratory distress syndrome\", \"result total patient\", \"available authorized user\", \"logistic regression model\", \"formula see text\", \"acute respiratory distress\", \"material available authorized\", \"middle east respiratory\", \"online version contains\", \"supplementary material available\", \"logistic regression analysis\", \"care unit icu\", \"contains supplementary material\", \"world health organization\", \"health care system\", \"polymerase chain reaction\", \"version article contains\", \"severe acute respiratory\", \"electronic supplementary material\", \"main outcome measure\"], \"Freq\": [0.0, 0.0, 0.0, 0.0, 0.0, 0.0, 0.0, 0.0, 0.0, 0.0, 0.0, 0.0, 0.0, 0.0, 0.0, 0.0, 0.0, 0.0, 0.0, 0.0, 0.0, 0.0, 0.0, 1.0, 1.0, 1.0, 1.0, 1.0, 1.0, 1.0, 0.9885817691228094, 0.9885799277889462, 0.9885790071220146, 0.9885779943883899, 0.9885760609878336, 0.9885755085876746, 0.9885741275872773, 0.9885736672538115, 0.9885726545201867, 0.9885726545201867, 0.9885704449195509, 0.9885692480525399, 0.9885689718524604, 0.9885688797857672, 0.9885685115189946, 0.9885682353189151, 0.9885680511855288, 0.9885674067186767, 0.9885666701851314, 0.9885665781184383, 0.9885654733181204, 0.988564644717882, 0.9885626192506325, 0.988562343050553, 0.9885612382502351, 0.9885606858500762, 0.9885586603828267, 0.9885575555825088, 0.9885575555825088, 0.9885547015150209, 0.01144286778417651, 0.011442355245994303, 0.011442296639757252, 0.011442133607861456, 0.01144211762434226, 0.011442093116279493, 0.011442077132760298, 0.011442007870843783, 0.01144197057596566, 0.011441966313693874, 0.011441891723937628, 0.011441797953958346, 0.01144178516714299, 0.011441760659080223, 0.011441757462376384, 0.01144169672500344, 0.011441689266027816, 0.011441640249902282, 0.011441632790926658, 0.01144162320081514, 0.011441582709233178, 0.011441481480278272, 0.011441481480278272, 0.01144144098869631, 0.011441371726779795, 0.011441356808828546, 0.011441319513950422, 0.011441307792703012, 0.011441237465218551, 0.011441208694883999], \"Total\": [0.0, 0.0, 0.0, 0.0, 0.0, 0.0, 0.0, 0.0, 0.0, 0.0, 0.0, 0.0, 0.0, 0.0, 0.0, 0.0, 0.0, 0.0, 0.0, 0.0, 0.0, 0.0, 0.0, 1.0, 1.0, 1.0, 1.0, 1.0, 1.0, 1.0, 1.0000224162633857, 1.0000206377980314, 1.00001974803257, 1.0000187725938237, 1.00001690525848, 1.0000163709729761, 1.0000150379231363, 1.0000145957043256, 1.000013616003307, 1.000013616003307, 1.0000114799268596, 1.0000103256825665, 1.0000100590725984, 1.0000099702026093, 1.00000961578822, 1.000009347047116, 1.0000091714382733, 1.00000854828278, 1.0000078351917296, 1.0000077473873084, 1.0000066820130045, 1.0000058821831006, 1.0000039270433354, 1.0000036625645035, 1.0000025950590636, 1.000002057576856, 1.000000101371523, 0.999999037062787, 0.999999037062787, 0.999996284224254, 0.9999603743551615, 0.9999745924878847, 0.9999762831488176, 0.9999808155182729, 0.9999812598682194, 0.9999820639603951, 0.9999824162436486, 0.9999843724489815, 0.9999854399544212, 0.9999855277588426, 0.999987570703029, 0.9999902389338445, 0.9999905944138018, 0.9999913064392842, 0.9999913953092736, 0.9999929917723774, 0.9999932605134814, 0.9999945924977531, 0.9999947691721639, 0.9999951278488249, 0.999996284224254, 0.999999037062787, 0.999999037062787, 1.000000101371523, 1.000002057576856, 1.0000025950590636, 1.0000036625645035, 1.0000039270433354, 1.0000058821831006, 1.0000066820130045], \"Category\": [\"Default\", \"Default\", \"Default\", \"Default\", \"Default\", \"Default\", \"Default\", \"Default\", \"Default\", \"Default\", \"Default\", \"Default\", \"Default\", \"Default\", \"Default\", \"Default\", \"Default\", \"Default\", \"Default\", \"Default\", \"Default\", \"Default\", \"Default\", \"Default\", \"Default\", \"Default\", \"Default\", \"Default\", \"Default\", \"Default\", \"Topic1\", \"Topic1\", \"Topic1\", \"Topic1\", \"Topic1\", \"Topic1\", \"Topic1\", \"Topic1\", \"Topic1\", \"Topic1\", \"Topic1\", \"Topic1\", \"Topic1\", \"Topic1\", \"Topic1\", \"Topic1\", \"Topic1\", \"Topic1\", \"Topic1\", \"Topic1\", \"Topic1\", \"Topic1\", \"Topic1\", \"Topic1\", \"Topic1\", \"Topic1\", \"Topic1\", \"Topic1\", \"Topic1\", \"Topic1\", \"Topic2\", \"Topic2\", \"Topic2\", \"Topic2\", \"Topic2\", \"Topic2\", \"Topic2\", \"Topic2\", \"Topic2\", \"Topic2\", \"Topic2\", \"Topic2\", \"Topic2\", \"Topic2\", \"Topic2\", \"Topic2\", \"Topic2\", \"Topic2\", \"Topic2\", \"Topic2\", \"Topic2\", \"Topic2\", \"Topic2\", \"Topic2\", \"Topic2\", \"Topic2\", \"Topic2\", \"Topic2\", \"Topic2\", \"Topic2\"], \"logprob\": [30.0, 29.0, 28.0, 27.0, 26.0, 25.0, 24.0, 23.0, 22.0, 21.0, 20.0, 19.0, 18.0, 17.0, 16.0, 15.0, 14.0, 13.0, 12.0, 11.0, 10.0, 9.0, 8.0, 7.0, 6.0, 5.0, 4.0, 3.0, 2.0, 1.0, -3.912, -3.912, -3.912, -3.912, -3.912, -3.912, -3.912, -3.912, -3.912, -3.912, -3.912, -3.912, -3.912, -3.912, -3.912, -3.912, -3.912, -3.912, -3.912, -3.912, -3.912, -3.912, -3.912, -3.912, -3.912, -3.912, -3.912, -3.912, -3.912, -3.912, -3.9119, -3.9119, -3.9119, -3.912, -3.912, -3.912, -3.912, -3.912, -3.912, -3.912, -3.912, -3.912, -3.912, -3.912, -3.912, -3.912, -3.912, -3.912, -3.912, -3.912, -3.912, -3.912, -3.912, -3.912, -3.912, -3.912, -3.912, -3.912, -3.912, -3.912], \"loglift\": [30.0, 29.0, 28.0, 27.0, 26.0, 25.0, 24.0, 23.0, 22.0, 21.0, 20.0, 19.0, 18.0, 17.0, 16.0, 15.0, 14.0, 13.0, 12.0, 11.0, 10.0, 9.0, 8.0, 7.0, 6.0, 5.0, 4.0, 3.0, 2.0, 1.0, 0.0, 0.0, 0.0, 0.0, 0.0, 0.0, 0.0, 0.0, 0.0, 0.0, 0.0, 0.0, 0.0, 0.0, 0.0, 0.0, 0.0, 0.0, 0.0, 0.0, 0.0, 0.0, 0.0, 0.0, 0.0, 0.0, -0.0, -0.0, -0.0, -0.0, 0.0002, 0.0001, 0.0001, 0.0001, 0.0001, 0.0001, 0.0001, 0.0001, 0.0001, 0.0001, 0.0001, 0.0, 0.0, 0.0, 0.0, 0.0, 0.0, 0.0, 0.0, 0.0, 0.0, 0.0, 0.0, -0.0, -0.0, -0.0, -0.0, -0.0, -0.0, -0.0]}, \"token.table\": {\"Topic\": [1, 1, 1, 1, 1, 1, 1, 1, 1, 1, 1, 1, 1, 1, 1, 1, 1, 1, 1, 1, 1, 1, 1, 1, 1, 1, 1, 1, 1, 1, 1, 1, 1, 1, 1, 1, 1, 1, 1, 1, 1, 1, 1, 1, 1, 1, 1, 1, 1, 1], \"Freq\": [1.000007008276738, 1.0000254081576734, 0.999986384182086, 1.000009405674664, 1.0000009629381401, 1.0000145602575767, 0.9999900298967946, 1.0000009629381401, 0.9999922526727132, 0.9999854045087059, 1.0000191848497786, 1.0000175840655454, 1.0000179363613122, 0.9999941178514993, 1.0000086047647678, 0.9999979424273776, 0.999980252357407, 0.9999908286458412, 0.9999921648696601, 1.0000237174136848, 1.000003715789553, 1.0000086936362944, 0.9999933180316445, 1.0000067395319396, 1.0000144724506062, 0.9999903843042426, 0.999986384182086, 1.0000054075314881, 0.9999793626278785, 1.0000187404829797, 1.0000052308551979, 1.0000396272150924, 0.9999899410285855, 0.9999974049476706, 0.9999896744240521, 0.9999775842390919, 0.99998122775858, 1.0000124294514603, 0.9999906530402504, 0.9999836292950283, 1.0000156277952426, 1.000009761161435, 0.9999914517902925, 0.9999960729720863, 0.999983095027303, 1.000004872174913, 0.9999885202049277, 0.9999963374489109, 0.9999849623029995, 0.9999998986284874], \"Term\": [\"acute respiratory distress\", \"acute respiratory syndrome\", \"article contains supplementary\", \"available authorized user\", \"care unit icu\", \"caused severe acute\", \"confidence interval ci\", \"contains supplementary material\", \"coronavirus disease caused\", \"coronavirus disease pandemic\", \"critically ill patient\", \"distress syndrome ards\", \"east respiratory syndrome\", \"electronic supplementary material\", \"formula see text\", \"health care system\", \"health care worker\", \"image see text\", \"information online version\", \"intensive care unit\", \"logistic regression analysis\", \"logistic regression model\", \"main outcome measure\", \"material available authorized\", \"material available background\", \"mean age year\", \"median age year\", \"middle east respiratory\", \"novel coronavirus disease\", \"online version article\", \"online version contains\", \"personal protective equipment\", \"play important role\", \"polymerase chain reaction\", \"public health emergency\", \"randomized controlled trial\", \"ratio confidence interval\", \"respiratory distress syndrome\", \"respiratory syncytial virus\", \"respiratory syndrome coronavirus\", \"respiratory tract infection\", \"result total patient\", \"retrospective cohort study\", \"severe acute respiratory\", \"supplementary information online\", \"supplementary material available\", \"syndrome coronavirus infection\", \"version article contains\", \"version contains supplementary\", \"world health organization\"]}, \"R\": 30, \"lambda.step\": 0.01, \"plot.opts\": {\"xlab\": \"PC1\", \"ylab\": \"PC2\"}, \"topic.order\": [1, 2]};\n",
       "\n",
       "function LDAvis_load_lib(url, callback){\n",
       "  var s = document.createElement('script');\n",
       "  s.src = url;\n",
       "  s.async = true;\n",
       "  s.onreadystatechange = s.onload = callback;\n",
       "  s.onerror = function(){console.warn(\"failed to load library \" + url);};\n",
       "  document.getElementsByTagName(\"head\")[0].appendChild(s);\n",
       "}\n",
       "\n",
       "if(typeof(LDAvis) !== \"undefined\"){\n",
       "   // already loaded: just create the visualization\n",
       "   !function(LDAvis){\n",
       "       new LDAvis(\"#\" + \"ldavis_el1057852956758088258465878\", ldavis_el1057852956758088258465878_data);\n",
       "   }(LDAvis);\n",
       "}else if(typeof define === \"function\" && define.amd){\n",
       "   // require.js is available: use it to load d3/LDAvis\n",
       "   require.config({paths: {d3: \"https://d3js.org/d3.v5\"}});\n",
       "   require([\"d3\"], function(d3){\n",
       "      window.d3 = d3;\n",
       "      LDAvis_load_lib(\"https://cdn.jsdelivr.net/gh/bmabey/pyLDAvis@3.4.0/pyLDAvis/js/ldavis.v3.0.0.js\", function(){\n",
       "        new LDAvis(\"#\" + \"ldavis_el1057852956758088258465878\", ldavis_el1057852956758088258465878_data);\n",
       "      });\n",
       "    });\n",
       "}else{\n",
       "    // require.js not available: dynamically load d3 & LDAvis\n",
       "    LDAvis_load_lib(\"https://d3js.org/d3.v5.js\", function(){\n",
       "         LDAvis_load_lib(\"https://cdn.jsdelivr.net/gh/bmabey/pyLDAvis@3.4.0/pyLDAvis/js/ldavis.v3.0.0.js\", function(){\n",
       "                 new LDAvis(\"#\" + \"ldavis_el1057852956758088258465878\", ldavis_el1057852956758088258465878_data);\n",
       "            })\n",
       "         });\n",
       "}\n",
       "</script>"
      ],
      "text/plain": [
       "<IPython.core.display.HTML object>"
      ]
     },
     "execution_count": 34,
     "metadata": {},
     "output_type": "execute_result"
    }
   ],
   "source": [
    "import pyLDAvis\n",
    "import pyLDAvis.gensim_models as gensimvis\n",
    "\n",
    "vis_data = gensimvis.prepare(lda_model4, corpus, dictionary)\n",
    "pyLDAvis.display(vis_data)"
   ]
  },
  {
   "cell_type": "code",
   "execution_count": 35,
   "id": "c6975913",
   "metadata": {},
   "outputs": [],
   "source": [
    "pyLDAvis.save_html(vis_data, 'lda_abstract(trigram).html')"
   ]
  },
  {
   "cell_type": "code",
   "execution_count": null,
   "id": "49e86dce",
   "metadata": {},
   "outputs": [],
   "source": []
  }
 ],
 "metadata": {
  "kernelspec": {
   "display_name": "Python 3 (ipykernel)",
   "language": "python",
   "name": "python3"
  },
  "language_info": {
   "codemirror_mode": {
    "name": "ipython",
    "version": 3
   },
   "file_extension": ".py",
   "mimetype": "text/x-python",
   "name": "python",
   "nbconvert_exporter": "python",
   "pygments_lexer": "ipython3",
   "version": "3.10.9"
  }
 },
 "nbformat": 4,
 "nbformat_minor": 5
}
