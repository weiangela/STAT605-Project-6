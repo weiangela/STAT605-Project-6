{
 "cells": [
  {
   "cell_type": "code",
   "execution_count": 44,
   "id": "494cc1c0",
   "metadata": {},
   "outputs": [],
   "source": [
    "import pandas as pd\n",
    "import pickle\n",
    "from gensim import corpora\n",
    "from gensim.models import LdaModel\n",
    "from pprint import pprint"
   ]
  },
  {
   "cell_type": "code",
   "execution_count": 2,
   "id": "27427f1e",
   "metadata": {},
   "outputs": [
    {
     "data": {
      "text/plain": [
       "Index(['cord_uid', 'title', 'abs_n', 'abs_v', 'abs_aj', 'abs_av'], dtype='object')"
      ]
     },
     "execution_count": 2,
     "metadata": {},
     "output_type": "execute_result"
    }
   ],
   "source": [
    "with open('meta_words', 'rb') as file:\n",
    "    meta_data = pickle.load(file)\n",
    "\n",
    "df = pd.DataFrame(meta_data)\n",
    "df.columns"
   ]
  },
  {
   "cell_type": "code",
   "execution_count": 43,
   "id": "5f4e08d0",
   "metadata": {},
   "outputs": [
    {
     "data": {
      "text/plain": [
       "(389899, 17)"
      ]
     },
     "execution_count": 43,
     "metadata": {},
     "output_type": "execute_result"
    }
   ],
   "source": [
    "df.shape"
   ]
  },
  {
   "cell_type": "code",
   "execution_count": 3,
   "id": "66cb7e97",
   "metadata": {},
   "outputs": [
    {
     "data": {
      "text/plain": [
       "0    ug7v899j\n",
       "1    02tnwd4m\n",
       "2    ejv2xln0\n",
       "3    2b73a28n\n",
       "4    9785vg6d\n",
       "Name: cord_uid, dtype: object"
      ]
     },
     "execution_count": 3,
     "metadata": {},
     "output_type": "execute_result"
    }
   ],
   "source": [
    "df['cord_uid'].head()"
   ]
  },
  {
   "cell_type": "code",
   "execution_count": 4,
   "id": "d57e6cbd",
   "metadata": {},
   "outputs": [
    {
     "data": {
      "text/plain": [
       "0    [clinical, features, culture-proven, mycoplasm...\n",
       "1    [nitric, oxide, pro-inflammatory, mediator, lu...\n",
       "2    [surfactant, protein-d, pulmonary, host, defense]\n",
       "3                  [role, endothelin-1, lung, disease]\n",
       "4    [gene, expression, epithelial, cells, response...\n",
       "Name: title, dtype: object"
      ]
     },
     "execution_count": 4,
     "metadata": {},
     "output_type": "execute_result"
    }
   ],
   "source": [
    "df['title'].head()"
   ]
  },
  {
   "cell_type": "code",
   "execution_count": null,
   "id": "fcdd9986",
   "metadata": {},
   "outputs": [],
   "source": []
  },
  {
   "cell_type": "code",
   "execution_count": null,
   "id": "13fd2e4f",
   "metadata": {},
   "outputs": [],
   "source": []
  },
  {
   "cell_type": "code",
   "execution_count": 12,
   "id": "0d2be735",
   "metadata": {},
   "outputs": [
    {
     "data": {
      "text/plain": [
       "[[(13, 1), (14, 1), (15, 1), (16, 1), (17, 1), (18, 1)],\n",
       " [(19, 1), (20, 1), (21, 1), (22, 1), (23, 1)],\n",
       " [(13, 1), (14, 1), (24, 1), (25, 1)],\n",
       " [(26, 1), (27, 1), (28, 1), (29, 1), (30, 1), (31, 1), (32, 1)]]"
      ]
     },
     "execution_count": 12,
     "metadata": {},
     "output_type": "execute_result"
    }
   ],
   "source": [
    "#corpus[1:5]"
   ]
  },
  {
   "cell_type": "code",
   "execution_count": 19,
   "id": "4d2f0b8a",
   "metadata": {},
   "outputs": [
    {
     "name": "stdout",
     "output_type": "stream",
     "text": [
      "[(0,\n",
      "  '0.026*\"covid-19\" + 0.022*\"sars-cov-2\" + 0.021*\"patients\" + '\n",
      "  '0.011*\"infection\" + 0.010*\"disease\" + 0.009*\"coronavirus\" + '\n",
      "  '0.007*\"respiratory\" + 0.007*\"clinical\" + 0.006*\"virus\" + 0.006*\"acute\"'),\n",
      " (1,\n",
      "  '0.051*\"covid-19\" + 0.023*\"pandemic\" + 0.013*\"health\" + 0.012*\"study\" + '\n",
      "  '0.008*\"care\" + 0.008*\"impact\" + 0.007*\"among\" + 0.005*\"covid‐19\" + '\n",
      "  '0.005*\"analysis\" + 0.004*\"social\"')]\n"
     ]
    }
   ],
   "source": [
    "#lda_model1 = LdaModel(corpus, id2word=dictionary, num_topics=2, passes=1)\n",
    "#pprint(lda_model1.print_topics())"
   ]
  },
  {
   "cell_type": "code",
   "execution_count": 7,
   "id": "59ad639d",
   "metadata": {},
   "outputs": [],
   "source": [
    "from gensim.models import Phrases\n",
    "from gensim import corpora\n",
    "from nltk.tokenize import word_tokenize\n",
    "from nltk.corpus import stopwords\n",
    "from nltk.stem import WordNetLemmatizer\n",
    "import string\n",
    "import nltk\n",
    "import re"
   ]
  },
  {
   "cell_type": "code",
   "execution_count": 8,
   "id": "6ea33f5c",
   "metadata": {},
   "outputs": [],
   "source": [
    "wnl = nltk.WordNetLemmatizer()\n",
    "stopwords = nltk.corpus.stopwords.words(\"english\")"
   ]
  },
  {
   "cell_type": "code",
   "execution_count": 9,
   "id": "47595958",
   "metadata": {},
   "outputs": [
    {
     "data": {
      "text/plain": [
       "0    [clinical, features, of, culture-proven, mycop...\n",
       "1    [nitric, oxide, :, a, pro-inflammatory, mediat...\n",
       "2    [surfactant, protein-d, and, pulmonary, host, ...\n",
       "3          [role, of, endothelin-1, in, lung, disease]\n",
       "4    [gene, expression, in, epithelial, cells, in, ...\n",
       "Name: words, dtype: object"
      ]
     },
     "execution_count": 9,
     "metadata": {},
     "output_type": "execute_result"
    }
   ],
   "source": [
    "with open('valid_metadata', 'rb') as file:\n",
    "    # Use pickle to load the object from the file\n",
    "    df = pickle.load(file)\n",
    "    \n",
    "def clean_text(text):\n",
    "    # Remove brackets \n",
    "    cleaned_text = re.sub(r'[\\(\\)]', '', text)\n",
    "    return cleaned_text\n",
    "\n",
    "df['cleaned'] = df['title'].apply(lambda x: clean_text(x) if pd.notnull(x) else [])\n",
    "df['cleaned'].head()\n",
    "\n",
    "df['words'] = df['cleaned'].apply(lambda x: nltk.word_tokenize(str(x).lower()))\n",
    "df['words'].head()"
   ]
  },
  {
   "cell_type": "code",
   "execution_count": 29,
   "id": "28e083c7",
   "metadata": {},
   "outputs": [
    {
     "name": "stdout",
     "output_type": "stream",
     "text": [
      "object\n"
     ]
    }
   ],
   "source": [
    "#print(df['words'].dtype)"
   ]
  },
  {
   "cell_type": "code",
   "execution_count": 10,
   "id": "5187e82d",
   "metadata": {},
   "outputs": [
    {
     "data": {
      "text/plain": [
       "0    [clinical, feature, mycoplasma, pneumoniae, in...\n",
       "1             [nitric, oxide, mediator, lung, disease]\n",
       "2               [surfactant, pulmonary, host, defense]\n",
       "3                                [role, lung, disease]\n",
       "4    [gene, expression, epithelial, cell, response,...\n",
       "Name: words, dtype: object"
      ]
     },
     "execution_count": 10,
     "metadata": {},
     "output_type": "execute_result"
    }
   ],
   "source": [
    "df['words'] = df['words'].apply(lambda word_list: [wnl.lemmatize(word) for word in word_list if word.isalpha() and word not in stopwords])\n",
    "df['words'].head()"
   ]
  },
  {
   "cell_type": "code",
   "execution_count": 16,
   "id": "eab22eb6",
   "metadata": {},
   "outputs": [],
   "source": [
    "df['bigrams'] = df['words'].apply(lambda x: list(nltk.bigrams(x)))"
   ]
  },
  {
   "cell_type": "code",
   "execution_count": 17,
   "id": "f120cbff",
   "metadata": {},
   "outputs": [
    {
     "data": {
      "text/plain": [
       "0    [(clinical, feature), (feature, mycoplasma), (...\n",
       "1    [(nitric, oxide), (oxide, mediator), (mediator...\n",
       "2    [(surfactant, pulmonary), (pulmonary, host), (...\n",
       "3                      [(role, lung), (lung, disease)]\n",
       "4    [(gene, expression), (expression, epithelial),...\n",
       "Name: bigrams, dtype: object"
      ]
     },
     "execution_count": 17,
     "metadata": {},
     "output_type": "execute_result"
    }
   ],
   "source": [
    "df['bigrams'].head()"
   ]
  },
  {
   "cell_type": "code",
   "execution_count": 18,
   "id": "601b642c",
   "metadata": {},
   "outputs": [],
   "source": [
    "df['trigrams'] = df['words'].apply(lambda x: list(nltk.trigrams(x)))"
   ]
  },
  {
   "cell_type": "code",
   "execution_count": 20,
   "id": "0c34cf59",
   "metadata": {},
   "outputs": [
    {
     "data": {
      "text/plain": [
       "0    [(clinical, feature, mycoplasma), (feature, my...\n",
       "1    [(nitric, oxide, mediator), (oxide, mediator, ...\n",
       "2    [(surfactant, pulmonary, host), (pulmonary, ho...\n",
       "3                              [(role, lung, disease)]\n",
       "4    [(gene, expression, epithelial), (expression, ...\n",
       "Name: trigrams, dtype: object"
      ]
     },
     "execution_count": 20,
     "metadata": {},
     "output_type": "execute_result"
    }
   ],
   "source": [
    "df['trigrams'].head()"
   ]
  },
  {
   "cell_type": "code",
   "execution_count": 24,
   "id": "2d108af3",
   "metadata": {},
   "outputs": [
    {
     "name": "stdout",
     "output_type": "stream",
     "text": [
      "object\n"
     ]
    }
   ],
   "source": [
    "print(df['trigrams'].dtype)"
   ]
  },
  {
   "cell_type": "code",
   "execution_count": 31,
   "id": "88b52086",
   "metadata": {},
   "outputs": [
    {
     "data": {
      "text/plain": [
       "tuple"
      ]
     },
     "execution_count": 31,
     "metadata": {},
     "output_type": "execute_result"
    }
   ],
   "source": [
    "type(df['trigrams'][1][1])"
   ]
  },
  {
   "cell_type": "code",
   "execution_count": 33,
   "id": "6710e844",
   "metadata": {},
   "outputs": [],
   "source": [
    "# bigrams to check\n",
    "bi = [('infectious', 'disease'), ('virus', 'infection'), ('viral', 'infection')]\n",
    "\n",
    "# Check if any bigram is in the list in each row\n",
    "df['bi_in_title'] = df['bigrams'].apply(lambda x: any(b in x for b in bi))"
   ]
  },
  {
   "cell_type": "code",
   "execution_count": 34,
   "id": "695cd18e",
   "metadata": {},
   "outputs": [
    {
     "data": {
      "text/plain": [
       "5133"
      ]
     },
     "execution_count": 34,
     "metadata": {},
     "output_type": "execute_result"
    }
   ],
   "source": [
    "sum(df['bi_in_title'])"
   ]
  },
  {
   "cell_type": "code",
   "execution_count": 35,
   "id": "5bae7b32",
   "metadata": {},
   "outputs": [
    {
     "data": {
      "text/plain": [
       "0    False\n",
       "1    False\n",
       "2    False\n",
       "3    False\n",
       "4    False\n",
       "Name: bi_in_title, dtype: bool"
      ]
     },
     "execution_count": 35,
     "metadata": {},
     "output_type": "execute_result"
    }
   ],
   "source": [
    "df['bi_in_title'].head()"
   ]
  },
  {
   "cell_type": "code",
   "execution_count": 37,
   "id": "8aaf6ac4",
   "metadata": {},
   "outputs": [
    {
     "data": {
      "text/html": [
       "<div>\n",
       "<style scoped>\n",
       "    .dataframe tbody tr th:only-of-type {\n",
       "        vertical-align: middle;\n",
       "    }\n",
       "\n",
       "    .dataframe tbody tr th {\n",
       "        vertical-align: top;\n",
       "    }\n",
       "\n",
       "    .dataframe thead th {\n",
       "        text-align: right;\n",
       "    }\n",
       "</style>\n",
       "<table border=\"1\" class=\"dataframe\">\n",
       "  <thead>\n",
       "    <tr style=\"text-align: right;\">\n",
       "      <th></th>\n",
       "      <th>cord_uid</th>\n",
       "      <th>abstract</th>\n",
       "      <th>title</th>\n",
       "      <th>pdf_json_files</th>\n",
       "      <th>pmc_json_files</th>\n",
       "      <th>cleaned</th>\n",
       "      <th>words</th>\n",
       "      <th>bigrams</th>\n",
       "      <th>trigrams</th>\n",
       "      <th>bi_in_title</th>\n",
       "    </tr>\n",
       "  </thead>\n",
       "  <tbody>\n",
       "    <tr>\n",
       "      <th>13</th>\n",
       "      <td>mcuixluu</td>\n",
       "      <td>We examined the role of the microtubule cytosk...</td>\n",
       "      <td>Vaccinia virus infection disrupts microtubule ...</td>\n",
       "      <td>document_parses/pdf_json/44102e3e69e70ad2a73e7...</td>\n",
       "      <td>document_parses/pmc_json/PMC306617.xml.json</td>\n",
       "      <td>Vaccinia virus infection disrupts microtubule ...</td>\n",
       "      <td>[vaccinia, virus, infection, disrupts, microtu...</td>\n",
       "      <td>[(vaccinia, virus), (virus, infection), (infec...</td>\n",
       "      <td>[(vaccinia, virus, infection), (virus, infecti...</td>\n",
       "      <td>True</td>\n",
       "    </tr>\n",
       "    <tr>\n",
       "      <th>20</th>\n",
       "      <td>wnnsmx60</td>\n",
       "      <td>In the 1980's and 1990's HIV/AIDS was the emer...</td>\n",
       "      <td>Managing emerging infectious diseases: Is a fe...</td>\n",
       "      <td>document_parses/pdf_json/025339bfce1cb8efa81c5...</td>\n",
       "      <td>document_parses/pmc_json/PMC544965.xml.json</td>\n",
       "      <td>Managing emerging infectious diseases: Is a fe...</td>\n",
       "      <td>[managing, emerging, infectious, disease, fede...</td>\n",
       "      <td>[(managing, emerging), (emerging, infectious),...</td>\n",
       "      <td>[(managing, emerging, infectious), (emerging, ...</td>\n",
       "      <td>True</td>\n",
       "    </tr>\n",
       "    <tr>\n",
       "      <th>83</th>\n",
       "      <td>1y5nej0m</td>\n",
       "      <td>Prophylaxis with high doses of neutralizing an...</td>\n",
       "      <td>Neutralizing Antibody Fails to Impact the Cour...</td>\n",
       "      <td>document_parses/pdf_json/b6353f8b0fcd86c2fd1e6...</td>\n",
       "      <td>document_parses/pmc_json/PMC1779296.xml.json</td>\n",
       "      <td>Neutralizing Antibody Fails to Impact the Cour...</td>\n",
       "      <td>[neutralizing, antibody, fails, impact, course...</td>\n",
       "      <td>[(neutralizing, antibody), (antibody, fails), ...</td>\n",
       "      <td>[(neutralizing, antibody, fails), (antibody, f...</td>\n",
       "      <td>True</td>\n",
       "    </tr>\n",
       "    <tr>\n",
       "      <th>121</th>\n",
       "      <td>6lezilfv</td>\n",
       "      <td>BACKGROUND: Despite the seriousness of dengue-...</td>\n",
       "      <td>Host Gene Expression Profiling of Dengue Virus...</td>\n",
       "      <td>document_parses/pdf_json/63008713691bdb1d8eed0...</td>\n",
       "      <td>document_parses/pmc_json/PMC2100376.xml.json</td>\n",
       "      <td>Host Gene Expression Profiling of Dengue Virus...</td>\n",
       "      <td>[host, gene, expression, profiling, dengue, vi...</td>\n",
       "      <td>[(host, gene), (gene, expression), (expression...</td>\n",
       "      <td>[(host, gene, expression), (gene, expression, ...</td>\n",
       "      <td>True</td>\n",
       "    </tr>\n",
       "    <tr>\n",
       "      <th>146</th>\n",
       "      <td>1dus0u4m</td>\n",
       "      <td>BACKGROUND: AIDS, SARS, and the recent epidemi...</td>\n",
       "      <td>Can \"presumed consent\" justify the duty to tre...</td>\n",
       "      <td>document_parses/pdf_json/07abbba28dd64fdb2f811...</td>\n",
       "      <td>document_parses/pmc_json/PMC2311313.xml.json</td>\n",
       "      <td>Can \"presumed consent\" justify the duty to tre...</td>\n",
       "      <td>[presumed, consent, justify, duty, treat, infe...</td>\n",
       "      <td>[(presumed, consent), (consent, justify), (jus...</td>\n",
       "      <td>[(presumed, consent, justify), (consent, justi...</td>\n",
       "      <td>True</td>\n",
       "    </tr>\n",
       "  </tbody>\n",
       "</table>\n",
       "</div>"
      ],
      "text/plain": [
       "     cord_uid                                           abstract  \\\n",
       "13   mcuixluu  We examined the role of the microtubule cytosk...   \n",
       "20   wnnsmx60  In the 1980's and 1990's HIV/AIDS was the emer...   \n",
       "83   1y5nej0m  Prophylaxis with high doses of neutralizing an...   \n",
       "121  6lezilfv  BACKGROUND: Despite the seriousness of dengue-...   \n",
       "146  1dus0u4m  BACKGROUND: AIDS, SARS, and the recent epidemi...   \n",
       "\n",
       "                                                 title  \\\n",
       "13   Vaccinia virus infection disrupts microtubule ...   \n",
       "20   Managing emerging infectious diseases: Is a fe...   \n",
       "83   Neutralizing Antibody Fails to Impact the Cour...   \n",
       "121  Host Gene Expression Profiling of Dengue Virus...   \n",
       "146  Can \"presumed consent\" justify the duty to tre...   \n",
       "\n",
       "                                        pdf_json_files  \\\n",
       "13   document_parses/pdf_json/44102e3e69e70ad2a73e7...   \n",
       "20   document_parses/pdf_json/025339bfce1cb8efa81c5...   \n",
       "83   document_parses/pdf_json/b6353f8b0fcd86c2fd1e6...   \n",
       "121  document_parses/pdf_json/63008713691bdb1d8eed0...   \n",
       "146  document_parses/pdf_json/07abbba28dd64fdb2f811...   \n",
       "\n",
       "                                   pmc_json_files  \\\n",
       "13    document_parses/pmc_json/PMC306617.xml.json   \n",
       "20    document_parses/pmc_json/PMC544965.xml.json   \n",
       "83   document_parses/pmc_json/PMC1779296.xml.json   \n",
       "121  document_parses/pmc_json/PMC2100376.xml.json   \n",
       "146  document_parses/pmc_json/PMC2311313.xml.json   \n",
       "\n",
       "                                               cleaned  \\\n",
       "13   Vaccinia virus infection disrupts microtubule ...   \n",
       "20   Managing emerging infectious diseases: Is a fe...   \n",
       "83   Neutralizing Antibody Fails to Impact the Cour...   \n",
       "121  Host Gene Expression Profiling of Dengue Virus...   \n",
       "146  Can \"presumed consent\" justify the duty to tre...   \n",
       "\n",
       "                                                 words  \\\n",
       "13   [vaccinia, virus, infection, disrupts, microtu...   \n",
       "20   [managing, emerging, infectious, disease, fede...   \n",
       "83   [neutralizing, antibody, fails, impact, course...   \n",
       "121  [host, gene, expression, profiling, dengue, vi...   \n",
       "146  [presumed, consent, justify, duty, treat, infe...   \n",
       "\n",
       "                                               bigrams  \\\n",
       "13   [(vaccinia, virus), (virus, infection), (infec...   \n",
       "20   [(managing, emerging), (emerging, infectious),...   \n",
       "83   [(neutralizing, antibody), (antibody, fails), ...   \n",
       "121  [(host, gene), (gene, expression), (expression...   \n",
       "146  [(presumed, consent), (consent, justify), (jus...   \n",
       "\n",
       "                                              trigrams  bi_in_title  \n",
       "13   [(vaccinia, virus, infection), (virus, infecti...         True  \n",
       "20   [(managing, emerging, infectious), (emerging, ...         True  \n",
       "83   [(neutralizing, antibody, fails), (antibody, f...         True  \n",
       "121  [(host, gene, expression), (gene, expression, ...         True  \n",
       "146  [(presumed, consent, justify), (consent, justi...         True  "
      ]
     },
     "execution_count": 37,
     "metadata": {},
     "output_type": "execute_result"
    }
   ],
   "source": [
    "df[df['bi_in_title']==True].head()"
   ]
  },
  {
   "cell_type": "code",
   "execution_count": 38,
   "id": "d4934d0b",
   "metadata": {},
   "outputs": [],
   "source": [
    "# trigrams to check\n",
    "tri = [('respiratory', 'tract', 'infection'), ('infectious', 'bronchitis', 'virus'),('infection', 'case', 'report'),('acute', 'respiratory', 'infection')]\n",
    "\n",
    "# Check if any trigram is in the list in each row\n",
    "df['tri_in_title'] = df['trigrams'].apply(lambda x: any(tr in x for tr in tri))"
   ]
  },
  {
   "cell_type": "code",
   "execution_count": 39,
   "id": "eb90cc11",
   "metadata": {},
   "outputs": [],
   "source": [
    "# do abstracts cleaning\n",
    "df['cleaned_abs'] = df['abstract'].apply(lambda x: clean_text(x) if pd.notnull(x) else [])\n",
    "\n",
    "df['words_abs'] = df['cleaned_abs'].apply(lambda x: nltk.word_tokenize(str(x).lower()))\n",
    "    \n",
    "df['words_abs'] = df['words_abs'].apply(lambda word_list: [wnl.lemmatize(word) for word in word_list if word.isalpha() and word not in stopwords])\n",
    "\n",
    "df['bigrams_abs'] = df['words_abs'].apply(lambda x: list(nltk.bigrams(x)))\n",
    "df['trigrams_abs'] = df['words_abs'].apply(lambda x: list(nltk.trigrams(x)))"
   ]
  },
  {
   "cell_type": "code",
   "execution_count": 40,
   "id": "c4394ac4",
   "metadata": {},
   "outputs": [],
   "source": [
    "# bigrams to check\n",
    "bi_abs = [('infectious', 'disease'), ('viral', 'infection')]\n",
    "\n",
    "# Check if any bigram is in the list in each row\n",
    "df['bi_in_abs'] = df['bigrams_abs'].apply(lambda x: any(b in x for b in bi_abs))\n",
    "\n",
    "# trigrams to check\n",
    "tri_abs = [('respiratory', 'tract', 'infection'), ('syndrome', 'coronavirus', 'infection')]\n",
    "\n",
    "# Check if any trigram is in the list in each row\n",
    "df['tri_in_abs'] = df['trigrams_abs'].apply(lambda x: any(tr in x for tr in tri_abs))"
   ]
  },
  {
   "cell_type": "code",
   "execution_count": 41,
   "id": "7e9d1e02",
   "metadata": {},
   "outputs": [],
   "source": [
    "#final selection\n",
    "df_sub = df[df['bi_in_abs']|df['bi_in_title']|df['tri_in_abs']|df['tri_in_title']]"
   ]
  },
  {
   "cell_type": "code",
   "execution_count": 42,
   "id": "bdeac41d",
   "metadata": {},
   "outputs": [
    {
     "data": {
      "text/plain": [
       "(27362, 17)"
      ]
     },
     "execution_count": 42,
     "metadata": {},
     "output_type": "execute_result"
    }
   ],
   "source": [
    "df_sub.shape"
   ]
  },
  {
   "cell_type": "code",
   "execution_count": 46,
   "id": "78e1246d",
   "metadata": {},
   "outputs": [
    {
     "data": {
      "text/plain": [
       "Index(['cord_uid', 'abstract', 'title', 'pdf_json_files', 'pmc_json_files',\n",
       "       'cleaned', 'words', 'bigrams', 'trigrams', 'bi_in_title',\n",
       "       'tri_in_title', 'cleaned_abs', 'words_abs', 'bigrams_abs',\n",
       "       'trigrams_abs', 'bi_in_abs', 'tri_in_abs'],\n",
       "      dtype='object')"
      ]
     },
     "execution_count": 46,
     "metadata": {},
     "output_type": "execute_result"
    }
   ],
   "source": [
    "df_sub.columns"
   ]
  },
  {
   "cell_type": "code",
   "execution_count": 48,
   "id": "01800a7c",
   "metadata": {},
   "outputs": [],
   "source": [
    "df_ID = df[['cord_uid','pdf_json_files','pmc_json_files']]"
   ]
  },
  {
   "cell_type": "code",
   "execution_count": 49,
   "id": "b663a2a5",
   "metadata": {},
   "outputs": [
    {
     "data": {
      "text/html": [
       "<div>\n",
       "<style scoped>\n",
       "    .dataframe tbody tr th:only-of-type {\n",
       "        vertical-align: middle;\n",
       "    }\n",
       "\n",
       "    .dataframe tbody tr th {\n",
       "        vertical-align: top;\n",
       "    }\n",
       "\n",
       "    .dataframe thead th {\n",
       "        text-align: right;\n",
       "    }\n",
       "</style>\n",
       "<table border=\"1\" class=\"dataframe\">\n",
       "  <thead>\n",
       "    <tr style=\"text-align: right;\">\n",
       "      <th></th>\n",
       "      <th>cord_uid</th>\n",
       "      <th>pdf_json_files</th>\n",
       "      <th>pmc_json_files</th>\n",
       "    </tr>\n",
       "  </thead>\n",
       "  <tbody>\n",
       "    <tr>\n",
       "      <th>0</th>\n",
       "      <td>ug7v899j</td>\n",
       "      <td>document_parses/pdf_json/d1aafb70c066a2068b027...</td>\n",
       "      <td>document_parses/pmc_json/PMC35282.xml.json</td>\n",
       "    </tr>\n",
       "    <tr>\n",
       "      <th>1</th>\n",
       "      <td>02tnwd4m</td>\n",
       "      <td>document_parses/pdf_json/6b0567729c2143a66d737...</td>\n",
       "      <td>document_parses/pmc_json/PMC59543.xml.json</td>\n",
       "    </tr>\n",
       "    <tr>\n",
       "      <th>2</th>\n",
       "      <td>ejv2xln0</td>\n",
       "      <td>document_parses/pdf_json/06ced00a5fc04215949aa...</td>\n",
       "      <td>document_parses/pmc_json/PMC59549.xml.json</td>\n",
       "    </tr>\n",
       "    <tr>\n",
       "      <th>3</th>\n",
       "      <td>2b73a28n</td>\n",
       "      <td>document_parses/pdf_json/348055649b6b8cf2b9a37...</td>\n",
       "      <td>document_parses/pmc_json/PMC59574.xml.json</td>\n",
       "    </tr>\n",
       "    <tr>\n",
       "      <th>4</th>\n",
       "      <td>9785vg6d</td>\n",
       "      <td>document_parses/pdf_json/5f48792a5fa08bed9f560...</td>\n",
       "      <td>document_parses/pmc_json/PMC59580.xml.json</td>\n",
       "    </tr>\n",
       "  </tbody>\n",
       "</table>\n",
       "</div>"
      ],
      "text/plain": [
       "   cord_uid                                     pdf_json_files  \\\n",
       "0  ug7v899j  document_parses/pdf_json/d1aafb70c066a2068b027...   \n",
       "1  02tnwd4m  document_parses/pdf_json/6b0567729c2143a66d737...   \n",
       "2  ejv2xln0  document_parses/pdf_json/06ced00a5fc04215949aa...   \n",
       "3  2b73a28n  document_parses/pdf_json/348055649b6b8cf2b9a37...   \n",
       "4  9785vg6d  document_parses/pdf_json/5f48792a5fa08bed9f560...   \n",
       "\n",
       "                               pmc_json_files  \n",
       "0  document_parses/pmc_json/PMC35282.xml.json  \n",
       "1  document_parses/pmc_json/PMC59543.xml.json  \n",
       "2  document_parses/pmc_json/PMC59549.xml.json  \n",
       "3  document_parses/pmc_json/PMC59574.xml.json  \n",
       "4  document_parses/pmc_json/PMC59580.xml.json  "
      ]
     },
     "execution_count": 49,
     "metadata": {},
     "output_type": "execute_result"
    }
   ],
   "source": [
    "df_ID.head()"
   ]
  },
  {
   "cell_type": "code",
   "execution_count": 45,
   "id": "f2569364",
   "metadata": {},
   "outputs": [],
   "source": [
    "with open('df_Nov21.pkl', 'wb') as f:\n",
    "    pickle.dump(df_sub, f)"
   ]
  },
  {
   "cell_type": "code",
   "execution_count": 50,
   "id": "1b364692",
   "metadata": {},
   "outputs": [],
   "source": [
    "with open('ID_Nov21.pkl', 'wb') as f:\n",
    "    pickle.dump(df_ID, f)"
   ]
  },
  {
   "cell_type": "code",
   "execution_count": 38,
   "id": "d12ab9e9",
   "metadata": {},
   "outputs": [
    {
     "data": {
      "text/plain": [
       "['clinical', 'feature', 'mycoplasma', 'pneumoniae', 'infection']"
      ]
     },
     "execution_count": 38,
     "metadata": {},
     "output_type": "execute_result"
    }
   ],
   "source": [
    "#all_words = [word for sublist in df['words'] for word in sublist]\n",
    "#all_words[:5]"
   ]
  },
  {
   "cell_type": "code",
   "execution_count": 41,
   "id": "9f2a984b",
   "metadata": {},
   "outputs": [],
   "source": [
    "#bigrams = list(nltk.bigrams(all_words))"
   ]
  },
  {
   "cell_type": "code",
   "execution_count": 42,
   "id": "1b69c4b1",
   "metadata": {},
   "outputs": [
    {
     "data": {
      "text/plain": [
       "[('feature', 'mycoplasma'),\n",
       " ('mycoplasma', 'pneumoniae'),\n",
       " ('pneumoniae', 'infection'),\n",
       " ('infection', 'king')]"
      ]
     },
     "execution_count": 42,
     "metadata": {},
     "output_type": "execute_result"
    }
   ],
   "source": [
    "#bigrams[1:5]"
   ]
  },
  {
   "cell_type": "code",
   "execution_count": 44,
   "id": "8d665fa0",
   "metadata": {},
   "outputs": [],
   "source": [
    "# Create a dictionary and a corpus\n",
    "#dictionary = corpora.Dictionary(bigrams)\n",
    "#corpus = [dictionary.doc2bow(doc) for doc in bigrams]"
   ]
  },
  {
   "cell_type": "code",
   "execution_count": null,
   "id": "3f78918a",
   "metadata": {},
   "outputs": [],
   "source": []
  },
  {
   "cell_type": "code",
   "execution_count": 52,
   "id": "c61d25f9",
   "metadata": {},
   "outputs": [
    {
     "data": {
      "text/plain": [
       "[[(1, 1), (2, 1)], [(2, 1), (3, 1)], [(3, 1), (4, 1)], [(4, 1), (5, 1)]]"
      ]
     },
     "execution_count": 52,
     "metadata": {},
     "output_type": "execute_result"
    }
   ],
   "source": [
    "#corpus[1:5]"
   ]
  },
  {
   "cell_type": "code",
   "execution_count": null,
   "id": "b10cb560",
   "metadata": {},
   "outputs": [],
   "source": []
  },
  {
   "cell_type": "code",
   "execution_count": 54,
   "id": "bb006a16",
   "metadata": {},
   "outputs": [],
   "source": [
    "#lda_model2 = LdaModel(corpus, id2word=dictionary, num_topics=2, passes=10)"
   ]
  },
  {
   "cell_type": "code",
   "execution_count": 55,
   "id": "64dea548",
   "metadata": {},
   "outputs": [
    {
     "name": "stdout",
     "output_type": "stream",
     "text": [
      "[(0,\n",
      "  '0.027*\"patient\" + 0.016*\"disease\" + 0.016*\"infection\" + 0.015*\"health\" + '\n",
      "  '0.012*\"coronavirus\" + 0.010*\"care\" + 0.009*\"clinical\" + 0.008*\"among\" + '\n",
      "  '0.008*\"respiratory\" + 0.007*\"response\"'),\n",
      " (1,\n",
      "  '0.029*\"pandemic\" + 0.023*\"study\" + 0.011*\"case\" + 0.011*\"review\" + '\n",
      "  '0.011*\"impact\" + 0.010*\"analysis\" + 0.009*\"virus\" + 0.008*\"effect\" + '\n",
      "  '0.007*\"using\" + 0.006*\"treatment\"')]\n"
     ]
    }
   ],
   "source": [
    "#pprint(lda_model2.print_topics())"
   ]
  }
 ],
 "metadata": {
  "kernelspec": {
   "display_name": "Python 3 (ipykernel)",
   "language": "python",
   "name": "python3"
  },
  "language_info": {
   "codemirror_mode": {
    "name": "ipython",
    "version": 3
   },
   "file_extension": ".py",
   "mimetype": "text/x-python",
   "name": "python",
   "nbconvert_exporter": "python",
   "pygments_lexer": "ipython3",
   "version": "3.9.13"
  }
 },
 "nbformat": 4,
 "nbformat_minor": 5
}
