{
 "cells": [
  {
   "cell_type": "code",
   "execution_count": 89,
   "id": "19a0252e",
   "metadata": {},
   "outputs": [],
   "source": [
    "from gensim import corpora\n",
    "from gensim.models import LdaModel\n",
    "from pprint import pprint"
   ]
  },
  {
   "cell_type": "code",
   "execution_count": 90,
   "id": "1b4868de",
   "metadata": {},
   "outputs": [],
   "source": [
    "title_bigram = [('case report'),('coronavirus disease'), ('systematic review'), ('mental health'),('acute respiratory'),('cohort study'),('respiratory syndrome'),('public health'),('risk factor'),('impact pandemic'),('health care'),('united state'),('severe acute'),('healthcare worker'),('controlled trial'),('infectious disease'),('case study'),('immune response'),('machine learning'),('intensive care'),('observational study'),('syndrome coronavirus'),('clinical trial'),('randomized controlled'),('qualitative study'),('novel coronavirus'),('spike protein'),('critically ill'),('influenza virus'),('hospitalized patient'),('older adult'),('emergency department'),('virus infection'),('study protocol'),('care unit'),('de la'),('ill patient'),('deep learning'),('social medium'),('physical activity'),('disease pandemic'),('scoping review'),('viral infection'),('respiratory distress'),('retrospective study'),('case series'),('clinical characteristic'),('distress syndrome'),('cancer patient'),('neural network')]"
   ]
  },
  {
   "cell_type": "code",
   "execution_count": 91,
   "id": "19cfaef8",
   "metadata": {},
   "outputs": [],
   "source": [
    "title_bigram = [x.replace(' ', ',') for x in title_bigram]"
   ]
  },
  {
   "cell_type": "code",
   "execution_count": 92,
   "id": "d9eafcd0",
   "metadata": {},
   "outputs": [],
   "source": [
    "bigram_strings = [' '.join(bigram) for bigram in title_bigrams]"
   ]
  },
  {
   "cell_type": "code",
   "execution_count": 93,
   "id": "bcbe0062",
   "metadata": {},
   "outputs": [],
   "source": [
    "dictionary = corpora.Dictionary([bigram_strings])"
   ]
  },
  {
   "cell_type": "code",
   "execution_count": 94,
   "id": "c8632f81",
   "metadata": {},
   "outputs": [],
   "source": [
    "corpus = [dictionary.doc2bow(bigram_strings)]"
   ]
  },
  {
   "cell_type": "code",
   "execution_count": 95,
   "id": "9fd9395b",
   "metadata": {},
   "outputs": [],
   "source": [
    "lda_model1 = LdaModel(corpus, id2word=dictionary, num_topics=2, passes=20)"
   ]
  },
  {
   "cell_type": "code",
   "execution_count": 96,
   "id": "c804d5f0",
   "metadata": {},
   "outputs": [
    {
     "data": {
      "text/plain": [
       "[(0,\n",
       "  '0.333*\"coronavirus disease\" + 0.333*\"systematic review\" + 0.333*\"case report\"'),\n",
       " (1,\n",
       "  '0.334*\"case report\" + 0.333*\"systematic review\" + 0.333*\"coronavirus disease\"')]"
      ]
     },
     "execution_count": 96,
     "metadata": {},
     "output_type": "execute_result"
    }
   ],
   "source": [
    "topics = lda_model1.print_topics(num_words=1000)\n",
    "topics"
   ]
  },
  {
   "cell_type": "code",
   "execution_count": 98,
   "id": "ad5d0d51",
   "metadata": {},
   "outputs": [
    {
     "name": "stderr",
     "output_type": "stream",
     "text": [
      "/Library/Frameworks/Python.framework/Versions/3.10/lib/python3.10/site-packages/pandas/core/dtypes/cast.py:1429: DeprecationWarning: np.find_common_type is deprecated.  Please use `np.result_type` or `np.promote_types`.\n",
      "See https://numpy.org/devdocs/release/1.25.0-notes.html and the docs for more information.  (Deprecated NumPy 1.25)\n",
      "  return np.find_common_type(types, [])\n"
     ]
    },
    {
     "data": {
      "text/html": [
       "\n",
       "<link rel=\"stylesheet\" type=\"text/css\" href=\"https://cdn.jsdelivr.net/gh/bmabey/pyLDAvis@3.4.0/pyLDAvis/js/ldavis.v1.0.0.css\">\n",
       "\n",
       "\n",
       "<div id=\"ldavis_el1001060807110243921304938\" style=\"background-color:white;\"></div>\n",
       "<script type=\"text/javascript\">\n",
       "\n",
       "var ldavis_el1001060807110243921304938_data = {\"mdsDat\": {\"x\": [0.0, -0.0], \"y\": [0.0, 0.0], \"topics\": [1, 2], \"cluster\": [1, 1], \"Freq\": [83.87199861383444, 16.128001386165558]}, \"tinfo\": {\"Term\": [\"case report\", \"systematic review\", \"coronavirus disease\", \"coronavirus disease\", \"systematic review\", \"case report\", \"case report\", \"systematic review\", \"coronavirus disease\"], \"Freq\": [0.0, 1.0, 1.0, 0.838866724008879, 0.8388260808307013, 0.8384672660565684, 0.16140799945119166, 0.16122632744564447, 0.16120573631746593], \"Total\": [0.0, 1.0, 1.0, 1.000072460326345, 1.0000524082763458, 0.9998752655077601, 0.9998752655077601, 1.0000524082763458, 1.000072460326345], \"Category\": [\"Default\", \"Default\", \"Default\", \"Topic1\", \"Topic1\", \"Topic1\", \"Topic2\", \"Topic2\", \"Topic2\"], \"logprob\": [3.0, 2.0, 1.0, -1.0984, -1.0985, -1.0989, -1.0978, -1.0989, -1.0991], \"loglift\": [3.0, 2.0, 1.0, 0.0001, 0.0001, -0.0002, 0.0009, -0.0004, -0.0005]}, \"token.table\": {\"Topic\": [1, 1, 1], \"Freq\": [1.0001247500528745, 0.9999275449237736, 0.9999475944701377], \"Term\": [\"case report\", \"coronavirus disease\", \"systematic review\"]}, \"R\": 3, \"lambda.step\": 0.01, \"plot.opts\": {\"xlab\": \"PC1\", \"ylab\": \"PC2\"}, \"topic.order\": [1, 2]};\n",
       "\n",
       "function LDAvis_load_lib(url, callback){\n",
       "  var s = document.createElement('script');\n",
       "  s.src = url;\n",
       "  s.async = true;\n",
       "  s.onreadystatechange = s.onload = callback;\n",
       "  s.onerror = function(){console.warn(\"failed to load library \" + url);};\n",
       "  document.getElementsByTagName(\"head\")[0].appendChild(s);\n",
       "}\n",
       "\n",
       "if(typeof(LDAvis) !== \"undefined\"){\n",
       "   // already loaded: just create the visualization\n",
       "   !function(LDAvis){\n",
       "       new LDAvis(\"#\" + \"ldavis_el1001060807110243921304938\", ldavis_el1001060807110243921304938_data);\n",
       "   }(LDAvis);\n",
       "}else if(typeof define === \"function\" && define.amd){\n",
       "   // require.js is available: use it to load d3/LDAvis\n",
       "   require.config({paths: {d3: \"https://d3js.org/d3.v5\"}});\n",
       "   require([\"d3\"], function(d3){\n",
       "      window.d3 = d3;\n",
       "      LDAvis_load_lib(\"https://cdn.jsdelivr.net/gh/bmabey/pyLDAvis@3.4.0/pyLDAvis/js/ldavis.v3.0.0.js\", function(){\n",
       "        new LDAvis(\"#\" + \"ldavis_el1001060807110243921304938\", ldavis_el1001060807110243921304938_data);\n",
       "      });\n",
       "    });\n",
       "}else{\n",
       "    // require.js not available: dynamically load d3 & LDAvis\n",
       "    LDAvis_load_lib(\"https://d3js.org/d3.v5.js\", function(){\n",
       "         LDAvis_load_lib(\"https://cdn.jsdelivr.net/gh/bmabey/pyLDAvis@3.4.0/pyLDAvis/js/ldavis.v3.0.0.js\", function(){\n",
       "                 new LDAvis(\"#\" + \"ldavis_el1001060807110243921304938\", ldavis_el1001060807110243921304938_data);\n",
       "            })\n",
       "         });\n",
       "}\n",
       "</script>"
      ],
      "text/plain": [
       "<IPython.core.display.HTML object>"
      ]
     },
     "execution_count": 98,
     "metadata": {},
     "output_type": "execute_result"
    }
   ],
   "source": [
    "import pyLDAvis\n",
    "import pyLDAvis.gensim_models as gensimvis\n",
    "\n",
    "vis_data = gensimvis.prepare(lda_model1, corpus, dictionary)\n",
    "pyLDAvis.display(vis_data)"
   ]
  },
  {
   "cell_type": "code",
   "execution_count": 99,
   "id": "36c24efe",
   "metadata": {},
   "outputs": [],
   "source": [
    "#title trigram\n",
    "title_trigram = [('severe', 'acute', 'respiratory'),\n",
    "                 ('acute', 'respiratory', 'syndrome'),\n",
    "                 ('respiratory', 'syndrome', 'coronavirus'),\n",
    "                 ('randomized', 'controlled', 'trial'),\n",
    "                 ('intensive', 'care', 'unit'),\n",
    "                 ('critically', 'ill', 'patient'),\n",
    "                 ('respiratory', 'distress', 'syndrome'),\n",
    "                 ('acute', 'respiratory', 'distress'),\n",
    "                 ('retrospective', 'cohort', 'study'),\n",
    "                 ('coronavirus', 'disease', 'pandemic'),\n",
    "                 ('health', 'care', 'worker'), \n",
    "                 ('middle', 'east', 'respiratory'),\n",
    "                 ('east', 'respiratory', 'syndrome'),\n",
    "                 ('prospective', 'cohort', 'study'),\n",
    "                 ('randomised', 'controlled', 'trial'),\n",
    "                 ('patient', 'coronavirus', 'disease'), \n",
    "                 ('multisystem', 'inflammatory', 'syndrome'),\n",
    "                 ('personal', 'protective', 'equipment'),\n",
    "                 ('among', 'healthcare', 'worker'),\n",
    "                 ('respiratory', 'tract', 'infection'),\n",
    "                 ('porcine', 'epidemic', 'diarrhea'),\n",
    "                 ('respiratory', 'syncytial', 'virus'),\n",
    "                 ('acute', 'kidney', 'injury'),\n",
    "                 ('infectious', 'bronchitis', 'virus'),\n",
    "                 ('new', 'york', 'city'),\n",
    "                 ('epidemic', 'diarrhea', 'virus'),\n",
    "                 ('patient', 'systematic', 'review'),\n",
    "                 ('inflammatory', 'bowel', 'disease'),\n",
    "                 ('extracorporeal', 'membrane', 'oxygenation'),\n",
    "                 ('use', 'case', 'report'),\n",
    "                 ('knowledge', 'attitude', 'practice'),\n",
    "                 ('randomized', 'clinical', 'trial'),\n",
    "                 ('first', 'wave', 'pandemic'),\n",
    "                 ('infection', 'case', 'report'),\n",
    "                 ('lack', 'efficacy', 'case'),\n",
    "                 ('efficacy', 'case', 'report'),\n",
    "                 ('case', 'report', 'multiple'),\n",
    "                 ('inflammatory', 'syndrome', 'child'),\n",
    "                 ('convolutional', 'neural', 'network'),\n",
    "                 ('report', 'multiple', 'drug'),\n",
    "                 ('novel', 'coronavirus', 'disease'),\n",
    "                 ('coronavirus', 'disease', 'patient'),\n",
    "                 ('using', 'machine', 'learning'),\n",
    "                 ('protocol', 'randomized', 'controlled'), \n",
    "                 ('acute', 'lung', 'injury'),\n",
    "                 ('mesenchymal', 'stem', 'cell'), \n",
    "                 ('kidney', 'transplant', 'recipient'),\n",
    "                 ('acute', 'respiratory', 'infection'),\n",
    "                 ('prospective', 'observational', 'study'),('central', 'nervous', 'system')]"
   ]
  },
  {
   "cell_type": "code",
   "execution_count": 100,
   "id": "74aa622d",
   "metadata": {},
   "outputs": [],
   "source": [
    "trigram_strings = [' '.join(trigram) for trigram in title_trigram]"
   ]
  },
  {
   "cell_type": "code",
   "execution_count": 101,
   "id": "59436ddf",
   "metadata": {},
   "outputs": [],
   "source": [
    "dictionary = corpora.Dictionary([trigram_strings])"
   ]
  },
  {
   "cell_type": "code",
   "execution_count": 102,
   "id": "dc4daa33",
   "metadata": {},
   "outputs": [],
   "source": [
    "corpus = [dictionary.doc2bow(trigram_strings)]"
   ]
  },
  {
   "cell_type": "code",
   "execution_count": 103,
   "id": "2258c8e0",
   "metadata": {},
   "outputs": [],
   "source": [
    "lda_model2 = LdaModel(corpus, id2word=dictionary, num_topics=2, passes=20)"
   ]
  },
  {
   "cell_type": "code",
   "execution_count": 104,
   "id": "b9e7baf1",
   "metadata": {},
   "outputs": [
    {
     "data": {
      "text/plain": [
       "[(0,\n",
       "  '0.020*\"retrospective cohort study\" + 0.020*\"porcine epidemic diarrhea\" + 0.020*\"inflammatory syndrome child\" + 0.020*\"respiratory tract infection\" + 0.020*\"respiratory distress syndrome\" + 0.020*\"randomized clinical trial\" + 0.020*\"lack efficacy case\" + 0.020*\"acute respiratory syndrome\" + 0.020*\"coronavirus disease pandemic\" + 0.020*\"report multiple drug\" + 0.020*\"efficacy case report\" + 0.020*\"acute lung injury\" + 0.020*\"knowledge attitude practice\" + 0.020*\"use case report\" + 0.020*\"respiratory syndrome coronavirus\" + 0.020*\"randomised controlled trial\" + 0.020*\"using machine learning\" + 0.020*\"new york city\" + 0.020*\"randomized controlled trial\" + 0.020*\"prospective cohort study\" + 0.020*\"among healthcare worker\" + 0.020*\"epidemic diarrhea virus\" + 0.020*\"protocol randomized controlled\" + 0.020*\"kidney transplant recipient\" + 0.020*\"prospective observational study\" + 0.020*\"convolutional neural network\" + 0.020*\"novel coronavirus disease\" + 0.020*\"acute respiratory distress\" + 0.020*\"first wave pandemic\" + 0.020*\"middle east respiratory\" + 0.020*\"health care worker\" + 0.020*\"personal protective equipment\" + 0.020*\"infection case report\" + 0.020*\"critically ill patient\" + 0.020*\"east respiratory syndrome\" + 0.020*\"extracorporeal membrane oxygenation\" + 0.020*\"respiratory syncytial virus\" + 0.020*\"patient systematic review\" + 0.020*\"case report multiple\" + 0.020*\"infectious bronchitis virus\" + 0.020*\"inflammatory bowel disease\" + 0.020*\"patient coronavirus disease\" + 0.020*\"acute respiratory infection\" + 0.020*\"acute kidney injury\" + 0.020*\"severe acute respiratory\" + 0.020*\"mesenchymal stem cell\" + 0.020*\"multisystem inflammatory syndrome\" + 0.020*\"coronavirus disease patient\" + 0.020*\"central nervous system\" + 0.020*\"intensive care unit\"'),\n",
       " (1,\n",
       "  '0.020*\"intensive care unit\" + 0.020*\"central nervous system\" + 0.020*\"coronavirus disease patient\" + 0.020*\"multisystem inflammatory syndrome\" + 0.020*\"mesenchymal stem cell\" + 0.020*\"severe acute respiratory\" + 0.020*\"acute kidney injury\" + 0.020*\"acute respiratory infection\" + 0.020*\"patient coronavirus disease\" + 0.020*\"inflammatory bowel disease\" + 0.020*\"case report multiple\" + 0.020*\"infectious bronchitis virus\" + 0.020*\"patient systematic review\" + 0.020*\"respiratory syncytial virus\" + 0.020*\"extracorporeal membrane oxygenation\" + 0.020*\"critically ill patient\" + 0.020*\"east respiratory syndrome\" + 0.020*\"infection case report\" + 0.020*\"personal protective equipment\" + 0.020*\"health care worker\" + 0.020*\"middle east respiratory\" + 0.020*\"first wave pandemic\" + 0.020*\"acute respiratory distress\" + 0.020*\"novel coronavirus disease\" + 0.020*\"convolutional neural network\" + 0.020*\"prospective observational study\" + 0.020*\"kidney transplant recipient\" + 0.020*\"protocol randomized controlled\" + 0.020*\"epidemic diarrhea virus\" + 0.020*\"among healthcare worker\" + 0.020*\"prospective cohort study\" + 0.020*\"randomized controlled trial\" + 0.020*\"new york city\" + 0.020*\"using machine learning\" + 0.020*\"randomised controlled trial\" + 0.020*\"respiratory syndrome coronavirus\" + 0.020*\"use case report\" + 0.020*\"knowledge attitude practice\" + 0.020*\"acute lung injury\" + 0.020*\"efficacy case report\" + 0.020*\"report multiple drug\" + 0.020*\"coronavirus disease pandemic\" + 0.020*\"acute respiratory syndrome\" + 0.020*\"lack efficacy case\" + 0.020*\"randomized clinical trial\" + 0.020*\"respiratory distress syndrome\" + 0.020*\"respiratory tract infection\" + 0.020*\"inflammatory syndrome child\" + 0.020*\"porcine epidemic diarrhea\" + 0.020*\"retrospective cohort study\"')]"
      ]
     },
     "execution_count": 104,
     "metadata": {},
     "output_type": "execute_result"
    }
   ],
   "source": [
    "topics = lda_model2.print_topics(num_words=1000)\n",
    "topics"
   ]
  },
  {
   "cell_type": "code",
   "execution_count": 105,
   "id": "e4879691",
   "metadata": {},
   "outputs": [
    {
     "name": "stderr",
     "output_type": "stream",
     "text": [
      "/Library/Frameworks/Python.framework/Versions/3.10/lib/python3.10/site-packages/pandas/core/dtypes/cast.py:1429: DeprecationWarning: np.find_common_type is deprecated.  Please use `np.result_type` or `np.promote_types`.\n",
      "See https://numpy.org/devdocs/release/1.25.0-notes.html and the docs for more information.  (Deprecated NumPy 1.25)\n",
      "  return np.find_common_type(types, [])\n"
     ]
    },
    {
     "data": {
      "text/html": [
       "\n",
       "<link rel=\"stylesheet\" type=\"text/css\" href=\"https://cdn.jsdelivr.net/gh/bmabey/pyLDAvis@3.4.0/pyLDAvis/js/ldavis.v1.0.0.css\">\n",
       "\n",
       "\n",
       "<div id=\"ldavis_el1001060801753929800119901\" style=\"background-color:white;\"></div>\n",
       "<script type=\"text/javascript\">\n",
       "\n",
       "var ldavis_el1001060801753929800119901_data = {\"mdsDat\": {\"x\": [-0.0, 0.0], \"y\": [0.0, 0.0], \"topics\": [1, 2], \"cluster\": [1, 1], \"Freq\": [98.85567097627973, 1.1443290237202697]}, \"tinfo\": {\"Term\": [\"retrospective cohort study\", \"porcine epidemic diarrhea\", \"inflammatory syndrome child\", \"respiratory tract infection\", \"respiratory distress syndrome\", \"randomized clinical trial\", \"lack efficacy case\", \"acute respiratory syndrome\", \"coronavirus disease pandemic\", \"report multiple drug\", \"efficacy case report\", \"acute lung injury\", \"knowledge attitude practice\", \"use case report\", \"respiratory syndrome coronavirus\", \"randomised controlled trial\", \"using machine learning\", \"new york city\", \"randomized controlled trial\", \"prospective cohort study\", \"among healthcare worker\", \"epidemic diarrhea virus\", \"protocol randomized controlled\", \"kidney transplant recipient\", \"prospective observational study\", \"convolutional neural network\", \"novel coronavirus disease\", \"acute respiratory distress\", \"first wave pandemic\", \"middle east respiratory\", \"intensive care unit\", \"central nervous system\", \"coronavirus disease patient\", \"multisystem inflammatory syndrome\", \"mesenchymal stem cell\", \"severe acute respiratory\", \"acute kidney injury\", \"acute respiratory infection\", \"patient coronavirus disease\", \"inflammatory bowel disease\", \"infectious bronchitis virus\", \"case report multiple\", \"patient systematic review\", \"respiratory syncytial virus\", \"extracorporeal membrane oxygenation\", \"critically ill patient\", \"east respiratory syndrome\", \"infection case report\", \"personal protective equipment\", \"health care worker\", \"middle east respiratory\", \"first wave pandemic\", \"acute respiratory distress\", \"novel coronavirus disease\", \"convolutional neural network\", \"prospective observational study\", \"kidney transplant recipient\", \"protocol randomized controlled\", \"epidemic diarrhea virus\", \"among healthcare worker\", \"retrospective cohort study\", \"porcine epidemic diarrhea\", \"inflammatory syndrome child\", \"respiratory tract infection\", \"respiratory distress syndrome\", \"randomized clinical trial\", \"lack efficacy case\", \"acute respiratory syndrome\", \"coronavirus disease pandemic\", \"report multiple drug\", \"efficacy case report\", \"acute lung injury\", \"knowledge attitude practice\", \"use case report\", \"respiratory syndrome coronavirus\", \"randomised controlled trial\", \"using machine learning\", \"new york city\", \"randomized controlled trial\", \"prospective cohort study\", \"among healthcare worker\", \"epidemic diarrhea virus\", \"protocol randomized controlled\", \"kidney transplant recipient\", \"prospective observational study\", \"convolutional neural network\", \"novel coronavirus disease\", \"acute respiratory distress\", \"first wave pandemic\", \"middle east respiratory\"], \"Freq\": [0.0, 0.0, 0.0, 0.0, 0.0, 0.0, 0.0, 0.0, 0.0, 0.0, 0.0, 0.0, 0.0, 0.0, 0.0, 0.0, 0.0, 0.0, 0.0, 0.0, 0.0, 1.0, 1.0, 1.0, 1.0, 1.0, 1.0, 1.0, 1.0, 1.0, 0.988602233892727, 0.9885812427271878, 0.9885795855299084, 0.9885791251973308, 0.9885765473348962, 0.988575810802772, 0.9885755346032254, 0.9885754425367099, 0.9885752584036789, 0.9885727726077598, 0.9885723122751822, 0.9885723122751822, 0.9885716678095735, 0.9885705630113872, 0.9885704709448717, 0.9885699185457786, 0.9885699185457786, 0.9885661438186422, 0.988563473889692, 0.9885631976901454, 0.9885630135571144, 0.9885622770249902, 0.9885622770249902, 0.9885620008254437, 0.9885608039607419, 0.9885596070960401, 0.9885590546969469, 0.9885585022978538, 0.9885574895661831, 0.9885535307060156, 0.01144512807286684, 0.011444573888366467, 0.01144440337005866, 0.01144413373798444, 0.011444092174146912, 0.01144404101865457, 0.011443977074289142, 0.01144395682524009, 0.011443941904888157, 0.011443907801226595, 0.011443871566086186, 0.011443804424502487, 0.011443799095805368, 0.011443784175453435, 0.011443713836651465, 0.011443669075595665, 0.01144356356739271, 0.011443494294330163, 0.011443493228590739, 0.011443464453626297, 0.01144340370647914, 0.011443266226093471, 0.011443229990953062, 0.011443212939122281, 0.0114431958872915, 0.011443152191975125, 0.011443110628137597, 0.011443102102222207, 0.011443101036482783, 0.01144307226151834], \"Total\": [0.0, 0.0, 0.0, 0.0, 0.0, 0.0, 0.0, 0.0, 0.0, 0.0, 0.0, 0.0, 0.0, 0.0, 0.0, 0.0, 0.0, 0.0, 0.0, 0.0, 0.0, 1.0, 1.0, 1.0, 1.0, 1.0, 1.0, 1.0, 1.0, 1.0, 1.000043954796656, 1.0000236893996644, 1.0000220865550957, 1.0000216432743487, 1.0000191517368076, 1.0000184439796478, 1.000018177371756, 1.0000180874367193, 1.0000179107638643, 1.0000155102270991, 1.0000150637491338, 1.0000150648148733, 1.0000144427297926, 1.0000133784297045, 1.000013291691886, 1.0000127542131447, 1.0000127542131447, 1.0000091137691758, 1.0000065322965979, 1.0000062667544456, 1.0000060858186328, 1.000005378061473, 1.0000053791272123, 1.0000051114535813, 1.000003956152717, 1.0000028029833317, 1.0000022676360691, 1.0000017322888068, 1.0000007557922765, 0.9999969344124947, 0.9999486666609537, 0.9999642241166699, 0.9999689331236847, 0.9999764891454299, 0.9999777365128096, 0.9999790663550502, 0.9999808437409952, 0.9999814679575548, 0.999982005436296, 0.9999827999312741, 0.99998386849432, 0.9999857347495622, 0.9999859135538962, 0.9999862668996063, 0.9999882220241458, 0.9999893741277919, 0.9999923988811167, 0.9999944471379111, 0.9999944460721717, 0.9999951538293315, 0.9999969344124947, 1.0000007557922765, 1.0000017322888068, 1.0000022676360691, 1.0000028029833317, 1.000003956152717, 1.0000051114535813, 1.0000053791272123, 1.000005378061473, 1.0000060858186328], \"Category\": [\"Default\", \"Default\", \"Default\", \"Default\", \"Default\", \"Default\", \"Default\", \"Default\", \"Default\", \"Default\", \"Default\", \"Default\", \"Default\", \"Default\", \"Default\", \"Default\", \"Default\", \"Default\", \"Default\", \"Default\", \"Default\", \"Default\", \"Default\", \"Default\", \"Default\", \"Default\", \"Default\", \"Default\", \"Default\", \"Default\", \"Topic1\", \"Topic1\", \"Topic1\", \"Topic1\", \"Topic1\", \"Topic1\", \"Topic1\", \"Topic1\", \"Topic1\", \"Topic1\", \"Topic1\", \"Topic1\", \"Topic1\", \"Topic1\", \"Topic1\", \"Topic1\", \"Topic1\", \"Topic1\", \"Topic1\", \"Topic1\", \"Topic1\", \"Topic1\", \"Topic1\", \"Topic1\", \"Topic1\", \"Topic1\", \"Topic1\", \"Topic1\", \"Topic1\", \"Topic1\", \"Topic2\", \"Topic2\", \"Topic2\", \"Topic2\", \"Topic2\", \"Topic2\", \"Topic2\", \"Topic2\", \"Topic2\", \"Topic2\", \"Topic2\", \"Topic2\", \"Topic2\", \"Topic2\", \"Topic2\", \"Topic2\", \"Topic2\", \"Topic2\", \"Topic2\", \"Topic2\", \"Topic2\", \"Topic2\", \"Topic2\", \"Topic2\", \"Topic2\", \"Topic2\", \"Topic2\", \"Topic2\", \"Topic2\", \"Topic2\"], \"logprob\": [30.0, 29.0, 28.0, 27.0, 26.0, 25.0, 24.0, 23.0, 22.0, 21.0, 20.0, 19.0, 18.0, 17.0, 16.0, 15.0, 14.0, 13.0, 12.0, 11.0, 10.0, 9.0, 8.0, 7.0, 6.0, 5.0, 4.0, 3.0, 2.0, 1.0, -3.912, -3.912, -3.912, -3.912, -3.912, -3.912, -3.912, -3.912, -3.912, -3.912, -3.912, -3.912, -3.912, -3.912, -3.912, -3.912, -3.912, -3.912, -3.912, -3.912, -3.912, -3.912, -3.912, -3.912, -3.912, -3.912, -3.912, -3.912, -3.912, -3.912, -3.9119, -3.9119, -3.9119, -3.9119, -3.912, -3.912, -3.912, -3.912, -3.912, -3.912, -3.912, -3.912, -3.912, -3.912, -3.912, -3.912, -3.912, -3.912, -3.912, -3.912, -3.912, -3.912, -3.912, -3.912, -3.912, -3.912, -3.912, -3.912, -3.912, -3.912], \"loglift\": [30.0, 29.0, 28.0, 27.0, 26.0, 25.0, 24.0, 23.0, 22.0, 21.0, 20.0, 19.0, 18.0, 17.0, 16.0, 15.0, 14.0, 13.0, 12.0, 11.0, 10.0, 9.0, 8.0, 7.0, 6.0, 5.0, 4.0, 3.0, 2.0, 1.0, 0.0, 0.0, 0.0, 0.0, 0.0, 0.0, 0.0, 0.0, 0.0, 0.0, 0.0, 0.0, 0.0, 0.0, 0.0, 0.0, 0.0, 0.0, 0.0, 0.0, 0.0, 0.0, 0.0, 0.0, 0.0, 0.0, 0.0, 0.0, 0.0, -0.0, 0.0002, 0.0001, 0.0001, 0.0001, 0.0001, 0.0001, 0.0001, 0.0001, 0.0001, 0.0001, 0.0001, 0.0001, 0.0001, 0.0001, 0.0, 0.0, 0.0, 0.0, 0.0, 0.0, 0.0, -0.0, -0.0, -0.0, -0.0, -0.0, -0.0, -0.0, -0.0, -0.0]}, \"token.table\": {\"Topic\": [1, 1, 1, 1, 1, 1, 1, 1, 1, 1, 1, 1, 1, 1, 1, 1, 1, 1, 1, 1, 1, 1, 1, 1, 1, 1, 1, 1, 1, 1, 1, 1, 1, 1, 1, 1, 1, 1, 1, 1, 1, 1, 1, 1, 1, 1, 1, 1, 1, 1], \"Freq\": [0.9999818229586548, 1.0000142654539381, 0.9999946209017225, 0.9999819128904301, 1.0000185323858881, 1.0000030655969032, 0.9999849354120719, 0.99997631116151, 0.9999960438629341, 1.000017994887514, 0.9999779139327094, 0.9999872459495232, 0.9999872459495232, 1.0000161317659098, 0.9999992442082947, 0.9999867084847807, 0.9999946219674504, 0.9999937332848263, 0.9999908863138842, 0.9999849364777793, 0.9999844900134643, 1.000031067841496, 0.9999560471352833, 0.999997732369073, 1.0000140866445346, 1.0000191566259742, 0.9999808486299745, 0.9999939142184041, 0.9999783571940725, 1.0000055528929235, 0.9999948885725456, 0.9999820895569255, 0.9999855574787969, 0.9999934677460728, 1.0000357771632897, 1.000004846194154, 0.999997197024525, 0.999998267714194, 1.0000106259851185, 1.0000209340831765, 1.0000055539586745, 1.0000172003645733, 1.0000222639828642, 0.9999866217492754, 1.0000117781145765, 1.0000235114073435, 1.0000513359742933, 0.9999815563605263, 1.0000137332889942, 1.0000076011766608], \"Term\": [\"acute kidney injury\", \"acute lung injury\", \"acute respiratory distress\", \"acute respiratory infection\", \"acute respiratory syndrome\", \"among healthcare worker\", \"case report multiple\", \"central nervous system\", \"convolutional neural network\", \"coronavirus disease pandemic\", \"coronavirus disease patient\", \"critically ill patient\", \"east respiratory syndrome\", \"efficacy case report\", \"epidemic diarrhea virus\", \"extracorporeal membrane oxygenation\", \"first wave pandemic\", \"health care worker\", \"infection case report\", \"infectious bronchitis virus\", \"inflammatory bowel disease\", \"inflammatory syndrome child\", \"intensive care unit\", \"kidney transplant recipient\", \"knowledge attitude practice\", \"lack efficacy case\", \"mesenchymal stem cell\", \"middle east respiratory\", \"multisystem inflammatory syndrome\", \"new york city\", \"novel coronavirus disease\", \"patient coronavirus disease\", \"patient systematic review\", \"personal protective equipment\", \"porcine epidemic diarrhea\", \"prospective cohort study\", \"prospective observational study\", \"protocol randomized controlled\", \"randomised controlled trial\", \"randomized clinical trial\", \"randomized controlled trial\", \"report multiple drug\", \"respiratory distress syndrome\", \"respiratory syncytial virus\", \"respiratory syndrome coronavirus\", \"respiratory tract infection\", \"retrospective cohort study\", \"severe acute respiratory\", \"use case report\", \"using machine learning\"]}, \"R\": 30, \"lambda.step\": 0.01, \"plot.opts\": {\"xlab\": \"PC1\", \"ylab\": \"PC2\"}, \"topic.order\": [2, 1]};\n",
       "\n",
       "function LDAvis_load_lib(url, callback){\n",
       "  var s = document.createElement('script');\n",
       "  s.src = url;\n",
       "  s.async = true;\n",
       "  s.onreadystatechange = s.onload = callback;\n",
       "  s.onerror = function(){console.warn(\"failed to load library \" + url);};\n",
       "  document.getElementsByTagName(\"head\")[0].appendChild(s);\n",
       "}\n",
       "\n",
       "if(typeof(LDAvis) !== \"undefined\"){\n",
       "   // already loaded: just create the visualization\n",
       "   !function(LDAvis){\n",
       "       new LDAvis(\"#\" + \"ldavis_el1001060801753929800119901\", ldavis_el1001060801753929800119901_data);\n",
       "   }(LDAvis);\n",
       "}else if(typeof define === \"function\" && define.amd){\n",
       "   // require.js is available: use it to load d3/LDAvis\n",
       "   require.config({paths: {d3: \"https://d3js.org/d3.v5\"}});\n",
       "   require([\"d3\"], function(d3){\n",
       "      window.d3 = d3;\n",
       "      LDAvis_load_lib(\"https://cdn.jsdelivr.net/gh/bmabey/pyLDAvis@3.4.0/pyLDAvis/js/ldavis.v3.0.0.js\", function(){\n",
       "        new LDAvis(\"#\" + \"ldavis_el1001060801753929800119901\", ldavis_el1001060801753929800119901_data);\n",
       "      });\n",
       "    });\n",
       "}else{\n",
       "    // require.js not available: dynamically load d3 & LDAvis\n",
       "    LDAvis_load_lib(\"https://d3js.org/d3.v5.js\", function(){\n",
       "         LDAvis_load_lib(\"https://cdn.jsdelivr.net/gh/bmabey/pyLDAvis@3.4.0/pyLDAvis/js/ldavis.v3.0.0.js\", function(){\n",
       "                 new LDAvis(\"#\" + \"ldavis_el1001060801753929800119901\", ldavis_el1001060801753929800119901_data);\n",
       "            })\n",
       "         });\n",
       "}\n",
       "</script>"
      ],
      "text/plain": [
       "<IPython.core.display.HTML object>"
      ]
     },
     "execution_count": 105,
     "metadata": {},
     "output_type": "execute_result"
    }
   ],
   "source": [
    "import pyLDAvis\n",
    "import pyLDAvis.gensim_models as gensimvis\n",
    "\n",
    "vis_data = gensimvis.prepare(lda_model2, corpus, dictionary)\n",
    "pyLDAvis.display(vis_data)"
   ]
  },
  {
   "cell_type": "code",
   "execution_count": 88,
   "id": "c39bf566",
   "metadata": {},
   "outputs": [],
   "source": [
    "pyLDAvis.save_html(vis_data, 'lda_title(trigram).html')"
   ]
  },
  {
   "cell_type": "code",
   "execution_count": null,
   "id": "3db79e43",
   "metadata": {},
   "outputs": [],
   "source": []
  }
 ],
 "metadata": {
  "kernelspec": {
   "display_name": "Python 3 (ipykernel)",
   "language": "python",
   "name": "python3"
  },
  "language_info": {
   "codemirror_mode": {
    "name": "ipython",
    "version": 3
   },
   "file_extension": ".py",
   "mimetype": "text/x-python",
   "name": "python",
   "nbconvert_exporter": "python",
   "pygments_lexer": "ipython3",
   "version": "3.10.9"
  }
 },
 "nbformat": 4,
 "nbformat_minor": 5
}
