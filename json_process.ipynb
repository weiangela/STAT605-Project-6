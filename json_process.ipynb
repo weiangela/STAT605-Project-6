{
 "cells": [
  {
   "cell_type": "code",
   "execution_count": 1,
   "id": "91e17621",
   "metadata": {},
   "outputs": [],
   "source": [
    "import json"
   ]
  },
  {
   "cell_type": "code",
   "execution_count": 2,
   "id": "d009ee62",
   "metadata": {},
   "outputs": [
    {
     "data": {
      "text/plain": [
       "'Background: Various transcription factors are involved in the process of mutually exclusive expression and clonal variation of the Plasmodium multigene (var) family. Recent studies revealed that a P. falciparum SWI/SNF-related matrix-associated actin-dependent regulator of chromatin (PfSWIB) might trigger stage-specific programmed cell death (PCD), and was not only crucial for the survival and development of parasite, but also had profound effects on the parasite by interacting with other unknown proteins. However, it remains unclear whether PfSIWB is involved in transcriptional regulation of this virulence gene and its functional properties.Methods: A conditional knockdown system \"PfSWIB-FKBP-LID\" was introduced to the parasite clone 3D7, and an integrated parasite line \"PfSWIB-HA-FKBP-LID\" was obtained by drug cycling and clone screening. Growth curve analysis (GCA) was performed to investigate the growth and development of different parasite lines during 96 h in vitro culturing, by assessing parasitemia. Finally, we performed qPCR assays to detect var gene expression profiling in various comparison groups, as well as the mutually exclusive expression pattern of the var genes within a single 48 h life-cycle of P. falciparum in different parasite lines. In addition, RNA-seq was applied to analyze the var gene expression in different lines.Results: GCA revealed that conditional knockdown of PfSWIB could interfere with the growth and development of P. falciparum. The parasitemia of PfSWIB∆ showed a significant decline at 96 h during in vitro culture compared with the PfSWIB and 3D7 lines (P < 0.0001). qPCR and RNA-seq analysis confirmed that depletion of PfSWIB not only silences upsA, upsC and partial upsB var genes, as well as removes the silencing of partial upsB var genes at the ring stage in PfSWIB∆ line, but also leads to aberrant expression of upsA and partial upsB/upsC var genes at the mature stage of P. falciparum, during a single 48-h life-cycle.We demonstrated that PfSWIB was involved in the process of clonal variation in var gene expression, and crucial for the survival and development of Plasmodium parasite. These findings could provide better understanding of the mechanism and function of PfSWIB contributing to the pathogenesis in malaria parasites.'"
      ]
     },
     "execution_count": 2,
     "metadata": {},
     "output_type": "execute_result"
    }
   ],
   "source": [
    "#open json file, try1.json is a input file\n",
    "with open('try1.json', 'r') as file:\n",
    "    data = json.load(file)\n",
    "abstract_text1 = data.get('abstract', [])[0].get('text', '')\n",
    "abstract_text2 = data.get('abstract', [])[1].get('text', '')\n",
    "abstract_text3 = data.get('abstract', [])[2].get('text', '')\n",
    "abstract_text4 = data.get('abstract', [])[3].get('text', '')\n",
    "text = abstract_text1 + abstract_text2 + abstract_text3 + abstract_text4\n",
    "text"
   ]
  },
  {
   "cell_type": "code",
   "execution_count": 7,
   "id": "3f9ed2ba",
   "metadata": {},
   "outputs": [
    {
     "name": "stderr",
     "output_type": "stream",
     "text": [
      "[nltk_data] Downloading package stopwords to\n",
      "[nltk_data]     /Users/mumumumu/nltk_data...\n",
      "[nltk_data]   Package stopwords is already up-to-date!\n",
      "[nltk_data] Downloading package punkt to /Users/mumumumu/nltk_data...\n",
      "[nltk_data]   Package punkt is already up-to-date!\n",
      "[nltk_data] Downloading package averaged_perceptron_tagger to\n",
      "[nltk_data]     /Users/mumumumu/nltk_data...\n",
      "[nltk_data]   Package averaged_perceptron_tagger is already up-to-\n",
      "[nltk_data]       date!\n"
     ]
    },
    {
     "data": {
      "text/plain": [
       "True"
      ]
     },
     "execution_count": 7,
     "metadata": {},
     "output_type": "execute_result"
    }
   ],
   "source": [
    "import nltk\n",
    "import re\n",
    "import ssl\n",
    "from nltk.corpus import stopwords\n",
    "from nltk.tokenize import word_tokenize\n",
    "from nltk.tag import pos_tag\n",
    "\n",
    "\n",
    "ssl._create_default_https_context = ssl._create_unverified_context\n",
    "\n",
    "nltk.download('stopwords')\n",
    "nltk.download('punkt')\n",
    "nltk.download('averaged_perceptron_tagger')\n"
   ]
  },
  {
   "cell_type": "code",
   "execution_count": 9,
   "id": "aa36cdb3",
   "metadata": {},
   "outputs": [
    {
     "data": {
      "text/plain": [
       "['transcription',\n",
       " 'factors',\n",
       " 'process',\n",
       " 'expression',\n",
       " 'variation',\n",
       " 'plasmodium',\n",
       " 'multigene',\n",
       " 'family',\n",
       " 'studies',\n",
       " 'falciparum',\n",
       " 'regulator',\n",
       " 'chromatin',\n",
       " 'pfswib',\n",
       " 'stagespecific',\n",
       " 'cell',\n",
       " 'death',\n",
       " 'pcd',\n",
       " 'survival',\n",
       " 'development',\n",
       " 'parasite',\n",
       " 'effects',\n",
       " 'parasite',\n",
       " 'proteins',\n",
       " 'pfsiwb',\n",
       " 'regulation',\n",
       " 'virulence',\n",
       " 'gene',\n",
       " 'propertiesmethods',\n",
       " 'system',\n",
       " 'pfswibfkbplid',\n",
       " 'parasite',\n",
       " 'clone',\n",
       " 'parasite',\n",
       " 'line',\n",
       " 'pfswibhafkbplid',\n",
       " 'drug',\n",
       " 'cycling',\n",
       " 'clone',\n",
       " 'screening',\n",
       " 'growth',\n",
       " 'analysis',\n",
       " 'gca',\n",
       " 'growth',\n",
       " 'development',\n",
       " 'lines',\n",
       " 'culturing',\n",
       " 'parasitemia',\n",
       " 'assays',\n",
       " 'gene',\n",
       " 'expression',\n",
       " 'comparison',\n",
       " 'groups',\n",
       " 'expression',\n",
       " 'pattern',\n",
       " 'var',\n",
       " 'genes',\n",
       " 'lifecycle',\n",
       " 'falciparum',\n",
       " 'parasite',\n",
       " 'lines',\n",
       " 'addition',\n",
       " 'rnaseq',\n",
       " 'var',\n",
       " 'gene',\n",
       " 'expression',\n",
       " 'linesresults',\n",
       " 'gca',\n",
       " 'knockdown',\n",
       " 'pfswib',\n",
       " 'growth',\n",
       " 'development',\n",
       " 'falciparum',\n",
       " 'parasitemia',\n",
       " 'pfswib',\n",
       " 'decline',\n",
       " 'culture',\n",
       " 'pfswib',\n",
       " 'lines',\n",
       " 'qpcr',\n",
       " 'analysis',\n",
       " 'depletion',\n",
       " 'pfswib',\n",
       " 'var',\n",
       " 'genes',\n",
       " 'removes',\n",
       " 'silencing',\n",
       " 'var',\n",
       " 'genes',\n",
       " 'ring',\n",
       " 'stage',\n",
       " 'line',\n",
       " 'expression',\n",
       " 'var',\n",
       " 'genes',\n",
       " 'mature',\n",
       " 'stage',\n",
       " 'falciparum',\n",
       " 'lifecyclewe',\n",
       " 'pfswib',\n",
       " 'process',\n",
       " 'variation',\n",
       " 'gene',\n",
       " 'expression',\n",
       " 'crucial',\n",
       " 'survival',\n",
       " 'development',\n",
       " 'plasmodium',\n",
       " 'parasite',\n",
       " 'findings',\n",
       " 'understanding',\n",
       " 'mechanism',\n",
       " 'function',\n",
       " 'pfswib',\n",
       " 'pathogenesis',\n",
       " 'malaria',\n",
       " 'parasites']"
      ]
     },
     "execution_count": 9,
     "metadata": {},
     "output_type": "execute_result"
    }
   ],
   "source": [
    "#do data cleaning, and filter nouns in the text\n",
    "text = re.sub(r'[^\\w\\s]', '', text)\n",
    "text = re.sub(r'\\d+', '', text)\n",
    "text = text.lower()\n",
    "text = re.sub(r'\\b\\w\\b', '', text)\n",
    "words_to_remove = ['background', 'method', 'result']\n",
    "for word in words_to_remove:\n",
    "    text = re.sub(r'\\b' + re.escape(word) + r'\\b', '', text, flags=re.IGNORECASE)\n",
    "\n",
    "tokens = word_tokenize(text)\n",
    "tagged_words = pos_tag(tokens)\n",
    "nouns = [word for word, pos in tagged_words if pos.startswith('NN')]\n",
    "stop_words = set(stopwords.words('english'))\n",
    "words = nltk.word_tokenize(text)\n",
    "text = ' '.join([word for word in words if word.lower() not in stop_words])\n",
    "\n",
    "filtered_nouns = [noun for noun in nouns if noun.lower() not in stop_words]\n",
    "filtered_nouns"
   ]
  },
  {
   "cell_type": "code",
   "execution_count": 10,
   "id": "ea93132c",
   "metadata": {},
   "outputs": [
    {
     "data": {
      "text/plain": [
       "'various transcription factors involved process mutually exclusive expression clonal variation plasmodium multigene var family recent studies revealed falciparum swisnfrelated matrixassociated actindependent regulator chromatin pfswib might trigger stagespecific programmed cell death pcd crucial survival development parasite also profound effects parasite interacting unknown proteins however remains unclear whether pfsiwb involved transcriptional regulation virulence gene functional propertiesmethods conditional knockdown system pfswibfkbplid introduced parasite clone integrated parasite line pfswibhafkbplid obtained drug cycling clone screening growth curve analysis gca performed investigate growth development different parasite lines vitro culturing assessing parasitemia finally performed qpcr assays detect var gene expression profiling various comparison groups well mutually exclusive expression pattern var genes within single lifecycle falciparum different parasite lines addition rnaseq applied analyze var gene expression different linesresults gca revealed conditional knockdown pfswib could interfere growth development falciparum parasitemia pfswib showed significant decline vitro culture compared pfswib lines qpcr rnaseq analysis confirmed depletion pfswib silences upsa upsc partial upsb var genes well removes silencing partial upsb var genes ring stage pfswib line also leads aberrant expression upsa partial upsbupsc var genes mature stage falciparum single lifecyclewe demonstrated pfswib involved process clonal variation var gene expression crucial survival development plasmodium parasite findings could provide better understanding mechanism function pfswib contributing pathogenesis malaria parasites'"
      ]
     },
     "execution_count": 10,
     "metadata": {},
     "output_type": "execute_result"
    }
   ],
   "source": [
    "text"
   ]
  },
  {
   "cell_type": "code",
   "execution_count": 11,
   "id": "c3db18c9",
   "metadata": {},
   "outputs": [
    {
     "data": {
      "text/plain": [
       "0    [transcription, factors, process, expression, ...\n",
       "Name: nouns, dtype: object"
      ]
     },
     "execution_count": 11,
     "metadata": {},
     "output_type": "execute_result"
    }
   ],
   "source": [
    "import pandas as pd\n",
    "df = pd.DataFrame({'abstract': [text],'nouns':[filtered_nouns]})\n",
    "df['abstract'] = df['abstract'].apply(lambda x: nltk.word_tokenize(str(x).lower()))\n",
    "df['nouns']"
   ]
  },
  {
   "cell_type": "code",
   "execution_count": 12,
   "id": "943fb4c5",
   "metadata": {},
   "outputs": [],
   "source": [
    "from gensim import corpora, models\n",
    "from pprint import pprint"
   ]
  },
  {
   "cell_type": "code",
   "execution_count": 13,
   "id": "4c521e33",
   "metadata": {},
   "outputs": [],
   "source": [
    "#do LDA\n",
    "data = df['nouns'].apply(lambda x: [str(x)] if not isinstance(x, list) else [str(item) for item in x])\n",
    "dictionary = corpora.Dictionary(data)\n",
    "corpus = [dictionary.doc2bow(doc) for doc in data]\n",
    "lda_model = models.LdaModel(corpus, num_topics=5, id2word=dictionary, passes=15)"
   ]
  },
  {
   "cell_type": "code",
   "execution_count": 14,
   "id": "27529420",
   "metadata": {},
   "outputs": [
    {
     "data": {
      "text/plain": [
       "['parasite',\n",
       " 'expression',\n",
       " 'pfswib',\n",
       " 'var',\n",
       " 'genes',\n",
       " 'gene',\n",
       " 'falciparum',\n",
       " 'lines',\n",
       " 'development',\n",
       " 'growth']"
      ]
     },
     "execution_count": 14,
     "metadata": {},
     "output_type": "execute_result"
    }
   ],
   "source": [
    "#Select the most significant topics and made a list \n",
    "topics = lda_model.print_topics()\n",
    "first_topic = lda_model.show_topic(0)\n",
    "topic_list = [word for word, _ in first_topic]\n",
    "topic_list"
   ]
  },
  {
   "cell_type": "code",
   "execution_count": 15,
   "id": "caa2f7bb",
   "metadata": {},
   "outputs": [],
   "source": [
    "#write csv file\n",
    "import csv\n",
    "\n",
    "csv_file_path = 'word_list1.csv'\n",
    "with open(csv_file_path, 'w', newline='') as csv_file:\n",
    "    writer = csv.writer(csv_file)\n",
    "    writer.writerow(topic_list)\n"
   ]
  },
  {
   "cell_type": "code",
   "execution_count": null,
   "id": "1f133ad0",
   "metadata": {},
   "outputs": [],
   "source": []
  }
 ],
 "metadata": {
  "kernelspec": {
   "display_name": "Python 3 (ipykernel)",
   "language": "python",
   "name": "python3"
  },
  "language_info": {
   "codemirror_mode": {
    "name": "ipython",
    "version": 3
   },
   "file_extension": ".py",
   "mimetype": "text/x-python",
   "name": "python",
   "nbconvert_exporter": "python",
   "pygments_lexer": "ipython3",
   "version": "3.10.9"
  }
 },
 "nbformat": 4,
 "nbformat_minor": 5
}
